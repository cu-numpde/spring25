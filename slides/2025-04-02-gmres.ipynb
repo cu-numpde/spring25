{
 "cells": [
  {
   "cell_type": "markdown",
   "id": "953a42c9",
   "metadata": {
    "slideshow": {
     "slide_type": "slide"
    }
   },
   "source": [
    "# 2025-04-02 GMRES"
   ]
  },
  {
   "cell_type": "markdown",
   "id": "f7e56b5d",
   "metadata": {},
   "source": [
    "## Last time\n",
    "\n",
    "* Cost of sparse solvers on large systems\n",
    "* Classical iterative methods: gradient descent\n",
    "* Convergence of gradient descent\n",
    "* Krylov subspaces\n",
    "\n",
    "## Today\n",
    "\n",
    "* How GMRES works (more math than usual, but worth it)"
   ]
  },
  {
   "cell_type": "markdown",
   "id": "9aa1ba6d",
   "metadata": {
    "slideshow": {
     "slide_type": "slide"
    }
   },
   "source": [
    "## Resources\n",
    "\n",
    "* Trefethen & Bau: Numerical Linear Algebra, Ch 33, 35.\n",
    "* [The GMRES paper](https://epubs.siam.org/doi/10.1137/0907058)\n",
    "* (extra) [On the convergence rate of GMRES](https://citeseerx.ist.psu.edu/document?repid=rep1&amp;type=pdf&amp;doi=35ee3114bf834b93101a6f02427a021e22204f5a)"
   ]
  },
  {
   "cell_type": "markdown",
   "id": "cb330ec7",
   "metadata": {
    "slideshow": {
     "slide_type": "slide"
    }
   },
   "source": [
    "## Methods\n",
    "\n",
    "\n",
    "|               | $Ax = b$                 | <div style=\"width:290px\"> $Ax = \\lambda x$</div>         |\n",
    "|---------------| :------------------------: | :----------------: |\n",
    "|$ A = A^* $    | CG (conjugate gradient)  | Lánczos          |\n",
    "|$ A \\neq A^* $ | GMRES, CGN, BCG          | Arnoldi          |\n",
    "\n",
    "* typically $\\mathcal{O}(N)$ steps, $\\mathcal{O}(N^2)$ work in each in _worst case_\n",
    "* if successful, can reduce one or both of these factors\n",
    "* number of iterations depends on spectral properties of $A$ (related to polynomial approximation)\n",
    "* work per step depends on whether structure of $A$ can be exploited in computing $x \\mapsto Ax$\n",
    "* _best case_: $\\mathcal{O}(N) \\to \\mathcal{O}(1)$ steps, $\\mathcal{O}(N^2) \\to \\mathcal{O}(N)$ work per step.\n"
   ]
  },
  {
   "cell_type": "markdown",
   "id": "3b6cba4b",
   "metadata": {
    "slideshow": {
     "slide_type": "slide"
    }
   },
   "source": [
    "## Krylov subspaces\n",
    "\n",
    "* iterative methods project an $N$-dimensional problem down to a lower dimensional **Krylov subspace**\n",
    "* given vector $b$ and matrix $A$, the set of vectors \n",
    "$$b, Ab, A^2b, \\ldots $$\n",
    "computed by a black box (which is only allowed to do matrix-vector multiplication) as \n",
    "$$b, Ab, A(Ab), A(A(Ab)), \\ldots $$\n",
    "define subspaces\n",
    "$$ \\text{span}\\{ b\\}, \\text{span}\\{b, Ab\\}, \\text{span}\\{ b, Ab, A^2b\\}, \\ldots $$\n",
    "* In each method, projection onto Krylov subspaces reduces the original prolem to a sequence of dimensions $n = 1, 2, 3, \\ldots$\n",
    "* Krylov \"matrix\" $K := [b|Ab|Ab^2|\\dots]$ horribly ill-conditioned. **Question**: why?"
   ]
  },
  {
   "cell_type": "markdown",
   "id": "7796ce8f",
   "metadata": {
    "slideshow": {
     "slide_type": "slide"
    }
   },
   "source": [
    "## Question: Why is the Krylov matrix so ill-conditioned?\n",
    "\n",
    "* Suppose $A$ has spectrum $\\{\\lambda_i\\}$ and eigenvectors $\\{v_i\\}$\n",
    "* Assume an ordering $\\lambda_1 \\gg \\lambda_2 \\geq \\lambda_3 \\geq \\lambda4 \\ldots$ and scaling such that $\\lambda_1 = 1$.\n",
    "* Then what happens to a vector $u$ not orthogonal to $v_1$ by the repeated application of $A$? "
   ]
  },
  {
   "cell_type": "markdown",
   "id": "f86c40a1",
   "metadata": {
    "slideshow": {
     "slide_type": "fragment"
    }
   },
   "source": [
    "_Hint_: decompose in terms of eigenvectors of $A$.\n",
    "* $\\rightarrow$ we'll need to construct a better-conditioned basis for the Krylov subspaces (Arnoldi iteration)"
   ]
  },
  {
   "cell_type": "markdown",
   "id": "aaba88dd",
   "metadata": {
    "slideshow": {
     "slide_type": "slide"
    }
   },
   "source": [
    "## Arnoldi iteration\n",
    "\n",
    "* Similar to Gram--Schmidt process, for transforming a matrix into [Hessenberg form](https://en.wikipedia.org/wiki/Hessenberg_matrix). That form is \"almost triangular\" (nonzeros allowed on first sub-/superdiagonal).\n",
    "* We'll rename $N \\to m$ (matrix size) and introduce another positive integer $n < m$. Assume $m$ is huge.\n",
    "* Complete reduction to Hessenberg form: \n",
    "$$ A = QHQ^{\\dagger} \\quad \\text{with $Q$ unitary, i.e. }\\; Q^{\\dagger}Q = I  $$ \n",
    "equivalently\n",
    "$$ AQ = QH $$\n",
    "* But since $m$ is huge, we'll only compute the first $n$ columns of $Q$ ($m \\times n$ matrix), which we call $Q_n$.\n",
    "* Let $\\tilde{H}_n$ be an $(n+1) \\times n $ upper-right section of the upper-right Hessenberg matrix $H$. Then\n",
    "$$ AQ_n = Q_{n+1} \\tilde{H}_n $$\n",
    "* The $n$th column of this equation is \n",
    "$$ Aq_n = q_1h_{1n} + q_2h_{2n} + \\ldots + q_{n+1}h_{n+1,n} $$\n",
    "* $\\to$ $q_{n+1}$ satisfies an $(n+1)$-term recurrence relation involving itself and previous Krylov basis vectors!"
   ]
  },
  {
   "cell_type": "markdown",
   "id": "a6da0308",
   "metadata": {
    "slideshow": {
     "slide_type": "slide"
    }
   },
   "source": [
    "$$ Aq_n = q_1h_{1n} + q_2h_{2n} + \\ldots + q_{n+1}h_{n+1,n} $$\n",
    "* $b$: arbitrary, $q_1 := b / ||b||$\n",
    "* **for** $n = 1, 2, 3, \\ldots$\n",
    "    * $v = Aq_n$\n",
    "    * **for** $j = 1$ to $n$:\n",
    "        * $h_{jn} := q_j^{\\dagger} v$\n",
    "        * $v := v - h_{jn}q_j$\n",
    "        * (At this point, $ v = h_{n+1, n} q_{n+1}$)\n",
    "        * $h_{n+1, n} := ||v||$\n",
    "        * $q_{n+1} := v / h_{n+1, n}$\n",
    "* Note that we only need to compute $Aq_n$ (column-by-column operation).\n",
    "* What this does is iteratively removes the contribution of each of the $q_i$ from $Aq_n$ in the above formula, until we're left with the term that contains $q_{n+1}$."
   ]
  },
  {
   "cell_type": "markdown",
   "id": "0fdef5f8",
   "metadata": {
    "slideshow": {
     "slide_type": "slide"
    }
   },
   "source": [
    "* Why useful? Projects onto Krylov subspace. To see: $Q_n^{\\dagger} Q_{n+1}$ is $n \\times (n+1)$ identity matrix,\n",
    "* so $Q_n^{\\dagger} Q_{n+1} \\tilde{H}_n$ deletes last row of $\\tilde{H}_n$ but it's still in Hessenberg form\n",
    "* from $AQ_n = Q_{n+1}\\tilde{H}_n$, substitute this to get $$H_n = Q_n^{\\dagger} A Q_n $$\n",
    "    * This is a representation of the matrix $A$ in the basis $\\{q_1, q_2, \\ldots, q_n \\}$\n",
    "    * Equivalently, the orthogonal projection of $A$ into $\\mathcal{K}_n$ ($n$th Krylov subspace)\n",
    "* Now consider the linear operator that maps $\\mathcal{K}_n \\mapsto \\mathcal{K}_n$:\n",
    "    * given $v \\in \\mathcal{K}_n$, apply $A$ to it, then orthogonally project $Av$ back into the space $\\mathcal{K}_n$\n",
    "    * Since orthogonal projection of $\\mathbb{C}^m$ onto $\\mathcal{K}_n$ is $Q_nQ_n^{\\dagger}$, this operation can be written \n",
    "    $$ Q_nQ_n^{\\dagger}A $$\n",
    "    (with respect to a standard basis in $\\mathbb{C}^m$)\n",
    "    and \n",
    "    $$ Q_n^{\\dagger}(Q_nQ_n^{\\dagger}A)Q_n = Q_n^{\\dagger}AQ_n $$\n",
    "    with respsect to the columns of $Q_n$ (i.e. in the basis defined by $Q_n$)."
   ]
  },
  {
   "cell_type": "markdown",
   "id": "8ac57203",
   "metadata": {
    "slideshow": {
     "slide_type": "slide"
    }
   },
   "source": [
    "## GMRES\n",
    "\n",
    "* $A$ is $m \\times m$ complex square matrix, $b$ is $m$-length complex vector, $\\mathcal{K}_n$ is $n$th Krylov subspace.\n",
    "* At step $n$, approximate $x_* = A^{-1}b$ by vector $x_n \\in \\mathcal{K}_n$ that minimizes norm of \n",
    "$$ r_n := b - Ax_n $$\n",
    "* Obivous way: let $K_n$ be $[b | Ab| A^2b | \\ldots | A^{n-1}b]$, an $m \\times n$ matrix, then\n",
    "$$ AK_n = [Ab | A^2b| \\ldots | A^{n}b] $$\n",
    "and find complex coefficient vector $c$ such that $|| AK_nc - b ||$ is minimized (this is unstable)\n",
    "* Instead use Arnoldi iteration to construct sequence of $Q_n$ matrices whose columns span $\\mathcal{K}_n$, and $x_n := Q_n y$ instead of $x_n = K_n c$. \n",
    "* so find $n$-element vector $y$ s.t. $|| AQ_ny - b || $ is minimal.\n",
    "* This looks like an $m \\times n$ problem, but is actually $(n+1) \\times n$, because\n",
    "$$ AQ_n = Q_{n+1} \\tilde{H}_n  $$\n",
    "$\\to$ we minimize $|| Q_{n+1}\\tilde{H}_n y - b ||$, where both terms are in the column space of $Q_{n+1}$.\n",
    "* Multiplication by $Q_{n+1}^{\\dagger}$ doesn't change the norm of the quantity we are minimizing, so instead minimize \n",
    "$$ || \\tilde{H}_n y - Q_{n+1}^{\\dagger} b || $$\n",
    "(but $Q_{n+1}^{\\dagger} b$ is just first basis vector in the $Q$ basis, so it's $||b||[1 0 0 \\ldots 0]$ by construction)\n",
    "* **At each step, GMRES solves this and sets $x_n = Q_n y$.**"
   ]
  },
  {
   "cell_type": "markdown",
   "id": "a3f916cf",
   "metadata": {
    "slideshow": {
     "slide_type": "slide"
    }
   },
   "source": [
    "* $q_1 = b / ||b||$\n",
    "* **for** $n = 1, 2, \\ldots$:\n",
    "    * < step n of Arnoldi iteration > \n",
    "    * Find $y$ to minimize $r_n := || \\tilde{H}_n y - b||e_1|| ||$\n",
    "    * $x_n := Q_n y$\n",
    "* Why is it guaranteed to work? $r_{n+1}  \\leq r_n$ because $$\\mathrm{col}( \\mathcal{K}_{n+1}) \\supset\n",
    "\\mathrm{col}(\\mathcal{K}_{n})$$ (the next Krylov subspace encloses the previous one)\n",
    "    * i.e. we are performing least squares in a larger space."
   ]
  },
  {
   "cell_type": "markdown",
   "id": "9cd8d39c",
   "metadata": {
    "slideshow": {
     "slide_type": "slide"
    }
   },
   "source": [
    "## Demo time!\n",
    "\n",
    "* Check out the matlab code [here](https://github.com/cu-numpde/spring25/blob/main/mygmres.m)\n",
    "* Julia version coming soon!"
   ]
  }
 ],
 "metadata": {
  "celltoolbar": "Slideshow",
  "kernelspec": {
   "display_name": "Julia 1.11.2",
   "language": "julia",
   "name": "julia-1.11"
  },
  "language_info": {
   "file_extension": ".jl",
   "mimetype": "application/julia",
   "name": "julia",
   "version": "1.11.2"
  }
 },
 "nbformat": 4,
 "nbformat_minor": 5
}
