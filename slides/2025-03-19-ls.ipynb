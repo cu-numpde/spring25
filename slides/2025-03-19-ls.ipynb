{
 "cells": [
  {
   "cell_type": "markdown",
   "id": "3471b94b",
   "metadata": {
    "cell_style": "center",
    "slideshow": {
     "slide_type": "slide"
    }
   },
   "source": [
    "# 2025-03-19 Linear solvers"
   ]
  },
  {
   "cell_type": "markdown",
   "id": "4159be0e",
   "metadata": {
    "cell_style": "split",
    "slideshow": {
     "slide_type": ""
    }
   },
   "source": [
    "## Last time\n",
    "\n",
    "* Wave equation and Hamiltonians\n",
    "* Symplectic integrators\n",
    "\n",
    "## Today\n",
    "\n",
    "* Sparse direct solvers\n",
    "  * matrix orderings\n",
    "  * impact on formulation\n",
    "  * cost scaling\n",
    "  "
   ]
  },
  {
   "cell_type": "code",
   "execution_count": 1,
   "id": "e82d841d",
   "metadata": {
    "hideOutput": true,
    "slideshow": {
     "slide_type": "skip"
    }
   },
   "outputs": [
    {
     "data": {
      "text/plain": [
       "ode_rk_explicit (generic function with 1 method)"
      ]
     },
     "execution_count": 1,
     "metadata": {},
     "output_type": "execute_result"
    }
   ],
   "source": [
    "using Plots\n",
    "default(linewidth=3)\n",
    "using LinearAlgebra\n",
    "using SparseArrays\n",
    "\n",
    "function my_spy(A)\n",
    "    cmax = norm(vec(A), Inf)\n",
    "    s = max(1, ceil(120 / size(A, 1)))\n",
    "    spy(A, marker=(:square, s), c=:diverging_rainbow_bgymr_45_85_c67_n256, clims=(-cmax, cmax))\n",
    "end\n",
    "    \n",
    "function plot_stability(Rz, title; xlims=(-2, 2), ylims=(-2, 2))\n",
    "    x = LinRange(xlims[1], xlims[2], 100)\n",
    "    y = LinRange(ylims[1], ylims[2], 100)\n",
    "    heatmap(x, y, (x, y) -> abs(Rz(x + 1im*y)), c=:bwr, clims=(0, 2), aspect_ratio=:equal, title=title)\n",
    "end\n",
    "\n",
    "struct RKTable\n",
    "    A::Matrix\n",
    "    b::Vector\n",
    "    c::Vector\n",
    "    function RKTable(A, b)\n",
    "        s = length(b)\n",
    "        A = reshape(A, s, s)\n",
    "        c = vec(sum(A, dims=2))\n",
    "        new(A, b, c)\n",
    "    end\n",
    "end\n",
    "\n",
    "function rk_stability(z, rk)\n",
    "    s = length(rk.b)\n",
    "    1 + z * rk.b' * ((I - z*rk.A) \\ ones(s))\n",
    "end\n",
    "\n",
    "rk4 = RKTable([0 0 0 0; .5 0 0 0; 0 .5 0 0; 0 0 1 0], [1, 2, 2, 1] / 6)\n",
    "\n",
    "function ode_rk_explicit(f, u0; tfinal=1., h=0.1, table=rk4)\n",
    "    u = copy(u0)\n",
    "    t = 0.\n",
    "    n, s = length(u), length(table.c)\n",
    "    fY = zeros(n, s)\n",
    "    thist = [t]\n",
    "    uhist = [u0]\n",
    "    while t < tfinal\n",
    "        tnext = min(t+h, tfinal)\n",
    "        h = tnext - t\n",
    "        for i in 1:s\n",
    "            ti = t + h * table.c[i]\n",
    "            Yi = u + h * sum(fY[:,1:i-1] * table.A[i,1:i-1], dims=2)\n",
    "            fY[:,i] = f(ti, Yi)\n",
    "        end\n",
    "        u += h * fY * table.b\n",
    "        t = tnext\n",
    "        push!(thist, t)\n",
    "        push!(uhist, u)\n",
    "    end\n",
    "    thist, hcat(uhist...)\n",
    "end"
   ]
  },
  {
   "cell_type": "code",
   "execution_count": 2,
   "id": "d43b2f05",
   "metadata": {
    "cell_style": "split",
    "slideshow": {
     "slide_type": "skip"
    }
   },
   "outputs": [
    {
     "data": {
      "text/plain": [
       "laplacian_matrix (generic function with 1 method)"
      ]
     },
     "execution_count": 2,
     "metadata": {},
     "output_type": "execute_result"
    }
   ],
   "source": [
    "function laplacian_matrix(n)\n",
    "    h = 2 / n\n",
    "    rows = Vector{Int64}()\n",
    "    cols = Vector{Int64}()\n",
    "    vals = Vector{Float64}()\n",
    "    wrap(i) = (i + n - 1) % n + 1\n",
    "    idx(i, j) = (wrap(i)-1)*n + wrap(j)\n",
    "    stencil_diffuse = [-1, -1, 4, -1, -1] / h^2\n",
    "    for i in 1:n\n",
    "        for j in 1:n\n",
    "            append!(rows, repeat([idx(i,j)], 5))\n",
    "            append!(cols, [idx(i-1,j), idx(i,j-1), idx(i,j), idx(i+1,j), idx(i,j+1)])\n",
    "            append!(vals, stencil_diffuse)\n",
    "        end\n",
    "    end\n",
    "    sparse(rows, cols, vals)\n",
    "end"
   ]
  },
  {
   "cell_type": "code",
   "execution_count": 3,
   "id": "08a74470",
   "metadata": {
    "cell_style": "split",
    "slideshow": {
     "slide_type": "skip"
    }
   },
   "outputs": [
    {
     "data": {
      "text/plain": [
       "wave_matrix (generic function with 1 method)"
      ]
     },
     "execution_count": 3,
     "metadata": {},
     "output_type": "execute_result"
    }
   ],
   "source": [
    "function wave_matrix(n; a=1)\n",
    "    Z = spzeros(n^2, n^2)\n",
    "    L = laplacian_matrix(n)\n",
    "    [Z I; -a^2*L Z]\n",
    "end"
   ]
  },
  {
   "cell_type": "code",
   "execution_count": 4,
   "id": "eff4eda9",
   "metadata": {
    "cell_style": "split",
    "slideshow": {
     "slide_type": "skip"
    }
   },
   "outputs": [
    {
     "data": {
      "text/plain": [
       "energy (generic function with 1 method)"
      ]
     },
     "execution_count": 4,
     "metadata": {},
     "output_type": "execute_result"
    }
   ],
   "source": [
    "function energy(sol, n)\n",
    "    L = laplacian_matrix(n)\n",
    "    rho = sol[1:end÷2]\n",
    "    rhodot = sol[end÷2+1:end]\n",
    "    kinetic = .5 * norm(rhodot)^2\n",
    "    potential = .5 * rho' * L * rho\n",
    "    kinetic + potential\n",
    "end"
   ]
  },
  {
   "cell_type": "code",
   "execution_count": 5,
   "id": "48d5c752",
   "metadata": {
    "cell_style": "split",
    "slideshow": {
     "slide_type": "skip"
    }
   },
   "outputs": [
    {
     "data": {
      "text/plain": [
       "wave_verlet (generic function with 1 method)"
      ]
     },
     "execution_count": 5,
     "metadata": {},
     "output_type": "execute_result"
    }
   ],
   "source": [
    "function wave_verlet(n, u0; tfinal=1., h=0.1)\n",
    "    L = laplacian_matrix(n)\n",
    "    u = copy(u0)\n",
    "    t = 0.\n",
    "    thist = [t]\n",
    "    uhist = [u0]\n",
    "    irho = 1:n^2\n",
    "    irhodot = n^2+1:2*n^2\n",
    "    accel = -L * u[irho]\n",
    "    while t < tfinal\n",
    "        tnext = min(t+h, tfinal)\n",
    "        h = tnext - t\n",
    "        u[irho] += h * u[irhodot] + h^2/2 * accel\n",
    "        accel_next = -L * u[irho]\n",
    "        u[irhodot] += h/2 * (accel + accel_next)\n",
    "        accel = accel_next\n",
    "        t = tnext\n",
    "        push!(thist, t)\n",
    "        push!(uhist, copy(u))\n",
    "    end\n",
    "    thist, hcat(uhist...)\n",
    "end"
   ]
  },
  {
   "cell_type": "markdown",
   "id": "b19fa945",
   "metadata": {
    "slideshow": {
     "slide_type": "slide"
    }
   },
   "source": [
    "# Start with advection-diffusion operator in 2D\n",
    "\n",
    "* Eliminate Dirichlet boundary conditions around all sides"
   ]
  },
  {
   "cell_type": "code",
   "execution_count": 6,
   "id": "7d8f9b81",
   "metadata": {
    "cell_style": "split",
    "slideshow": {
     "slide_type": ""
    }
   },
   "outputs": [
    {
     "data": {
      "text/plain": [
       "advdiff_matrix (generic function with 1 method)"
      ]
     },
     "execution_count": 6,
     "metadata": {},
     "output_type": "execute_result"
    }
   ],
   "source": [
    "function advdiff_matrix(n; kappa=1, wind=[0, 0])\n",
    "    h = 2 / (n + 1)\n",
    "    rows = Vector{Int64}()\n",
    "    cols = Vector{Int64}()\n",
    "    vals = Vector{Float64}()\n",
    "    idx((i, j),) = (i-1)*n + j\n",
    "    in_domain((i, j),) = 1 <= i <= n && 1 <= j <= n # What does this do?\n",
    "    stencil_advect = [-wind[1], -wind[2], 0, wind[1], wind[2]] / h\n",
    "    stencil_diffuse = [-1, -1, 4, -1, -1] * kappa / h^2\n",
    "    stencil = stencil_advect + stencil_diffuse\n",
    "    for i in 1:n\n",
    "        for j in 1:n\n",
    "            neighbors = [(i-1, j), (i, j-1), (i, j), (i+1, j), (i, j+1)]\n",
    "            mask = in_domain.(neighbors)\n",
    "            append!(rows, idx.(repeat([(i,j)], 5))[mask])\n",
    "            append!(cols, idx.(neighbors)[mask])\n",
    "            append!(vals, stencil[mask])\n",
    "        end\n",
    "    end\n",
    "    sparse(rows, cols, vals)\n",
    "end"
   ]
  },
  {
   "cell_type": "code",
   "execution_count": 7,
   "id": "d800d087",
   "metadata": {
    "cell_style": "split",
    "slideshow": {
     "slide_type": "subslide"
    }
   },
   "outputs": [
    {
     "name": "stdout",
     "output_type": "stream",
     "text": [
      "norm(A - A') = 0.0\n"
     ]
    },
    {
     "data": {
      "image/png": "[encoded data removed]",
      "image/svg+xml": [
       "<?xml version=\"1.0\" encoding=\"utf-8\"?>\n",
       "<svg xmlns=\"http://www.w3.org/2000/svg\" xmlns:xlink=\"http://www.w3.org/1999/xlink\" width=\"600\" height=\"400\" viewBox=\"0 0 2400 1600\">\n",
       "<defs>\n",
       "  <clipPath id=\"clip710\">\n",
       "    <rect x=\"0\" y=\"0\" width=\"2400\" height=\"1600\"/>\n",
       "  </clipPath>\n",
       "</defs>\n",
       "<path clip-path=\"url(#clip710)\" d=\"M0 1600 L2400 1600 L2400 0 L0 0  Z\" fill=\"#ffffff\" fill-rule=\"evenodd\" fill-opacity=\"1\"/>\n",
       "<defs>\n",
       "  <clipPath id=\"clip711\">\n",
       "    <rect x=\"480\" y=\"0\" width=\"1681\" height=\"1600\"/>\n",
       "  </clipPath>\n",
       "</defs>\n",
       "<path clip-path=\"url(#clip710)\" d=\"M407.124 1486.45 L1846.33 1486.45 L1846.33 47.2441 L407.124 47.2441  Z\" fill=\"#ffffff\" fill-rule=\"evenodd\" fill-opacity=\"1\"/>\n",
       "<defs>\n",
       "  <clipPath id=\"clip712\">\n",
       "    <rect x=\"407\" y=\"47\" width=\"1440\" height=\"1440\"/>\n",
       "  </clipPath>\n",
       "</defs>\n",
       "<polyline clip-path=\"url(#clip710)\" style=\"stroke:#000000; stroke-linecap:round; stroke-linejoin:round; stroke-width:4; stroke-opacity:1; fill:none\" points=\"407.124,1486.45 1846.33,1486.45 \"/>\n",
       "<polyline clip-path=\"url(#clip710)\" style=\"stroke:#000000; stroke-linecap:round; stroke-linejoin:round; stroke-width:4; stroke-opacity:1; fill:none\" points=\"674.146,1486.45 674.146,1467.55 \"/>\n",
       "<polyline clip-path=\"url(#clip710)\" style=\"stroke:#000000; stroke-linecap:round; stroke-linejoin:round; stroke-width:4; stroke-opacity:1; fill:none\" points=\"957.008,1486.45 957.008,1467.55 \"/>\n",
       "<polyline clip-path=\"url(#clip710)\" style=\"stroke:#000000; stroke-linecap:round; stroke-linejoin:round; stroke-width:4; stroke-opacity:1; fill:none\" points=\"1239.87,1486.45 1239.87,1467.55 \"/>\n",
       "<polyline clip-path=\"url(#clip710)\" style=\"stroke:#000000; stroke-linecap:round; stroke-linejoin:round; stroke-width:4; stroke-opacity:1; fill:none\" points=\"1522.73,1486.45 1522.73,1467.55 \"/>\n",
       "<polyline clip-path=\"url(#clip710)\" style=\"stroke:#000000; stroke-linecap:round; stroke-linejoin:round; stroke-width:4; stroke-opacity:1; fill:none\" points=\"1805.6,1486.45 1805.6,1467.55 \"/>\n",
       "<path clip-path=\"url(#clip710)\" d=\"M664.424 1514.29 L682.78 1514.29 L682.78 1518.22 L668.706 1518.22 L668.706 1526.7 Q669.725 1526.35 670.743 1526.19 Q671.762 1526 672.78 1526 Q678.567 1526 681.947 1529.17 Q685.326 1532.34 685.326 1537.76 Q685.326 1543.34 681.854 1546.44 Q678.382 1549.52 672.063 1549.52 Q669.887 1549.52 667.618 1549.15 Q665.373 1548.78 662.965 1548.04 L662.965 1543.34 Q665.049 1544.47 667.271 1545.03 Q669.493 1545.58 671.97 1545.58 Q675.975 1545.58 678.313 1543.48 Q680.651 1541.37 680.651 1537.76 Q680.651 1534.15 678.313 1532.04 Q675.975 1529.94 671.97 1529.94 Q670.095 1529.94 668.22 1530.35 Q666.368 1530.77 664.424 1531.65 L664.424 1514.29 Z\" fill=\"#000000\" fill-rule=\"nonzero\" fill-opacity=\"1\" /><path clip-path=\"url(#clip710)\" d=\"M931.696 1544.91 L939.335 1544.91 L939.335 1518.55 L931.025 1520.21 L931.025 1515.95 L939.288 1514.29 L943.964 1514.29 L943.964 1544.91 L951.603 1544.91 L951.603 1548.85 L931.696 1548.85 L931.696 1544.91 Z\" fill=\"#000000\" fill-rule=\"nonzero\" fill-opacity=\"1\" /><path clip-path=\"url(#clip710)\" d=\"M971.048 1517.37 Q967.436 1517.37 965.608 1520.93 Q963.802 1524.47 963.802 1531.6 Q963.802 1538.71 965.608 1542.27 Q967.436 1545.82 971.048 1545.82 Q974.682 1545.82 976.487 1542.27 Q978.316 1538.71 978.316 1531.6 Q978.316 1524.47 976.487 1520.93 Q974.682 1517.37 971.048 1517.37 M971.048 1513.66 Q976.858 1513.66 979.913 1518.27 Q982.992 1522.85 982.992 1531.6 Q982.992 1540.33 979.913 1544.94 Q976.858 1549.52 971.048 1549.52 Q965.237 1549.52 962.159 1544.94 Q959.103 1540.33 959.103 1531.6 Q959.103 1522.85 962.159 1518.27 Q965.237 1513.66 971.048 1513.66 Z\" fill=\"#000000\" fill-rule=\"nonzero\" fill-opacity=\"1\" /><path clip-path=\"url(#clip710)\" d=\"M1215.06 1544.91 L1222.69 1544.91 L1222.69 1518.55 L1214.38 1520.21 L1214.38 1515.95 L1222.65 1514.29 L1227.32 1514.29 L1227.32 1544.91 L1234.96 1544.91 L1234.96 1548.85 L1215.06 1548.85 L1215.06 1544.91 Z\" fill=\"#000000\" fill-rule=\"nonzero\" fill-opacity=\"1\" /><path clip-path=\"url(#clip710)\" d=\"M1244.45 1514.29 L1262.81 1514.29 L1262.81 1518.22 L1248.74 1518.22 L1248.74 1526.7 Q1249.75 1526.35 1250.77 1526.19 Q1251.79 1526 1252.81 1526 Q1258.6 1526 1261.98 1529.17 Q1265.36 1532.34 1265.36 1537.76 Q1265.36 1543.34 1261.88 1546.44 Q1258.41 1549.52 1252.09 1549.52 Q1249.92 1549.52 1247.65 1549.15 Q1245.4 1548.78 1243 1548.04 L1243 1543.34 Q1245.08 1544.47 1247.3 1545.03 Q1249.52 1545.58 1252 1545.58 Q1256 1545.58 1258.34 1543.48 Q1260.68 1541.37 1260.68 1537.76 Q1260.68 1534.15 1258.34 1532.04 Q1256 1529.94 1252 1529.94 Q1250.13 1529.94 1248.25 1530.35 Q1246.4 1530.77 1244.45 1531.65 L1244.45 1514.29 Z\" fill=\"#000000\" fill-rule=\"nonzero\" fill-opacity=\"1\" /><path clip-path=\"url(#clip710)\" d=\"M1501.51 1544.91 L1517.83 1544.91 L1517.83 1548.85 L1495.88 1548.85 L1495.88 1544.91 Q1498.54 1542.16 1503.13 1537.53 Q1507.73 1532.88 1508.91 1531.53 Q1511.16 1529.01 1512.04 1527.27 Q1512.94 1525.51 1512.94 1523.82 Q1512.94 1521.07 1511 1519.33 Q1509.08 1517.6 1505.97 1517.6 Q1503.77 1517.6 1501.32 1518.36 Q1498.89 1519.13 1496.11 1520.68 L1496.11 1515.95 Q1498.94 1514.82 1501.39 1514.24 Q1503.84 1513.66 1505.88 1513.66 Q1511.25 1513.66 1514.45 1516.35 Q1517.64 1519.03 1517.64 1523.52 Q1517.64 1525.65 1516.83 1527.57 Q1516.04 1529.47 1513.94 1532.07 Q1513.36 1532.74 1510.26 1535.95 Q1507.15 1539.15 1501.51 1544.91 Z\" fill=\"#000000\" fill-rule=\"nonzero\" fill-opacity=\"1\" /><path clip-path=\"url(#clip710)\" d=\"M1537.64 1517.37 Q1534.03 1517.37 1532.2 1520.93 Q1530.4 1524.47 1530.4 1531.6 Q1530.4 1538.71 1532.2 1542.27 Q1534.03 1545.82 1537.64 1545.82 Q1541.27 1545.82 1543.08 1542.27 Q1544.91 1538.71 1544.91 1531.6 Q1544.91 1524.47 1543.08 1520.93 Q1541.27 1517.37 1537.64 1517.37 M1537.64 1513.66 Q1543.45 1513.66 1546.51 1518.27 Q1549.58 1522.85 1549.58 1531.6 Q1549.58 1540.33 1546.51 1544.94 Q1543.45 1549.52 1537.64 1549.52 Q1531.83 1549.52 1528.75 1544.94 Q1525.7 1540.33 1525.7 1531.6 Q1525.7 1522.85 1528.75 1518.27 Q1531.83 1513.66 1537.64 1513.66 Z\" fill=\"#000000\" fill-rule=\"nonzero\" fill-opacity=\"1\" /><path clip-path=\"url(#clip710)\" d=\"M1784.87 1544.91 L1801.19 1544.91 L1801.19 1548.85 L1779.24 1548.85 L1779.24 1544.91 Q1781.9 1542.16 1786.49 1537.53 Q1791.09 1532.88 1792.27 1531.53 Q1794.52 1529.01 1795.4 1527.27 Q1796.3 1525.51 1796.3 1523.82 Q1796.3 1521.07 1794.36 1519.33 Q1792.44 1517.6 1789.33 1517.6 Q1787.13 1517.6 1784.68 1518.36 Q1782.25 1519.13 1779.47 1520.68 L1779.47 1515.95 Q1782.3 1514.82 1784.75 1514.24 Q1787.2 1513.66 1789.24 1513.66 Q1794.61 1513.66 1797.81 1516.35 Q1801 1519.03 1801 1523.52 Q1801 1525.65 1800.19 1527.57 Q1799.4 1529.47 1797.3 1532.07 Q1796.72 1532.74 1793.62 1535.95 Q1790.51 1539.15 1784.87 1544.91 Z\" fill=\"#000000\" fill-rule=\"nonzero\" fill-opacity=\"1\" /><path clip-path=\"url(#clip710)\" d=\"M1811.05 1514.29 L1829.4 1514.29 L1829.4 1518.22 L1815.33 1518.22 L1815.33 1526.7 Q1816.35 1526.35 1817.37 1526.19 Q1818.38 1526 1819.4 1526 Q1825.19 1526 1828.57 1529.17 Q1831.95 1532.34 1831.95 1537.76 Q1831.95 1543.34 1828.48 1546.44 Q1825.01 1549.52 1818.69 1549.52 Q1816.51 1549.52 1814.24 1549.15 Q1812 1548.78 1809.59 1548.04 L1809.59 1543.34 Q1811.67 1544.47 1813.89 1545.03 Q1816.12 1545.58 1818.59 1545.58 Q1822.6 1545.58 1824.94 1543.48 Q1827.27 1541.37 1827.27 1537.76 Q1827.27 1534.15 1824.94 1532.04 Q1822.6 1529.94 1818.59 1529.94 Q1816.72 1529.94 1814.84 1530.35 Q1812.99 1530.77 1811.05 1531.65 L1811.05 1514.29 Z\" fill=\"#000000\" fill-rule=\"nonzero\" fill-opacity=\"1\" /><polyline clip-path=\"url(#clip710)\" style=\"stroke:#000000; stroke-linecap:round; stroke-linejoin:round; stroke-width:4; stroke-opacity:1; fill:none\" points=\"407.124,47.2441 407.124,1486.45 \"/>\n",
       "<polyline clip-path=\"url(#clip710)\" style=\"stroke:#000000; stroke-linecap:round; stroke-linejoin:round; stroke-width:4; stroke-opacity:1; fill:none\" points=\"407.124,314.266 419.419,314.266 \"/>\n",
       "<polyline clip-path=\"url(#clip710)\" style=\"stroke:#000000; stroke-linecap:round; stroke-linejoin:round; stroke-width:4; stroke-opacity:1; fill:none\" points=\"407.124,597.129 419.419,597.129 \"/>\n",
       "<polyline clip-path=\"url(#clip710)\" style=\"stroke:#000000; stroke-linecap:round; stroke-linejoin:round; stroke-width:4; stroke-opacity:1; fill:none\" points=\"407.124,879.991 419.419,879.991 \"/>\n",
       "<polyline clip-path=\"url(#clip710)\" style=\"stroke:#000000; stroke-linecap:round; stroke-linejoin:round; stroke-width:4; stroke-opacity:1; fill:none\" points=\"407.124,1162.85 419.419,1162.85 \"/>\n",
       "<polyline clip-path=\"url(#clip710)\" style=\"stroke:#000000; stroke-linecap:round; stroke-linejoin:round; stroke-width:4; stroke-opacity:1; fill:none\" points=\"407.124,1445.72 419.419,1445.72 \"/>\n",
       "<path clip-path=\"url(#clip710)\" d=\"M350.221 296.986 L368.578 296.986 L368.578 300.921 L354.504 300.921 L354.504 309.394 Q355.522 309.046 356.541 308.884 Q357.559 308.699 358.578 308.699 Q364.365 308.699 367.744 311.87 Q371.124 315.042 371.124 320.458 Q371.124 326.037 367.652 329.139 Q364.179 332.217 357.86 332.217 Q355.684 332.217 353.416 331.847 Q351.17 331.477 348.763 330.736 L348.763 326.037 Q350.846 327.171 353.068 327.727 Q355.291 328.282 357.767 328.282 Q361.772 328.282 364.11 326.176 Q366.448 324.069 366.448 320.458 Q366.448 316.847 364.11 314.741 Q361.772 312.634 357.767 312.634 Q355.892 312.634 354.017 313.051 Q352.166 313.468 350.221 314.347 L350.221 296.986 Z\" fill=\"#000000\" fill-rule=\"nonzero\" fill-opacity=\"1\" /><path clip-path=\"url(#clip710)\" d=\"M319.828 610.473 L327.467 610.473 L327.467 584.108 L319.157 585.774 L319.157 581.515 L327.42 579.849 L332.096 579.849 L332.096 610.473 L339.735 610.473 L339.735 614.409 L319.828 614.409 L319.828 610.473 Z\" fill=\"#000000\" fill-rule=\"nonzero\" fill-opacity=\"1\" /><path clip-path=\"url(#clip710)\" d=\"M359.179 582.927 Q355.568 582.927 353.74 586.492 Q351.934 590.034 351.934 597.163 Q351.934 604.27 353.74 607.835 Q355.568 611.376 359.179 611.376 Q362.814 611.376 364.619 607.835 Q366.448 604.27 366.448 597.163 Q366.448 590.034 364.619 586.492 Q362.814 582.927 359.179 582.927 M359.179 579.224 Q364.99 579.224 368.045 583.83 Q371.124 588.413 371.124 597.163 Q371.124 605.89 368.045 610.497 Q364.99 615.08 359.179 615.08 Q353.369 615.08 350.291 610.497 Q347.235 605.89 347.235 597.163 Q347.235 588.413 350.291 583.83 Q353.369 579.224 359.179 579.224 Z\" fill=\"#000000\" fill-rule=\"nonzero\" fill-opacity=\"1\" /><path clip-path=\"url(#clip710)\" d=\"M320.823 893.336 L328.462 893.336 L328.462 866.97 L320.152 868.637 L320.152 864.378 L328.416 862.711 L333.092 862.711 L333.092 893.336 L340.73 893.336 L340.73 897.271 L320.823 897.271 L320.823 893.336 Z\" fill=\"#000000\" fill-rule=\"nonzero\" fill-opacity=\"1\" /><path clip-path=\"url(#clip710)\" d=\"M350.221 862.711 L368.578 862.711 L368.578 866.646 L354.504 866.646 L354.504 875.118 Q355.522 874.771 356.541 874.609 Q357.559 874.424 358.578 874.424 Q364.365 874.424 367.744 877.595 Q371.124 880.766 371.124 886.183 Q371.124 891.762 367.652 894.864 Q364.179 897.942 357.86 897.942 Q355.684 897.942 353.416 897.572 Q351.17 897.201 348.763 896.461 L348.763 891.762 Q350.846 892.896 353.068 893.452 Q355.291 894.007 357.767 894.007 Q361.772 894.007 364.11 891.901 Q366.448 889.794 366.448 886.183 Q366.448 882.572 364.11 880.465 Q361.772 878.359 357.767 878.359 Q355.892 878.359 354.017 878.776 Q352.166 879.192 350.221 880.072 L350.221 862.711 Z\" fill=\"#000000\" fill-rule=\"nonzero\" fill-opacity=\"1\" /><path clip-path=\"url(#clip710)\" d=\"M323.045 1176.2 L339.365 1176.2 L339.365 1180.13 L317.42 1180.13 L317.42 1176.2 Q320.082 1173.44 324.666 1168.81 Q329.272 1164.16 330.453 1162.82 Q332.698 1160.3 333.578 1158.56 Q334.481 1156.8 334.481 1155.11 Q334.481 1152.36 332.536 1150.62 Q330.615 1148.88 327.513 1148.88 Q325.314 1148.88 322.86 1149.65 Q320.43 1150.41 317.652 1151.96 L317.652 1147.24 Q320.476 1146.11 322.93 1145.53 Q325.383 1144.95 327.42 1144.95 Q332.791 1144.95 335.985 1147.63 Q339.18 1150.32 339.18 1154.81 Q339.18 1156.94 338.369 1158.86 Q337.582 1160.76 335.476 1163.35 Q334.897 1164.02 331.795 1167.24 Q328.694 1170.43 323.045 1176.2 Z\" fill=\"#000000\" fill-rule=\"nonzero\" fill-opacity=\"1\" /><path clip-path=\"url(#clip710)\" d=\"M359.179 1148.65 Q355.568 1148.65 353.74 1152.22 Q351.934 1155.76 351.934 1162.89 Q351.934 1169.99 353.74 1173.56 Q355.568 1177.1 359.179 1177.1 Q362.814 1177.1 364.619 1173.56 Q366.448 1169.99 366.448 1162.89 Q366.448 1155.76 364.619 1152.22 Q362.814 1148.65 359.179 1148.65 M359.179 1144.95 Q364.99 1144.95 368.045 1149.55 Q371.124 1154.14 371.124 1162.89 Q371.124 1171.61 368.045 1176.22 Q364.99 1180.8 359.179 1180.8 Q353.369 1180.8 350.291 1176.22 Q347.235 1171.61 347.235 1162.89 Q347.235 1154.14 350.291 1149.55 Q353.369 1144.95 359.179 1144.95 Z\" fill=\"#000000\" fill-rule=\"nonzero\" fill-opacity=\"1\" /><path clip-path=\"url(#clip710)\" d=\"M324.041 1459.06 L340.36 1459.06 L340.36 1463 L318.416 1463 L318.416 1459.06 Q321.078 1456.31 325.661 1451.68 Q330.268 1447.02 331.448 1445.68 Q333.693 1443.16 334.573 1441.42 Q335.476 1439.66 335.476 1437.97 Q335.476 1435.22 333.531 1433.48 Q331.61 1431.75 328.508 1431.75 Q326.309 1431.75 323.856 1432.51 Q321.425 1433.27 318.647 1434.82 L318.647 1430.1 Q321.471 1428.97 323.925 1428.39 Q326.379 1427.81 328.416 1427.81 Q333.786 1427.81 336.98 1430.5 Q340.175 1433.18 340.175 1437.67 Q340.175 1439.8 339.365 1441.72 Q338.578 1443.62 336.471 1446.21 Q335.893 1446.88 332.791 1450.1 Q329.689 1453.3 324.041 1459.06 Z\" fill=\"#000000\" fill-rule=\"nonzero\" fill-opacity=\"1\" /><path clip-path=\"url(#clip710)\" d=\"M350.221 1428.44 L368.578 1428.44 L368.578 1432.37 L354.504 1432.37 L354.504 1440.84 Q355.522 1440.5 356.541 1440.33 Q357.559 1440.15 358.578 1440.15 Q364.365 1440.15 367.744 1443.32 Q371.124 1446.49 371.124 1451.91 Q371.124 1457.49 367.652 1460.59 Q364.179 1463.67 357.86 1463.67 Q355.684 1463.67 353.416 1463.3 Q351.17 1462.93 348.763 1462.19 L348.763 1457.49 Q350.846 1458.62 353.068 1459.18 Q355.291 1459.73 357.767 1459.73 Q361.772 1459.73 364.11 1457.63 Q366.448 1455.52 366.448 1451.91 Q366.448 1448.3 364.11 1446.19 Q361.772 1444.08 357.767 1444.08 Q355.892 1444.08 354.017 1444.5 Q352.166 1444.92 350.221 1445.8 L350.221 1428.44 Z\" fill=\"#000000\" fill-rule=\"nonzero\" fill-opacity=\"1\" /><path clip-path=\"url(#clip712)\" d=\"M427.856 67.9763 L427.856 107.976 L467.856 107.976 L467.856 67.9763 L427.856 67.9763 Z\" fill=\"#d60400\" fill-rule=\"evenodd\" fill-opacity=\"1\" stroke=\"none\"/>\n",
       "<path clip-path=\"url(#clip712)\" d=\"M427.856 124.549 L427.856 164.549 L467.856 164.549 L467.856 124.549 L427.856 124.549 Z\" fill=\"#b1c115\" fill-rule=\"evenodd\" fill-opacity=\"1\" stroke=\"none\"/>\n",
       "<path clip-path=\"url(#clip712)\" d=\"M427.856 350.839 L427.856 390.839 L467.856 390.839 L467.856 350.839 L427.856 350.839 Z\" fill=\"#b1c115\" fill-rule=\"evenodd\" fill-opacity=\"1\" stroke=\"none\"/>\n",
       "<path clip-path=\"url(#clip712)\" d=\"M484.428 67.9763 L484.428 107.976 L524.428 107.976 L524.428 67.9763 L484.428 67.9763 Z\" fill=\"#b1c115\" fill-rule=\"evenodd\" fill-opacity=\"1\" stroke=\"none\"/>\n",
       "<path clip-path=\"url(#clip712)\" d=\"M484.428 124.549 L484.428 164.549 L524.428 164.549 L524.428 124.549 L484.428 124.549 Z\" fill=\"#d60400\" fill-rule=\"evenodd\" fill-opacity=\"1\" stroke=\"none\"/>\n",
       "<path clip-path=\"url(#clip712)\" d=\"M484.428 181.121 L484.428 221.121 L524.428 221.121 L524.428 181.121 L484.428 181.121 Z\" fill=\"#b1c115\" fill-rule=\"evenodd\" fill-opacity=\"1\" stroke=\"none\"/>\n",
       "<path clip-path=\"url(#clip712)\" d=\"M484.428 407.411 L484.428 447.411 L524.428 447.411 L524.428 407.411 L484.428 407.411 Z\" fill=\"#b1c115\" fill-rule=\"evenodd\" fill-opacity=\"1\" stroke=\"none\"/>\n",
       "<path clip-path=\"url(#clip712)\" d=\"M541.001 124.549 L541.001 164.549 L581.001 164.549 L581.001 124.549 L541.001 124.549 Z\" fill=\"#b1c115\" fill-rule=\"evenodd\" fill-opacity=\"1\" stroke=\"none\"/>\n",
       "<path clip-path=\"url(#clip712)\" d=\"M541.001 181.121 L541.001 221.121 L581.001 221.121 L581.001 181.121 L541.001 181.121 Z\" fill=\"#d60400\" fill-rule=\"evenodd\" fill-opacity=\"1\" stroke=\"none\"/>\n",
       "<path clip-path=\"url(#clip712)\" d=\"M541.001 237.694 L541.001 277.694 L581.001 277.694 L581.001 237.694 L541.001 237.694 Z\" fill=\"#b1c115\" fill-rule=\"evenodd\" fill-opacity=\"1\" stroke=\"none\"/>\n",
       "<path clip-path=\"url(#clip712)\" d=\"M541.001 463.984 L541.001 503.984 L581.001 503.984 L581.001 463.984 L541.001 463.984 Z\" fill=\"#b1c115\" fill-rule=\"evenodd\" fill-opacity=\"1\" stroke=\"none\"/>\n",
       "<path clip-path=\"url(#clip712)\" d=\"M597.573 181.121 L597.573 221.121 L637.573 221.121 L637.573 181.121 L597.573 181.121 Z\" fill=\"#b1c115\" fill-rule=\"evenodd\" fill-opacity=\"1\" stroke=\"none\"/>\n",
       "<path clip-path=\"url(#clip712)\" d=\"M597.573 237.694 L597.573 277.694 L637.573 277.694 L637.573 237.694 L597.573 237.694 Z\" fill=\"#d60400\" fill-rule=\"evenodd\" fill-opacity=\"1\" stroke=\"none\"/>\n",
       "<path clip-path=\"url(#clip712)\" d=\"M597.573 294.266 L597.573 334.266 L637.573 334.266 L637.573 294.266 L597.573 294.266 Z\" fill=\"#b1c115\" fill-rule=\"evenodd\" fill-opacity=\"1\" stroke=\"none\"/>\n",
       "<path clip-path=\"url(#clip712)\" d=\"M597.573 520.556 L597.573 560.556 L637.573 560.556 L637.573 520.556 L597.573 520.556 Z\" fill=\"#b1c115\" fill-rule=\"evenodd\" fill-opacity=\"1\" stroke=\"none\"/>\n",
       "<path clip-path=\"url(#clip712)\" d=\"M654.146 237.694 L654.146 277.694 L694.146 277.694 L694.146 237.694 L654.146 237.694 Z\" fill=\"#b1c115\" fill-rule=\"evenodd\" fill-opacity=\"1\" stroke=\"none\"/>\n",
       "<path clip-path=\"url(#clip712)\" d=\"M654.146 294.266 L654.146 334.266 L694.146 334.266 L694.146 294.266 L654.146 294.266 Z\" fill=\"#d60400\" fill-rule=\"evenodd\" fill-opacity=\"1\" stroke=\"none\"/>\n",
       "<path clip-path=\"url(#clip712)\" d=\"M654.146 577.129 L654.146 617.129 L694.146 617.129 L694.146 577.129 L654.146 577.129 Z\" fill=\"#b1c115\" fill-rule=\"evenodd\" fill-opacity=\"1\" stroke=\"none\"/>\n",
       "<path clip-path=\"url(#clip712)\" d=\"M710.718 67.9763 L710.718 107.976 L750.718 107.976 L750.718 67.9763 L710.718 67.9763 Z\" fill=\"#b1c115\" fill-rule=\"evenodd\" fill-opacity=\"1\" stroke=\"none\"/>\n",
       "<path clip-path=\"url(#clip712)\" d=\"M710.718 350.839 L710.718 390.839 L750.718 390.839 L750.718 350.839 L710.718 350.839 Z\" fill=\"#d60400\" fill-rule=\"evenodd\" fill-opacity=\"1\" stroke=\"none\"/>\n",
       "<path clip-path=\"url(#clip712)\" d=\"M710.718 407.411 L710.718 447.411 L750.718 447.411 L750.718 407.411 L710.718 407.411 Z\" fill=\"#b1c115\" fill-rule=\"evenodd\" fill-opacity=\"1\" stroke=\"none\"/>\n",
       "<path clip-path=\"url(#clip712)\" d=\"M710.718 633.701 L710.718 673.701 L750.718 673.701 L750.718 633.701 L710.718 633.701 Z\" fill=\"#b1c115\" fill-rule=\"evenodd\" fill-opacity=\"1\" stroke=\"none\"/>\n",
       "<path clip-path=\"url(#clip712)\" d=\"M767.291 124.549 L767.291 164.549 L807.291 164.549 L807.291 124.549 L767.291 124.549 Z\" fill=\"#b1c115\" fill-rule=\"evenodd\" fill-opacity=\"1\" stroke=\"none\"/>\n",
       "<path clip-path=\"url(#clip712)\" d=\"M767.291 350.839 L767.291 390.839 L807.291 390.839 L807.291 350.839 L767.291 350.839 Z\" fill=\"#b1c115\" fill-rule=\"evenodd\" fill-opacity=\"1\" stroke=\"none\"/>\n",
       "<path clip-path=\"url(#clip712)\" d=\"M767.291 407.411 L767.291 447.411 L807.291 447.411 L807.291 407.411 L767.291 407.411 Z\" fill=\"#d60400\" fill-rule=\"evenodd\" fill-opacity=\"1\" stroke=\"none\"/>\n",
       "<path clip-path=\"url(#clip712)\" d=\"M767.291 463.984 L767.291 503.984 L807.291 503.984 L807.291 463.984 L767.291 463.984 Z\" fill=\"#b1c115\" fill-rule=\"evenodd\" fill-opacity=\"1\" stroke=\"none\"/>\n",
       "<path clip-path=\"url(#clip712)\" d=\"M767.291 690.274 L767.291 730.274 L807.291 730.274 L807.291 690.274 L767.291 690.274 Z\" fill=\"#b1c115\" fill-rule=\"evenodd\" fill-opacity=\"1\" stroke=\"none\"/>\n",
       "<path clip-path=\"url(#clip712)\" d=\"M823.863 181.121 L823.863 221.121 L863.863 221.121 L863.863 181.121 L823.863 181.121 Z\" fill=\"#b1c115\" fill-rule=\"evenodd\" fill-opacity=\"1\" stroke=\"none\"/>\n",
       "<path clip-path=\"url(#clip712)\" d=\"M823.863 407.411 L823.863 447.411 L863.863 447.411 L863.863 407.411 L823.863 407.411 Z\" fill=\"#b1c115\" fill-rule=\"evenodd\" fill-opacity=\"1\" stroke=\"none\"/>\n",
       "<path clip-path=\"url(#clip712)\" d=\"M823.863 463.984 L823.863 503.984 L863.863 503.984 L863.863 463.984 L823.863 463.984 Z\" fill=\"#d60400\" fill-rule=\"evenodd\" fill-opacity=\"1\" stroke=\"none\"/>\n",
       "<path clip-path=\"url(#clip712)\" d=\"M823.863 520.556 L823.863 560.556 L863.863 560.556 L863.863 520.556 L823.863 520.556 Z\" fill=\"#b1c115\" fill-rule=\"evenodd\" fill-opacity=\"1\" stroke=\"none\"/>\n",
       "<path clip-path=\"url(#clip712)\" d=\"M823.863 746.846 L823.863 786.846 L863.863 786.846 L863.863 746.846 L823.863 746.846 Z\" fill=\"#b1c115\" fill-rule=\"evenodd\" fill-opacity=\"1\" stroke=\"none\"/>\n",
       "<path clip-path=\"url(#clip712)\" d=\"M880.436 237.694 L880.436 277.694 L920.436 277.694 L920.436 237.694 L880.436 237.694 Z\" fill=\"#b1c115\" fill-rule=\"evenodd\" fill-opacity=\"1\" stroke=\"none\"/>\n",
       "<path clip-path=\"url(#clip712)\" d=\"M880.436 463.984 L880.436 503.984 L920.436 503.984 L920.436 463.984 L880.436 463.984 Z\" fill=\"#b1c115\" fill-rule=\"evenodd\" fill-opacity=\"1\" stroke=\"none\"/>\n",
       "<path clip-path=\"url(#clip712)\" d=\"M880.436 520.556 L880.436 560.556 L920.436 560.556 L920.436 520.556 L880.436 520.556 Z\" fill=\"#d60400\" fill-rule=\"evenodd\" fill-opacity=\"1\" stroke=\"none\"/>\n",
       "<path clip-path=\"url(#clip712)\" d=\"M880.436 577.129 L880.436 617.129 L920.436 617.129 L920.436 577.129 L880.436 577.129 Z\" fill=\"#b1c115\" fill-rule=\"evenodd\" fill-opacity=\"1\" stroke=\"none\"/>\n",
       "<path clip-path=\"url(#clip712)\" d=\"M880.436 803.418 L880.436 843.418 L920.436 843.418 L920.436 803.418 L880.436 803.418 Z\" fill=\"#b1c115\" fill-rule=\"evenodd\" fill-opacity=\"1\" stroke=\"none\"/>\n",
       "<path clip-path=\"url(#clip712)\" d=\"M937.008 294.266 L937.008 334.266 L977.008 334.266 L977.008 294.266 L937.008 294.266 Z\" fill=\"#b1c115\" fill-rule=\"evenodd\" fill-opacity=\"1\" stroke=\"none\"/>\n",
       "<path clip-path=\"url(#clip712)\" d=\"M937.008 520.556 L937.008 560.556 L977.008 560.556 L977.008 520.556 L937.008 520.556 Z\" fill=\"#b1c115\" fill-rule=\"evenodd\" fill-opacity=\"1\" stroke=\"none\"/>\n",
       "<path clip-path=\"url(#clip712)\" d=\"M937.008 577.129 L937.008 617.129 L977.008 617.129 L977.008 577.129 L937.008 577.129 Z\" fill=\"#d60400\" fill-rule=\"evenodd\" fill-opacity=\"1\" stroke=\"none\"/>\n",
       "<path clip-path=\"url(#clip712)\" d=\"M937.008 859.991 L937.008 899.991 L977.008 899.991 L977.008 859.991 L937.008 859.991 Z\" fill=\"#b1c115\" fill-rule=\"evenodd\" fill-opacity=\"1\" stroke=\"none\"/>\n",
       "<path clip-path=\"url(#clip712)\" d=\"M993.581 350.839 L993.581 390.839 L1033.58 390.839 L1033.58 350.839 L993.581 350.839 Z\" fill=\"#b1c115\" fill-rule=\"evenodd\" fill-opacity=\"1\" stroke=\"none\"/>\n",
       "<path clip-path=\"url(#clip712)\" d=\"M993.581 633.701 L993.581 673.701 L1033.58 673.701 L1033.58 633.701 L993.581 633.701 Z\" fill=\"#d60400\" fill-rule=\"evenodd\" fill-opacity=\"1\" stroke=\"none\"/>\n",
       "<path clip-path=\"url(#clip712)\" d=\"M993.581 690.274 L993.581 730.274 L1033.58 730.274 L1033.58 690.274 L993.581 690.274 Z\" fill=\"#b1c115\" fill-rule=\"evenodd\" fill-opacity=\"1\" stroke=\"none\"/>\n",
       "<path clip-path=\"url(#clip712)\" d=\"M993.581 916.563 L993.581 956.563 L1033.58 956.563 L1033.58 916.563 L993.581 916.563 Z\" fill=\"#b1c115\" fill-rule=\"evenodd\" fill-opacity=\"1\" stroke=\"none\"/>\n",
       "<path clip-path=\"url(#clip712)\" d=\"M1050.15 407.411 L1050.15 447.411 L1090.15 447.411 L1090.15 407.411 L1050.15 407.411 Z\" fill=\"#b1c115\" fill-rule=\"evenodd\" fill-opacity=\"1\" stroke=\"none\"/>\n",
       "<path clip-path=\"url(#clip712)\" d=\"M1050.15 633.701 L1050.15 673.701 L1090.15 673.701 L1090.15 633.701 L1050.15 633.701 Z\" fill=\"#b1c115\" fill-rule=\"evenodd\" fill-opacity=\"1\" stroke=\"none\"/>\n",
       "<path clip-path=\"url(#clip712)\" d=\"M1050.15 690.274 L1050.15 730.274 L1090.15 730.274 L1090.15 690.274 L1050.15 690.274 Z\" fill=\"#d60400\" fill-rule=\"evenodd\" fill-opacity=\"1\" stroke=\"none\"/>\n",
       "<path clip-path=\"url(#clip712)\" d=\"M1050.15 746.846 L1050.15 786.846 L1090.15 786.846 L1090.15 746.846 L1050.15 746.846 Z\" fill=\"#b1c115\" fill-rule=\"evenodd\" fill-opacity=\"1\" stroke=\"none\"/>\n",
       "<path clip-path=\"url(#clip712)\" d=\"M1050.15 973.136 L1050.15 1013.14 L1090.15 1013.14 L1090.15 973.136 L1050.15 973.136 Z\" fill=\"#b1c115\" fill-rule=\"evenodd\" fill-opacity=\"1\" stroke=\"none\"/>\n",
       "<path clip-path=\"url(#clip712)\" d=\"M1106.73 463.984 L1106.73 503.984 L1146.73 503.984 L1146.73 463.984 L1106.73 463.984 Z\" fill=\"#b1c115\" fill-rule=\"evenodd\" fill-opacity=\"1\" stroke=\"none\"/>\n",
       "<path clip-path=\"url(#clip712)\" d=\"M1106.73 690.274 L1106.73 730.274 L1146.73 730.274 L1146.73 690.274 L1106.73 690.274 Z\" fill=\"#b1c115\" fill-rule=\"evenodd\" fill-opacity=\"1\" stroke=\"none\"/>\n",
       "<path clip-path=\"url(#clip712)\" d=\"M1106.73 746.846 L1106.73 786.846 L1146.73 786.846 L1146.73 746.846 L1106.73 746.846 Z\" fill=\"#d60400\" fill-rule=\"evenodd\" fill-opacity=\"1\" stroke=\"none\"/>\n",
       "<path clip-path=\"url(#clip712)\" d=\"M1106.73 803.418 L1106.73 843.418 L1146.73 843.418 L1146.73 803.418 L1106.73 803.418 Z\" fill=\"#b1c115\" fill-rule=\"evenodd\" fill-opacity=\"1\" stroke=\"none\"/>\n",
       "<path clip-path=\"url(#clip712)\" d=\"M1106.73 1029.71 L1106.73 1069.71 L1146.73 1069.71 L1146.73 1029.71 L1106.73 1029.71 Z\" fill=\"#b1c115\" fill-rule=\"evenodd\" fill-opacity=\"1\" stroke=\"none\"/>\n",
       "<path clip-path=\"url(#clip712)\" d=\"M1163.3 520.556 L1163.3 560.556 L1203.3 560.556 L1203.3 520.556 L1163.3 520.556 Z\" fill=\"#b1c115\" fill-rule=\"evenodd\" fill-opacity=\"1\" stroke=\"none\"/>\n",
       "<path clip-path=\"url(#clip712)\" d=\"M1163.3 746.846 L1163.3 786.846 L1203.3 786.846 L1203.3 746.846 L1163.3 746.846 Z\" fill=\"#b1c115\" fill-rule=\"evenodd\" fill-opacity=\"1\" stroke=\"none\"/>\n",
       "<path clip-path=\"url(#clip712)\" d=\"M1163.3 803.418 L1163.3 843.418 L1203.3 843.418 L1203.3 803.418 L1163.3 803.418 Z\" fill=\"#d60400\" fill-rule=\"evenodd\" fill-opacity=\"1\" stroke=\"none\"/>\n",
       "<path clip-path=\"url(#clip712)\" d=\"M1163.3 859.991 L1163.3 899.991 L1203.3 899.991 L1203.3 859.991 L1163.3 859.991 Z\" fill=\"#b1c115\" fill-rule=\"evenodd\" fill-opacity=\"1\" stroke=\"none\"/>\n",
       "<path clip-path=\"url(#clip712)\" d=\"M1163.3 1086.28 L1163.3 1126.28 L1203.3 1126.28 L1203.3 1086.28 L1163.3 1086.28 Z\" fill=\"#b1c115\" fill-rule=\"evenodd\" fill-opacity=\"1\" stroke=\"none\"/>\n",
       "<path clip-path=\"url(#clip712)\" d=\"M1219.87 577.129 L1219.87 617.129 L1259.87 617.129 L1259.87 577.129 L1219.87 577.129 Z\" fill=\"#b1c115\" fill-rule=\"evenodd\" fill-opacity=\"1\" stroke=\"none\"/>\n",
       "<path clip-path=\"url(#clip712)\" d=\"M1219.87 803.418 L1219.87 843.418 L1259.87 843.418 L1259.87 803.418 L1219.87 803.418 Z\" fill=\"#b1c115\" fill-rule=\"evenodd\" fill-opacity=\"1\" stroke=\"none\"/>\n",
       "<path clip-path=\"url(#clip712)\" d=\"M1219.87 859.991 L1219.87 899.991 L1259.87 899.991 L1259.87 859.991 L1219.87 859.991 Z\" fill=\"#d60400\" fill-rule=\"evenodd\" fill-opacity=\"1\" stroke=\"none\"/>\n",
       "<path clip-path=\"url(#clip712)\" d=\"M1219.87 1142.85 L1219.87 1182.85 L1259.87 1182.85 L1259.87 1142.85 L1219.87 1142.85 Z\" fill=\"#b1c115\" fill-rule=\"evenodd\" fill-opacity=\"1\" stroke=\"none\"/>\n",
       "<path clip-path=\"url(#clip712)\" d=\"M1276.44 633.701 L1276.44 673.701 L1316.44 673.701 L1316.44 633.701 L1276.44 633.701 Z\" fill=\"#b1c115\" fill-rule=\"evenodd\" fill-opacity=\"1\" stroke=\"none\"/>\n",
       "<path clip-path=\"url(#clip712)\" d=\"M1276.44 916.563 L1276.44 956.563 L1316.44 956.563 L1316.44 916.563 L1276.44 916.563 Z\" fill=\"#d60400\" fill-rule=\"evenodd\" fill-opacity=\"1\" stroke=\"none\"/>\n",
       "<path clip-path=\"url(#clip712)\" d=\"M1276.44 973.136 L1276.44 1013.14 L1316.44 1013.14 L1316.44 973.136 L1276.44 973.136 Z\" fill=\"#b1c115\" fill-rule=\"evenodd\" fill-opacity=\"1\" stroke=\"none\"/>\n",
       "<path clip-path=\"url(#clip712)\" d=\"M1276.44 1199.43 L1276.44 1239.43 L1316.44 1239.43 L1316.44 1199.43 L1276.44 1199.43 Z\" fill=\"#b1c115\" fill-rule=\"evenodd\" fill-opacity=\"1\" stroke=\"none\"/>\n",
       "<path clip-path=\"url(#clip712)\" d=\"M1333.02 690.274 L1333.02 730.274 L1373.02 730.274 L1373.02 690.274 L1333.02 690.274 Z\" fill=\"#b1c115\" fill-rule=\"evenodd\" fill-opacity=\"1\" stroke=\"none\"/>\n",
       "<path clip-path=\"url(#clip712)\" d=\"M1333.02 916.563 L1333.02 956.563 L1373.02 956.563 L1373.02 916.563 L1333.02 916.563 Z\" fill=\"#b1c115\" fill-rule=\"evenodd\" fill-opacity=\"1\" stroke=\"none\"/>\n",
       "<path clip-path=\"url(#clip712)\" d=\"M1333.02 973.136 L1333.02 1013.14 L1373.02 1013.14 L1373.02 973.136 L1333.02 973.136 Z\" fill=\"#d60400\" fill-rule=\"evenodd\" fill-opacity=\"1\" stroke=\"none\"/>\n",
       "<path clip-path=\"url(#clip712)\" d=\"M1333.02 1029.71 L1333.02 1069.71 L1373.02 1069.71 L1373.02 1029.71 L1333.02 1029.71 Z\" fill=\"#b1c115\" fill-rule=\"evenodd\" fill-opacity=\"1\" stroke=\"none\"/>\n",
       "<path clip-path=\"url(#clip712)\" d=\"M1333.02 1256 L1333.02 1296 L1373.02 1296 L1373.02 1256 L1333.02 1256 Z\" fill=\"#b1c115\" fill-rule=\"evenodd\" fill-opacity=\"1\" stroke=\"none\"/>\n",
       "<path clip-path=\"url(#clip712)\" d=\"M1389.59 746.846 L1389.59 786.846 L1429.59 786.846 L1429.59 746.846 L1389.59 746.846 Z\" fill=\"#b1c115\" fill-rule=\"evenodd\" fill-opacity=\"1\" stroke=\"none\"/>\n",
       "<path clip-path=\"url(#clip712)\" d=\"M1389.59 973.136 L1389.59 1013.14 L1429.59 1013.14 L1429.59 973.136 L1389.59 973.136 Z\" fill=\"#b1c115\" fill-rule=\"evenodd\" fill-opacity=\"1\" stroke=\"none\"/>\n",
       "<path clip-path=\"url(#clip712)\" d=\"M1389.59 1029.71 L1389.59 1069.71 L1429.59 1069.71 L1429.59 1029.71 L1389.59 1029.71 Z\" fill=\"#d60400\" fill-rule=\"evenodd\" fill-opacity=\"1\" stroke=\"none\"/>\n",
       "<path clip-path=\"url(#clip712)\" d=\"M1389.59 1086.28 L1389.59 1126.28 L1429.59 1126.28 L1429.59 1086.28 L1389.59 1086.28 Z\" fill=\"#b1c115\" fill-rule=\"evenodd\" fill-opacity=\"1\" stroke=\"none\"/>\n",
       "<path clip-path=\"url(#clip712)\" d=\"M1389.59 1312.57 L1389.59 1352.57 L1429.59 1352.57 L1429.59 1312.57 L1389.59 1312.57 Z\" fill=\"#b1c115\" fill-rule=\"evenodd\" fill-opacity=\"1\" stroke=\"none\"/>\n",
       "<path clip-path=\"url(#clip712)\" d=\"M1446.16 803.418 L1446.16 843.418 L1486.16 843.418 L1486.16 803.418 L1446.16 803.418 Z\" fill=\"#b1c115\" fill-rule=\"evenodd\" fill-opacity=\"1\" stroke=\"none\"/>\n",
       "<path clip-path=\"url(#clip712)\" d=\"M1446.16 1029.71 L1446.16 1069.71 L1486.16 1069.71 L1486.16 1029.71 L1446.16 1029.71 Z\" fill=\"#b1c115\" fill-rule=\"evenodd\" fill-opacity=\"1\" stroke=\"none\"/>\n",
       "<path clip-path=\"url(#clip712)\" d=\"M1446.16 1086.28 L1446.16 1126.28 L1486.16 1126.28 L1486.16 1086.28 L1446.16 1086.28 Z\" fill=\"#d60400\" fill-rule=\"evenodd\" fill-opacity=\"1\" stroke=\"none\"/>\n",
       "<path clip-path=\"url(#clip712)\" d=\"M1446.16 1142.85 L1446.16 1182.85 L1486.16 1182.85 L1486.16 1142.85 L1446.16 1142.85 Z\" fill=\"#b1c115\" fill-rule=\"evenodd\" fill-opacity=\"1\" stroke=\"none\"/>\n",
       "<path clip-path=\"url(#clip712)\" d=\"M1446.16 1369.14 L1446.16 1409.14 L1486.16 1409.14 L1486.16 1369.14 L1446.16 1369.14 Z\" fill=\"#b1c115\" fill-rule=\"evenodd\" fill-opacity=\"1\" stroke=\"none\"/>\n",
       "<path clip-path=\"url(#clip712)\" d=\"M1502.73 859.991 L1502.73 899.991 L1542.73 899.991 L1542.73 859.991 L1502.73 859.991 Z\" fill=\"#b1c115\" fill-rule=\"evenodd\" fill-opacity=\"1\" stroke=\"none\"/>\n",
       "<path clip-path=\"url(#clip712)\" d=\"M1502.73 1086.28 L1502.73 1126.28 L1542.73 1126.28 L1542.73 1086.28 L1502.73 1086.28 Z\" fill=\"#b1c115\" fill-rule=\"evenodd\" fill-opacity=\"1\" stroke=\"none\"/>\n",
       "<path clip-path=\"url(#clip712)\" d=\"M1502.73 1142.85 L1502.73 1182.85 L1542.73 1182.85 L1542.73 1142.85 L1502.73 1142.85 Z\" fill=\"#d60400\" fill-rule=\"evenodd\" fill-opacity=\"1\" stroke=\"none\"/>\n",
       "<path clip-path=\"url(#clip712)\" d=\"M1502.73 1425.72 L1502.73 1465.72 L1542.73 1465.72 L1542.73 1425.72 L1502.73 1425.72 Z\" fill=\"#b1c115\" fill-rule=\"evenodd\" fill-opacity=\"1\" stroke=\"none\"/>\n",
       "<path clip-path=\"url(#clip712)\" d=\"M1559.31 916.563 L1559.31 956.563 L1599.31 956.563 L1599.31 916.563 L1559.31 916.563 Z\" fill=\"#b1c115\" fill-rule=\"evenodd\" fill-opacity=\"1\" stroke=\"none\"/>\n",
       "<path clip-path=\"url(#clip712)\" d=\"M1559.31 1199.43 L1559.31 1239.43 L1599.31 1239.43 L1599.31 1199.43 L1559.31 1199.43 Z\" fill=\"#d60400\" fill-rule=\"evenodd\" fill-opacity=\"1\" stroke=\"none\"/>\n",
       "<path clip-path=\"url(#clip712)\" d=\"M1559.31 1256 L1559.31 1296 L1599.31 1296 L1599.31 1256 L1559.31 1256 Z\" fill=\"#b1c115\" fill-rule=\"evenodd\" fill-opacity=\"1\" stroke=\"none\"/>\n",
       "<path clip-path=\"url(#clip712)\" d=\"M1615.88 973.136 L1615.88 1013.14 L1655.88 1013.14 L1655.88 973.136 L1615.88 973.136 Z\" fill=\"#b1c115\" fill-rule=\"evenodd\" fill-opacity=\"1\" stroke=\"none\"/>\n",
       "<path clip-path=\"url(#clip712)\" d=\"M1615.88 1199.43 L1615.88 1239.43 L1655.88 1239.43 L1655.88 1199.43 L1615.88 1199.43 Z\" fill=\"#b1c115\" fill-rule=\"evenodd\" fill-opacity=\"1\" stroke=\"none\"/>\n",
       "<path clip-path=\"url(#clip712)\" d=\"M1615.88 1256 L1615.88 1296 L1655.88 1296 L1655.88 1256 L1615.88 1256 Z\" fill=\"#d60400\" fill-rule=\"evenodd\" fill-opacity=\"1\" stroke=\"none\"/>\n",
       "<path clip-path=\"url(#clip712)\" d=\"M1615.88 1312.57 L1615.88 1352.57 L1655.88 1352.57 L1655.88 1312.57 L1615.88 1312.57 Z\" fill=\"#b1c115\" fill-rule=\"evenodd\" fill-opacity=\"1\" stroke=\"none\"/>\n",
       "<path clip-path=\"url(#clip712)\" d=\"M1672.45 1029.71 L1672.45 1069.71 L1712.45 1069.71 L1712.45 1029.71 L1672.45 1029.71 Z\" fill=\"#b1c115\" fill-rule=\"evenodd\" fill-opacity=\"1\" stroke=\"none\"/>\n",
       "<path clip-path=\"url(#clip712)\" d=\"M1672.45 1256 L1672.45 1296 L1712.45 1296 L1712.45 1256 L1672.45 1256 Z\" fill=\"#b1c115\" fill-rule=\"evenodd\" fill-opacity=\"1\" stroke=\"none\"/>\n",
       "<path clip-path=\"url(#clip712)\" d=\"M1672.45 1312.57 L1672.45 1352.57 L1712.45 1352.57 L1712.45 1312.57 L1672.45 1312.57 Z\" fill=\"#d60400\" fill-rule=\"evenodd\" fill-opacity=\"1\" stroke=\"none\"/>\n",
       "<path clip-path=\"url(#clip712)\" d=\"M1672.45 1369.14 L1672.45 1409.14 L1712.45 1409.14 L1712.45 1369.14 L1672.45 1369.14 Z\" fill=\"#b1c115\" fill-rule=\"evenodd\" fill-opacity=\"1\" stroke=\"none\"/>\n",
       "<path clip-path=\"url(#clip712)\" d=\"M1729.02 1086.28 L1729.02 1126.28 L1769.02 1126.28 L1769.02 1086.28 L1729.02 1086.28 Z\" fill=\"#b1c115\" fill-rule=\"evenodd\" fill-opacity=\"1\" stroke=\"none\"/>\n",
       "<path clip-path=\"url(#clip712)\" d=\"M1729.02 1312.57 L1729.02 1352.57 L1769.02 1352.57 L1769.02 1312.57 L1729.02 1312.57 Z\" fill=\"#b1c115\" fill-rule=\"evenodd\" fill-opacity=\"1\" stroke=\"none\"/>\n",
       "<path clip-path=\"url(#clip712)\" d=\"M1729.02 1369.14 L1729.02 1409.14 L1769.02 1409.14 L1769.02 1369.14 L1729.02 1369.14 Z\" fill=\"#d60400\" fill-rule=\"evenodd\" fill-opacity=\"1\" stroke=\"none\"/>\n",
       "<path clip-path=\"url(#clip712)\" d=\"M1729.02 1425.72 L1729.02 1465.72 L1769.02 1465.72 L1769.02 1425.72 L1729.02 1425.72 Z\" fill=\"#b1c115\" fill-rule=\"evenodd\" fill-opacity=\"1\" stroke=\"none\"/>\n",
       "<path clip-path=\"url(#clip712)\" d=\"M1785.6 1142.85 L1785.6 1182.85 L1825.6 1182.85 L1825.6 1142.85 L1785.6 1142.85 Z\" fill=\"#b1c115\" fill-rule=\"evenodd\" fill-opacity=\"1\" stroke=\"none\"/>\n",
       "<path clip-path=\"url(#clip712)\" d=\"M1785.6 1369.14 L1785.6 1409.14 L1825.6 1409.14 L1825.6 1369.14 L1785.6 1369.14 Z\" fill=\"#b1c115\" fill-rule=\"evenodd\" fill-opacity=\"1\" stroke=\"none\"/>\n",
       "<path clip-path=\"url(#clip712)\" d=\"M1785.6 1425.72 L1785.6 1465.72 L1825.6 1465.72 L1825.6 1425.72 L1785.6 1425.72 Z\" fill=\"#d60400\" fill-rule=\"evenodd\" fill-opacity=\"1\" stroke=\"none\"/>\n",
       "<defs>\n",
       "  <clipPath id=\"clip713\">\n",
       "    <rect x=\"1894\" y=\"47\" width=\"73\" height=\"1440\"/>\n",
       "  </clipPath>\n",
       "</defs>\n",
       "<g clip-path=\"url(#clip713)\">\n",
       "<image width=\"72\" height=\"1439\" xlink:href=\"data:image/png;base64,\n",
       "iVBORw0KGgoAAAANSUhEUgAAAEgAAAWfCAYAAAAI7rB3AAAMnklEQVR4nO3dwZHjRhBFQYBTu/5b\n",
       "J2OkJbAWqN4ROGRawHjxg4xGDznnP3PcB//r8/QLeDuBgkBBoCBQmPPn99Ov4dUsKAgUBAoCBYHC\n",
       "nB+fYhsLCgIFgYJAYc6fX0+/hlezoCBQECgIFAQKc358im0sKAgUBAoCBYHCnJ95+jW8mgUFgYJA\n",
       "QaDgTTpYUBAoCBQECgIFn2LBgoJAQaAgUPAmHSwoCBQECgIFgcKcp0+xjQUFgYJAQaAgUJjz8/P0\n",
       "a3g1CwoCBYGCQMEDs2BBQaAgUBAoCBTmPB01NhYUBAoCBYGCQMFZLFhQECgIFAQKjhrBgoJAQaAg\n",
       "UBAo+BQLFhQECgIFgcIcngetLCgIFAQKAgWBgqNGsKAgUBAoCBQECr7MEiwoCBQECgIF35sPFhQE\n",
       "CgIFgYJAwQOzYEFBoCBQECgIFObwwGxlQUGgIFAQKHhgFiwoCBQECgIFgYIHZsGCgkBBoCBQ8CYd\n",
       "LCgIFAQKAgWBgq9kBgsKAgWBgkBBoOAsFiwoCBQECgIFb9LBgoJAQaAgUBAozOEvzFYWFAQKAgWB\n",
       "gkDBr78ECwoCBYGCQMEDs2BBQaAgUBAoCBQ8MAsWFAQKAgWBgqNGsKAgUBAoCBQECj7FggUFgYJA\n",
       "QaAgUPCVzGBBQaAgUBAoOGoECwoCBYGCQEGg4G4+WFAQKAgUBAqOGsGCgkBBoCBQECjM4VNsZUFB\n",
       "oCBQECgIFOZ0N7+yoCBQECgIFBw1ggUFgYJAQaAgUPApFiwoCBQECgIFgYI/XggWFAQKAgWBwhx+\n",
       "DXhlQUGgIFAQKAgUHDWCBQWBgkBBoDDHR6ONOkGgIFAQKAgU5jg12qgTBAoCBYGCQGFOZ7GVOkGg\n",
       "IFAQKHhgFtQJAgWBgkBBoDDHeT79Gl7NgoJAQaAgUBAojEQ7eYJAQaAgUJjz46ixsaAgUBAoCBQE\n",
       "Co4aQZ4gUBAoCBTm+NxPv4ZXs6AgUBAoCBQECuO7LDt5gkBBoCBQECg4iwULCgIFgYJAwZt0sKAg\n",
       "UBAoCBQECj7FggUFgYJAQaAgUJjTp9jKgoJAQaAgUJjjcz39Gl7NgoJAQaAgUBAoeGAWLCgIFAQK\n",
       "AgVv0sGCgkBBoCBQECh4YBYsKAgUBAoCBYGCu/lgQUGgIFAQKDhqBAsKAgWBgkBBoODaJ1hQECgI\n",
       "FAQK3qSDBQWBgkBBoCBQ8MAsWFAQKAgUBAoCBXfzwYKCQEGgIFBw1AgWFAQKAgWBgkBhjtNRY2NB\n",
       "QaAgUBAoCBScxYIFBYGCQEGg4C/MggUFgYJAQaAgUHDUCBYUBAoCBYGCW41gQUGgIFAQKAgUPDAL\n",
       "FhQECgIFgYJAYU4PzFYWFAQKAgWBggdmwYKCQEGgIFAQKLibDxYUBAoCBYGCQMG1T7CgIFAQKAgU\n",
       "HDWCBQWBgkBBoCBQcO0TLCgIFAQKAgVHjWBBQaAgUBAoCBTmOH2KbSwoCBQECgIFgYK7+WBBQaAg\n",
       "UBAoeGAWLCgIFAQKAgWBgrv5YEFBoCBQECgIFJzFggUFgYJAQaDgqBEsKAgUBAoCBYGCo0awoCBQ\n",
       "ECgIFLxJBwsKAgWBgkBBoOCBWbCgIFAQKAgUBArOYsGCgkBBoCBQ8L35YEFBoCBQECgIFHxvPlhQ\n",
       "ECgIFAQKAgVnsWBBQaAgUBAouNUIFhQECgIFgYJAwV+YBQsKAgWBgkDBUSNYUBAoCBQECgIFtxrB\n",
       "goJAQaAgUBAoOIsFCwoCBYGCQMFRI1hQECgIFAQKAoW5fZllZUFBoCBQECg4agQLCgIFgYJAQaDg\n",
       "ViNYUBAoCBQECgIFZ7FgQUGgIFAQKDhqBAsKAgWBgkBBoOCoESwoCBQECgIFgYKzWLCgIFAQKAgU\n",
       "HDWCBQWBgkBBoCBQmNtRY2VBQaAgUBAozHF+n34Nr2ZBQaAgUBAoCBTcagQLCgIFgYJAQaDg2idY\n",
       "UBAoCBQECo4awYKCQEGgIFAQKLj2CRYUBAoCBYGCQGFuD8xWFhQECgIFgcIcH0eNjQUFgYJAQaAg\n",
       "UPDALFhQECgIFAQKvnEYLCgIFAQKAgWBgqNGsKAgUBAoCBQECnP7FFtZUBAoCBQECnN8/jz9Gl7N\n",
       "goJAQaAgUBAoOGoECwoCBYGCQEGg4FMsWFAQKAgUBApznx6YbSwoCBQECgIFgYKjRrCgIFAQKAgU\n",
       "vEkHCwoCBYGCQEGgMNfhU2xjQUGgIFAQKAgU5nLts7KgIFAQKAgU5j78+svGgoJAQaAgUBAoeGAW\n",
       "LCgIFAQKAoW5HDVWFhQECgIFgYJAYa7jfvo1vJoFBYGCQEGgIFBwFgsWFAQKAgWBwniL3llQECgI\n",
       "FAQKAoX53h6YbSwoCBQECgIFgYKzWLCgIFAQKAgU5nLSWFlQECgIFAQKAoW5jvPp1/BqFhQECgIF\n",
       "gYKjRrCgIFAQKAgUBApuNYIFBYGCQEGgIFDwwCxYUBAoCBQECh6YBQsKAgWBgkBBoOCoESwoCBQE\n",
       "CgIFgcJ8ncVWFhQECgIFgYKjRrCgIFAQKAgUBAqufYIFBYGCQEGg4M+AgwUFgYJAQaAgUJjr9sBs\n",
       "Y0FBoCBQECgIFJzFggUFgYJAQaDgqBEsKAgUBAoCBYGCo0awoCBQECgIFAQKvswSLCgIFAQKAgUP\n",
       "zIIFBYGCQEGgIFDwwCxYUBAoCBQECr5xGCwoCBQECgIFgYJffwkWFAQKAgWBgkDBWSxYUBAoCBQE\n",
       "CvN9+hW8nAUFgYJAQaAgUPAXZsGCgkBBoCBQ8AdUwYKCQEGgIFAQKLjVCBYUBAoCBYGCQMFfmAUL\n",
       "CgIFgYJAwY+bBAsKAgWBgkBBoODaJ1hQECgIFAQKAgXXPsGCgkBBoCBQcKsRLCgIFAQKAgWBgqNG\n",
       "sKAgUBAoCBTczQcLCgIFgYJAQaDgbj5YUBAoCBQECgIFv/4SLCgIFAQKAgVHjWBBQaAgUBAoCBRc\n",
       "+wQLCgIFgYJAQaDgLBYsKAgUBAoCBbcawYKCQEGgIFAQKPj/YsGCgkBBoCBQ8I3DYEFBoCBQECgI\n",
       "FHyKBQsKAgWBgkBBoDBfv2G2sqAgUBAoCBQcNYIFBYGCQEGgIFDwZ8DBgoJAQaAgUBAo+EpmsKAg\n",
       "UBAoCBQcNYIFBYGCQEGgIFCYr69kriwoCBQECgIFd/PBgoJAQaAgUBAoeGAWLCgIFAQKAgWBgrv5\n",
       "YEFBoCBQECj4ia5gQUGgIFAQKAgU/FxysKAgUBAoCBQECs5iwYKCQEGgIFDwF2bBgoJAQaAgUBAo\n",
       "uJsPFhQECgIFgYLnQcGCgkBBoCBQECi4mw8WFAQKAgWBgkDBWSxYUBAoCBQECm41ggUFgYJAQaAg\n",
       "UPBDk8GCgkBBoCBQ8DwoWFAQKAgUBAoCBXfzwYKCQEGgIFAQKHhgFiwoCBQECgKF+R7epDcWFAQK\n",
       "AgWBgkDBA7NgQUGgIFAQKAgU5ntrtFEnCBQECgKFubxJr9QJAgWBgkBBoDDX8fP0a3g1CwoCBYGC\n",
       "QGGu25v0xoKCQEGgIFAQKMx9z9Ov4dUsKAgUBAoCBYHC3M5iKwsKAgWBgkDBUSNYUBAoCBQECgKF\n",
       "ue9fT7+GV7OgIFAQKAgUBApzOIutLCgIFAQKAoU5HDVWFhQECgIFgYJAwbVPsKAgUBAoCBQcNYIF\n",
       "BYGCQEGgIFCY4/IptrGgIFAQKAgUBAr+wixYUBAoCBQECm41ggUFgYJAQaAgUHDtEywoCBQECgIF\n",
       "gYIHZsGCgkBBoCBQmMsDs5UFBYGCQEGgIFBw1AgWFAQKAgWBwlyXo8bGgoJAQaAgUBAozOWosbKg\n",
       "IFAQKAgUBAqufYIFBYGCQEGgMF9HjZUFBYGCQEGgIFCYr6PGyoKCQEGgIFDwJh0sKAgUBAoCBYHC\n",
       "fP3Q5MqCgkBBoCBQECg4iwULCgIFgYJAYf54k15ZUBAoCBQECgIFR41gQUGgIFAQKAgU5uuHBVYW\n",
       "FAQKAgWBgm8cBgsKAgWBgkBBoOA3zIIFBYGCQEGgMIejxsqCgkBBoCBQECjM4aixsqAgUBAoCBQE\n",
       "CnM6i60sKAgUBAoChTkdNVYWFAQKAgWBgkBhPj7FVhYUBAoCBYGCQMFZLFhQECgIFAQK83GrsbKg\n",
       "IFAQKAgUBApzXj9Pv4ZXs6AgUBAoCBQ8DwoWFAQKAgWBgkDBp1iwoCBQECgIFAQKPsWCBQWBgkBB\n",
       "oDCHW42VBQWBgkBBoCBQ8OsvwYKCQEGgIFAQKPgUCxYUBAoCBYHC3N6kVxYUBAoCBYGCQMF/ZgkW\n",
       "FAQKAgWBwtzu5lcWFAQKAgWBgkDB/5sPFhQECgIFgYJAYb5fn2IbCwoCBYGCQGH+c9RYWVAQKAgU\n",
       "BAoChfnXp9jKgoJAQaAgUPgLTYkxpngRgUkAAAAASUVORK5CYII=\n",
       "\" transform=\"translate(1894, 47)\"/>\n",
       "</g>\n",
       "<path clip-path=\"url(#clip710)\" d=\"M2002.33 1363.34 L2032 1363.34 L2032 1367.27 L2002.33 1367.27 L2002.33 1363.34 Z\" fill=\"#000000\" fill-rule=\"nonzero\" fill-opacity=\"1\" /><path clip-path=\"url(#clip710)\" d=\"M2056.26 1361.53 Q2059.62 1362.25 2061.49 1364.52 Q2063.39 1366.79 2063.39 1370.12 Q2063.39 1375.23 2059.87 1378.04 Q2056.36 1380.84 2049.87 1380.84 Q2047.7 1380.84 2045.38 1380.4 Q2043.09 1379.98 2040.64 1379.12 L2040.64 1374.61 Q2042.58 1375.74 2044.9 1376.32 Q2047.21 1376.9 2049.73 1376.9 Q2054.13 1376.9 2056.42 1375.17 Q2058.74 1373.43 2058.74 1370.12 Q2058.74 1367.06 2056.59 1365.35 Q2054.46 1363.61 2050.64 1363.61 L2046.61 1363.61 L2046.61 1359.77 L2050.82 1359.77 Q2054.27 1359.77 2056.1 1358.41 Q2057.93 1357.02 2057.93 1354.42 Q2057.93 1351.76 2056.03 1350.35 Q2054.16 1348.92 2050.64 1348.92 Q2048.72 1348.92 2046.52 1349.33 Q2044.32 1349.75 2041.68 1350.63 L2041.68 1346.46 Q2044.34 1345.72 2046.66 1345.35 Q2048.99 1344.98 2051.05 1344.98 Q2056.38 1344.98 2059.48 1347.41 Q2062.58 1349.82 2062.58 1353.94 Q2062.58 1356.81 2060.94 1358.8 Q2059.29 1360.77 2056.26 1361.53 Z\" fill=\"#000000\" fill-rule=\"nonzero\" fill-opacity=\"1\" /><path clip-path=\"url(#clip710)\" d=\"M2082.26 1348.68 Q2078.65 1348.68 2076.82 1352.25 Q2075.01 1355.79 2075.01 1362.92 Q2075.01 1370.03 2076.82 1373.59 Q2078.65 1377.13 2082.26 1377.13 Q2085.89 1377.13 2087.7 1373.59 Q2089.53 1370.03 2089.53 1362.92 Q2089.53 1355.79 2087.7 1352.25 Q2085.89 1348.68 2082.26 1348.68 M2082.26 1344.98 Q2088.07 1344.98 2091.12 1349.59 Q2094.2 1354.17 2094.2 1362.92 Q2094.2 1371.65 2091.12 1376.25 Q2088.07 1380.84 2082.26 1380.84 Q2076.45 1380.84 2073.37 1376.25 Q2070.31 1371.65 2070.31 1362.92 Q2070.31 1354.17 2073.37 1349.59 Q2076.45 1344.98 2082.26 1344.98 Z\" fill=\"#000000\" fill-rule=\"nonzero\" fill-opacity=\"1\" /><polyline clip-path=\"url(#clip710)\" style=\"stroke:#000000; stroke-linecap:round; stroke-linejoin:round; stroke-width:4; stroke-opacity:1; fill:none\" points=\"1966.33,1366.51 1990.33,1366.51 \"/>\n",
       "<path clip-path=\"url(#clip710)\" d=\"M2002.33 1163.45 L2032 1163.45 L2032 1167.38 L2002.33 1167.38 L2002.33 1163.45 Z\" fill=\"#000000\" fill-rule=\"nonzero\" fill-opacity=\"1\" /><path clip-path=\"url(#clip710)\" d=\"M2046.12 1176.34 L2062.44 1176.34 L2062.44 1180.28 L2040.5 1180.28 L2040.5 1176.34 Q2043.16 1173.59 2047.74 1168.96 Q2052.35 1164.3 2053.53 1162.96 Q2055.78 1160.44 2056.66 1158.7 Q2057.56 1156.94 2057.56 1155.25 Q2057.56 1152.5 2055.61 1150.76 Q2053.69 1149.03 2050.59 1149.03 Q2048.39 1149.03 2045.94 1149.79 Q2043.51 1150.55 2040.73 1152.1 L2040.73 1147.38 Q2043.55 1146.25 2046.01 1145.67 Q2048.46 1145.09 2050.5 1145.09 Q2055.87 1145.09 2059.06 1147.78 Q2062.26 1150.46 2062.26 1154.95 Q2062.26 1157.08 2061.45 1159 Q2060.66 1160.9 2058.55 1163.49 Q2057.98 1164.16 2054.87 1167.38 Q2051.77 1170.58 2046.12 1176.34 Z\" fill=\"#000000\" fill-rule=\"nonzero\" fill-opacity=\"1\" /><path clip-path=\"url(#clip710)\" d=\"M2082.26 1148.79 Q2078.65 1148.79 2076.82 1152.36 Q2075.01 1155.9 2075.01 1163.03 Q2075.01 1170.14 2076.82 1173.7 Q2078.65 1177.24 2082.26 1177.24 Q2085.89 1177.24 2087.7 1173.7 Q2089.53 1170.14 2089.53 1163.03 Q2089.53 1155.9 2087.7 1152.36 Q2085.89 1148.79 2082.26 1148.79 M2082.26 1145.09 Q2088.07 1145.09 2091.12 1149.7 Q2094.2 1154.28 2094.2 1163.03 Q2094.2 1171.76 2091.12 1176.36 Q2088.07 1180.95 2082.26 1180.95 Q2076.45 1180.95 2073.37 1176.36 Q2070.31 1171.76 2070.31 1163.03 Q2070.31 1154.28 2073.37 1149.7 Q2076.45 1145.09 2082.26 1145.09 Z\" fill=\"#000000\" fill-rule=\"nonzero\" fill-opacity=\"1\" /><polyline clip-path=\"url(#clip710)\" style=\"stroke:#000000; stroke-linecap:round; stroke-linejoin:round; stroke-width:4; stroke-opacity:1; fill:none\" points=\"1966.33,1166.62 1990.33,1166.62 \"/>\n",
       "<path clip-path=\"url(#clip710)\" d=\"M2002.33 963.558 L2032 963.558 L2032 967.493 L2002.33 967.493 L2002.33 963.558 Z\" fill=\"#000000\" fill-rule=\"nonzero\" fill-opacity=\"1\" /><path clip-path=\"url(#clip710)\" d=\"M2042.91 976.451 L2050.54 976.451 L2050.54 950.086 L2042.23 951.752 L2042.23 947.493 L2050.5 945.827 L2055.17 945.827 L2055.17 976.451 L2062.81 976.451 L2062.81 980.387 L2042.91 980.387 L2042.91 976.451 Z\" fill=\"#000000\" fill-rule=\"nonzero\" fill-opacity=\"1\" /><path clip-path=\"url(#clip710)\" d=\"M2082.26 948.905 Q2078.65 948.905 2076.82 952.47 Q2075.01 956.012 2075.01 963.141 Q2075.01 970.248 2076.82 973.813 Q2078.65 977.354 2082.26 977.354 Q2085.89 977.354 2087.7 973.813 Q2089.53 970.248 2089.53 963.141 Q2089.53 956.012 2087.7 952.47 Q2085.89 948.905 2082.26 948.905 M2082.26 945.202 Q2088.07 945.202 2091.12 949.808 Q2094.2 954.391 2094.2 963.141 Q2094.2 971.868 2091.12 976.475 Q2088.07 981.058 2082.26 981.058 Q2076.45 981.058 2073.37 976.475 Q2070.31 971.868 2070.31 963.141 Q2070.31 954.391 2073.37 949.808 Q2076.45 945.202 2082.26 945.202 Z\" fill=\"#000000\" fill-rule=\"nonzero\" fill-opacity=\"1\" /><polyline clip-path=\"url(#clip710)\" style=\"stroke:#000000; stroke-linecap:round; stroke-linejoin:round; stroke-width:4; stroke-opacity:1; fill:none\" points=\"1966.33,966.735 1990.33,966.735 \"/>\n",
       "<path clip-path=\"url(#clip710)\" d=\"M2014.27 749.016 Q2010.66 749.016 2008.83 752.581 Q2007.03 756.122 2007.03 763.252 Q2007.03 770.358 2008.83 773.923 Q2010.66 777.465 2014.27 777.465 Q2017.91 777.465 2019.71 773.923 Q2021.54 770.358 2021.54 763.252 Q2021.54 756.122 2019.71 752.581 Q2017.91 749.016 2014.27 749.016 M2014.27 745.312 Q2020.08 745.312 2023.14 749.919 Q2026.22 754.502 2026.22 763.252 Q2026.22 771.979 2023.14 776.585 Q2020.08 781.168 2014.27 781.168 Q2008.46 781.168 2005.38 776.585 Q2002.33 771.979 2002.33 763.252 Q2002.33 754.502 2005.38 749.919 Q2008.46 745.312 2014.27 745.312 Z\" fill=\"#000000\" fill-rule=\"nonzero\" fill-opacity=\"1\" /><polyline clip-path=\"url(#clip710)\" style=\"stroke:#000000; stroke-linecap:round; stroke-linejoin:round; stroke-width:4; stroke-opacity:1; fill:none\" points=\"1966.33,766.846 1990.33,766.846 \"/>\n",
       "<path clip-path=\"url(#clip710)\" d=\"M2003 576.673 L2010.64 576.673 L2010.64 550.307 L2002.33 551.974 L2002.33 547.714 L2010.59 546.048 L2015.27 546.048 L2015.27 576.673 L2022.91 576.673 L2022.91 580.608 L2003 580.608 L2003 576.673 Z\" fill=\"#000000\" fill-rule=\"nonzero\" fill-opacity=\"1\" /><path clip-path=\"url(#clip710)\" d=\"M2042.35 549.126 Q2038.74 549.126 2036.91 552.691 Q2035.11 556.233 2035.11 563.362 Q2035.11 570.469 2036.91 574.034 Q2038.74 577.575 2042.35 577.575 Q2045.98 577.575 2047.79 574.034 Q2049.62 570.469 2049.62 563.362 Q2049.62 556.233 2047.79 552.691 Q2045.98 549.126 2042.35 549.126 M2042.35 545.423 Q2048.16 545.423 2051.22 550.029 Q2054.29 554.613 2054.29 563.362 Q2054.29 572.089 2051.22 576.696 Q2048.16 581.279 2042.35 581.279 Q2036.54 581.279 2033.46 576.696 Q2030.41 572.089 2030.41 563.362 Q2030.41 554.613 2033.46 550.029 Q2036.54 545.423 2042.35 545.423 Z\" fill=\"#000000\" fill-rule=\"nonzero\" fill-opacity=\"1\" /><polyline clip-path=\"url(#clip710)\" style=\"stroke:#000000; stroke-linecap:round; stroke-linejoin:round; stroke-width:4; stroke-opacity:1; fill:none\" points=\"1966.33,566.957 1990.33,566.957 \"/>\n",
       "<path clip-path=\"url(#clip710)\" d=\"M2007.95 376.783 L2024.27 376.783 L2024.27 380.718 L2002.33 380.718 L2002.33 376.783 Q2004.99 374.029 2009.57 369.399 Q2014.18 364.746 2015.36 363.404 Q2017.61 360.88 2018.48 359.144 Q2019.39 357.385 2019.39 355.695 Q2019.39 352.941 2017.44 351.205 Q2015.52 349.469 2012.42 349.469 Q2010.22 349.469 2007.77 350.232 Q2005.34 350.996 2002.56 352.547 L2002.56 347.825 Q2005.38 346.691 2007.84 346.112 Q2010.29 345.533 2012.33 345.533 Q2017.7 345.533 2020.89 348.219 Q2024.09 350.904 2024.09 355.394 Q2024.09 357.524 2023.28 359.445 Q2022.49 361.343 2020.38 363.936 Q2019.8 364.607 2016.7 367.825 Q2013.6 371.019 2007.95 376.783 Z\" fill=\"#000000\" fill-rule=\"nonzero\" fill-opacity=\"1\" /><path clip-path=\"url(#clip710)\" d=\"M2044.09 349.237 Q2040.48 349.237 2038.65 352.802 Q2036.84 356.343 2036.84 363.473 Q2036.84 370.58 2038.65 374.144 Q2040.48 377.686 2044.09 377.686 Q2047.72 377.686 2049.53 374.144 Q2051.36 370.58 2051.36 363.473 Q2051.36 356.343 2049.53 352.802 Q2047.72 349.237 2044.09 349.237 M2044.09 345.533 Q2049.9 345.533 2052.95 350.14 Q2056.03 354.723 2056.03 363.473 Q2056.03 372.2 2052.95 376.806 Q2049.9 381.39 2044.09 381.39 Q2038.28 381.39 2035.2 376.806 Q2032.14 372.2 2032.14 363.473 Q2032.14 354.723 2035.2 350.14 Q2038.28 345.533 2044.09 345.533 Z\" fill=\"#000000\" fill-rule=\"nonzero\" fill-opacity=\"1\" /><polyline clip-path=\"url(#clip710)\" style=\"stroke:#000000; stroke-linecap:round; stroke-linejoin:round; stroke-width:4; stroke-opacity:1; fill:none\" points=\"1966.33,367.067 1990.33,367.067 \"/>\n",
       "<path clip-path=\"url(#clip710)\" d=\"M2017.95 162.195 Q2021.31 162.912 2023.18 165.181 Q2025.08 167.449 2025.08 170.783 Q2025.08 175.898 2021.56 178.699 Q2018.05 181.5 2011.56 181.5 Q2009.39 181.5 2007.07 181.06 Q2004.78 180.644 2002.33 179.787 L2002.33 175.273 Q2004.27 176.408 2006.59 176.986 Q2008.9 177.565 2011.42 177.565 Q2015.82 177.565 2018.11 175.829 Q2020.43 174.093 2020.43 170.783 Q2020.43 167.727 2018.28 166.014 Q2016.15 164.278 2012.33 164.278 L2008.3 164.278 L2008.3 160.436 L2012.51 160.436 Q2015.96 160.436 2017.79 159.07 Q2019.62 157.681 2019.62 155.088 Q2019.62 152.426 2017.72 151.014 Q2015.85 149.579 2012.33 149.579 Q2010.41 149.579 2008.21 149.996 Q2006.01 150.412 2003.37 151.292 L2003.37 147.125 Q2006.03 146.385 2008.35 146.014 Q2010.68 145.644 2012.74 145.644 Q2018.07 145.644 2021.17 148.074 Q2024.27 150.482 2024.27 154.602 Q2024.27 157.473 2022.63 159.463 Q2020.98 161.431 2017.95 162.195 Z\" fill=\"#000000\" fill-rule=\"nonzero\" fill-opacity=\"1\" /><path clip-path=\"url(#clip710)\" d=\"M2043.95 149.348 Q2040.34 149.348 2038.51 152.912 Q2036.7 156.454 2036.7 163.584 Q2036.7 170.69 2038.51 174.255 Q2040.34 177.797 2043.95 177.797 Q2047.58 177.797 2049.39 174.255 Q2051.22 170.69 2051.22 163.584 Q2051.22 156.454 2049.39 152.912 Q2047.58 149.348 2043.95 149.348 M2043.95 145.644 Q2049.76 145.644 2052.81 150.25 Q2055.89 154.834 2055.89 163.584 Q2055.89 172.31 2052.81 176.917 Q2049.76 181.5 2043.95 181.5 Q2038.14 181.5 2035.06 176.917 Q2032 172.31 2032 163.584 Q2032 154.834 2035.06 150.25 Q2038.14 145.644 2043.95 145.644 Z\" fill=\"#000000\" fill-rule=\"nonzero\" fill-opacity=\"1\" /><polyline clip-path=\"url(#clip710)\" style=\"stroke:#000000; stroke-linecap:round; stroke-linejoin:round; stroke-width:4; stroke-opacity:1; fill:none\" points=\"1966.33,167.178 1990.33,167.178 \"/>\n",
       "<polyline clip-path=\"url(#clip710)\" style=\"stroke:#000000; stroke-linecap:round; stroke-linejoin:round; stroke-width:4; stroke-opacity:1; fill:none\" points=\"1966.33,1486.45 1966.33,47.2441 \"/>\n",
       "</svg>\n"
      ],
      "text/html": [
       "<?xml version=\"1.0\" encoding=\"utf-8\"?>\n",
       "<svg xmlns=\"http://www.w3.org/2000/svg\" xmlns:xlink=\"http://www.w3.org/1999/xlink\" width=\"600\" height=\"400\" viewBox=\"0 0 2400 1600\">\n",
       "<defs>\n",
       "  <clipPath id=\"clip760\">\n",
       "    <rect x=\"0\" y=\"0\" width=\"2400\" height=\"1600\"/>\n",
       "  </clipPath>\n",
       "</defs>\n",
       "<path clip-path=\"url(#clip760)\" d=\"M0 1600 L2400 1600 L2400 0 L0 0  Z\" fill=\"#ffffff\" fill-rule=\"evenodd\" fill-opacity=\"1\"/>\n",
       "<defs>\n",
       "  <clipPath id=\"clip761\">\n",
       "    <rect x=\"480\" y=\"0\" width=\"1681\" height=\"1600\"/>\n",
       "  </clipPath>\n",
       "</defs>\n",
       "<path clip-path=\"url(#clip760)\" d=\"M407.124 1486.45 L1846.33 1486.45 L1846.33 47.2441 L407.124 47.2441  Z\" fill=\"#ffffff\" fill-rule=\"evenodd\" fill-opacity=\"1\"/>\n",
       "<defs>\n",
       "  <clipPath id=\"clip762\">\n",
       "    <rect x=\"407\" y=\"47\" width=\"1440\" height=\"1440\"/>\n",
       "  </clipPath>\n",
       "</defs>\n",
       "<polyline clip-path=\"url(#clip760)\" style=\"stroke:#000000; stroke-linecap:round; stroke-linejoin:round; stroke-width:4; stroke-opacity:1; fill:none\" points=\"407.124,1486.45 1846.33,1486.45 \"/>\n",
       "<polyline clip-path=\"url(#clip760)\" style=\"stroke:#000000; stroke-linecap:round; stroke-linejoin:round; stroke-width:4; stroke-opacity:1; fill:none\" points=\"674.146,1486.45 674.146,1467.55 \"/>\n",
       "<polyline clip-path=\"url(#clip760)\" style=\"stroke:#000000; stroke-linecap:round; stroke-linejoin:round; stroke-width:4; stroke-opacity:1; fill:none\" points=\"957.008,1486.45 957.008,1467.55 \"/>\n",
       "<polyline clip-path=\"url(#clip760)\" style=\"stroke:#000000; stroke-linecap:round; stroke-linejoin:round; stroke-width:4; stroke-opacity:1; fill:none\" points=\"1239.87,1486.45 1239.87,1467.55 \"/>\n",
       "<polyline clip-path=\"url(#clip760)\" style=\"stroke:#000000; stroke-linecap:round; stroke-linejoin:round; stroke-width:4; stroke-opacity:1; fill:none\" points=\"1522.73,1486.45 1522.73,1467.55 \"/>\n",
       "<polyline clip-path=\"url(#clip760)\" style=\"stroke:#000000; stroke-linecap:round; stroke-linejoin:round; stroke-width:4; stroke-opacity:1; fill:none\" points=\"1805.6,1486.45 1805.6,1467.55 \"/>\n",
       "<path clip-path=\"url(#clip760)\" d=\"M664.424 1514.29 L682.78 1514.29 L682.78 1518.22 L668.706 1518.22 L668.706 1526.7 Q669.725 1526.35 670.743 1526.19 Q671.762 1526 672.78 1526 Q678.567 1526 681.947 1529.17 Q685.326 1532.34 685.326 1537.76 Q685.326 1543.34 681.854 1546.44 Q678.382 1549.52 672.063 1549.52 Q669.887 1549.52 667.618 1549.15 Q665.373 1548.78 662.965 1548.04 L662.965 1543.34 Q665.049 1544.47 667.271 1545.03 Q669.493 1545.58 671.97 1545.58 Q675.975 1545.58 678.313 1543.48 Q680.651 1541.37 680.651 1537.76 Q680.651 1534.15 678.313 1532.04 Q675.975 1529.94 671.97 1529.94 Q670.095 1529.94 668.22 1530.35 Q666.368 1530.77 664.424 1531.65 L664.424 1514.29 Z\" fill=\"#000000\" fill-rule=\"nonzero\" fill-opacity=\"1\" /><path clip-path=\"url(#clip760)\" d=\"M931.696 1544.91 L939.335 1544.91 L939.335 1518.55 L931.025 1520.21 L931.025 1515.95 L939.288 1514.29 L943.964 1514.29 L943.964 1544.91 L951.603 1544.91 L951.603 1548.85 L931.696 1548.85 L931.696 1544.91 Z\" fill=\"#000000\" fill-rule=\"nonzero\" fill-opacity=\"1\" /><path clip-path=\"url(#clip760)\" d=\"M971.048 1517.37 Q967.436 1517.37 965.608 1520.93 Q963.802 1524.47 963.802 1531.6 Q963.802 1538.71 965.608 1542.27 Q967.436 1545.82 971.048 1545.82 Q974.682 1545.82 976.487 1542.27 Q978.316 1538.71 978.316 1531.6 Q978.316 1524.47 976.487 1520.93 Q974.682 1517.37 971.048 1517.37 M971.048 1513.66 Q976.858 1513.66 979.913 1518.27 Q982.992 1522.85 982.992 1531.6 Q982.992 1540.33 979.913 1544.94 Q976.858 1549.52 971.048 1549.52 Q965.237 1549.52 962.159 1544.94 Q959.103 1540.33 959.103 1531.6 Q959.103 1522.85 962.159 1518.27 Q965.237 1513.66 971.048 1513.66 Z\" fill=\"#000000\" fill-rule=\"nonzero\" fill-opacity=\"1\" /><path clip-path=\"url(#clip760)\" d=\"M1215.06 1544.91 L1222.69 1544.91 L1222.69 1518.55 L1214.38 1520.21 L1214.38 1515.95 L1222.65 1514.29 L1227.32 1514.29 L1227.32 1544.91 L1234.96 1544.91 L1234.96 1548.85 L1215.06 1548.85 L1215.06 1544.91 Z\" fill=\"#000000\" fill-rule=\"nonzero\" fill-opacity=\"1\" /><path clip-path=\"url(#clip760)\" d=\"M1244.45 1514.29 L1262.81 1514.29 L1262.81 1518.22 L1248.74 1518.22 L1248.74 1526.7 Q1249.75 1526.35 1250.77 1526.19 Q1251.79 1526 1252.81 1526 Q1258.6 1526 1261.98 1529.17 Q1265.36 1532.34 1265.36 1537.76 Q1265.36 1543.34 1261.88 1546.44 Q1258.41 1549.52 1252.09 1549.52 Q1249.92 1549.52 1247.65 1549.15 Q1245.4 1548.78 1243 1548.04 L1243 1543.34 Q1245.08 1544.47 1247.3 1545.03 Q1249.52 1545.58 1252 1545.58 Q1256 1545.58 1258.34 1543.48 Q1260.68 1541.37 1260.68 1537.76 Q1260.68 1534.15 1258.34 1532.04 Q1256 1529.94 1252 1529.94 Q1250.13 1529.94 1248.25 1530.35 Q1246.4 1530.77 1244.45 1531.65 L1244.45 1514.29 Z\" fill=\"#000000\" fill-rule=\"nonzero\" fill-opacity=\"1\" /><path clip-path=\"url(#clip760)\" d=\"M1501.51 1544.91 L1517.83 1544.91 L1517.83 1548.85 L1495.88 1548.85 L1495.88 1544.91 Q1498.54 1542.16 1503.13 1537.53 Q1507.73 1532.88 1508.91 1531.53 Q1511.16 1529.01 1512.04 1527.27 Q1512.94 1525.51 1512.94 1523.82 Q1512.94 1521.07 1511 1519.33 Q1509.08 1517.6 1505.97 1517.6 Q1503.77 1517.6 1501.32 1518.36 Q1498.89 1519.13 1496.11 1520.68 L1496.11 1515.95 Q1498.94 1514.82 1501.39 1514.24 Q1503.84 1513.66 1505.88 1513.66 Q1511.25 1513.66 1514.45 1516.35 Q1517.64 1519.03 1517.64 1523.52 Q1517.64 1525.65 1516.83 1527.57 Q1516.04 1529.47 1513.94 1532.07 Q1513.36 1532.74 1510.26 1535.95 Q1507.15 1539.15 1501.51 1544.91 Z\" fill=\"#000000\" fill-rule=\"nonzero\" fill-opacity=\"1\" /><path clip-path=\"url(#clip760)\" d=\"M1537.64 1517.37 Q1534.03 1517.37 1532.2 1520.93 Q1530.4 1524.47 1530.4 1531.6 Q1530.4 1538.71 1532.2 1542.27 Q1534.03 1545.82 1537.64 1545.82 Q1541.27 1545.82 1543.08 1542.27 Q1544.91 1538.71 1544.91 1531.6 Q1544.91 1524.47 1543.08 1520.93 Q1541.27 1517.37 1537.64 1517.37 M1537.64 1513.66 Q1543.45 1513.66 1546.51 1518.27 Q1549.58 1522.85 1549.58 1531.6 Q1549.58 1540.33 1546.51 1544.94 Q1543.45 1549.52 1537.64 1549.52 Q1531.83 1549.52 1528.75 1544.94 Q1525.7 1540.33 1525.7 1531.6 Q1525.7 1522.85 1528.75 1518.27 Q1531.83 1513.66 1537.64 1513.66 Z\" fill=\"#000000\" fill-rule=\"nonzero\" fill-opacity=\"1\" /><path clip-path=\"url(#clip760)\" d=\"M1784.87 1544.91 L1801.19 1544.91 L1801.19 1548.85 L1779.24 1548.85 L1779.24 1544.91 Q1781.9 1542.16 1786.49 1537.53 Q1791.09 1532.88 1792.27 1531.53 Q1794.52 1529.01 1795.4 1527.27 Q1796.3 1525.51 1796.3 1523.82 Q1796.3 1521.07 1794.36 1519.33 Q1792.44 1517.6 1789.33 1517.6 Q1787.13 1517.6 1784.68 1518.36 Q1782.25 1519.13 1779.47 1520.68 L1779.47 1515.95 Q1782.3 1514.82 1784.75 1514.24 Q1787.2 1513.66 1789.24 1513.66 Q1794.61 1513.66 1797.81 1516.35 Q1801 1519.03 1801 1523.52 Q1801 1525.65 1800.19 1527.57 Q1799.4 1529.47 1797.3 1532.07 Q1796.72 1532.74 1793.62 1535.95 Q1790.51 1539.15 1784.87 1544.91 Z\" fill=\"#000000\" fill-rule=\"nonzero\" fill-opacity=\"1\" /><path clip-path=\"url(#clip760)\" d=\"M1811.05 1514.29 L1829.4 1514.29 L1829.4 1518.22 L1815.33 1518.22 L1815.33 1526.7 Q1816.35 1526.35 1817.37 1526.19 Q1818.38 1526 1819.4 1526 Q1825.19 1526 1828.57 1529.17 Q1831.95 1532.34 1831.95 1537.76 Q1831.95 1543.34 1828.48 1546.44 Q1825.01 1549.52 1818.69 1549.52 Q1816.51 1549.52 1814.24 1549.15 Q1812 1548.78 1809.59 1548.04 L1809.59 1543.34 Q1811.67 1544.47 1813.89 1545.03 Q1816.12 1545.58 1818.59 1545.58 Q1822.6 1545.58 1824.94 1543.48 Q1827.27 1541.37 1827.27 1537.76 Q1827.27 1534.15 1824.94 1532.04 Q1822.6 1529.94 1818.59 1529.94 Q1816.72 1529.94 1814.84 1530.35 Q1812.99 1530.77 1811.05 1531.65 L1811.05 1514.29 Z\" fill=\"#000000\" fill-rule=\"nonzero\" fill-opacity=\"1\" /><polyline clip-path=\"url(#clip760)\" style=\"stroke:#000000; stroke-linecap:round; stroke-linejoin:round; stroke-width:4; stroke-opacity:1; fill:none\" points=\"407.124,47.2441 407.124,1486.45 \"/>\n",
       "<polyline clip-path=\"url(#clip760)\" style=\"stroke:#000000; stroke-linecap:round; stroke-linejoin:round; stroke-width:4; stroke-opacity:1; fill:none\" points=\"407.124,314.266 419.419,314.266 \"/>\n",
       "<polyline clip-path=\"url(#clip760)\" style=\"stroke:#000000; stroke-linecap:round; stroke-linejoin:round; stroke-width:4; stroke-opacity:1; fill:none\" points=\"407.124,597.129 419.419,597.129 \"/>\n",
       "<polyline clip-path=\"url(#clip760)\" style=\"stroke:#000000; stroke-linecap:round; stroke-linejoin:round; stroke-width:4; stroke-opacity:1; fill:none\" points=\"407.124,879.991 419.419,879.991 \"/>\n",
       "<polyline clip-path=\"url(#clip760)\" style=\"stroke:#000000; stroke-linecap:round; stroke-linejoin:round; stroke-width:4; stroke-opacity:1; fill:none\" points=\"407.124,1162.85 419.419,1162.85 \"/>\n",
       "<polyline clip-path=\"url(#clip760)\" style=\"stroke:#000000; stroke-linecap:round; stroke-linejoin:round; stroke-width:4; stroke-opacity:1; fill:none\" points=\"407.124,1445.72 419.419,1445.72 \"/>\n",
       "<path clip-path=\"url(#clip760)\" d=\"M350.221 296.986 L368.578 296.986 L368.578 300.921 L354.504 300.921 L354.504 309.394 Q355.522 309.046 356.541 308.884 Q357.559 308.699 358.578 308.699 Q364.365 308.699 367.744 311.87 Q371.124 315.042 371.124 320.458 Q371.124 326.037 367.652 329.139 Q364.179 332.217 357.86 332.217 Q355.684 332.217 353.416 331.847 Q351.17 331.477 348.763 330.736 L348.763 326.037 Q350.846 327.171 353.068 327.727 Q355.291 328.282 357.767 328.282 Q361.772 328.282 364.11 326.176 Q366.448 324.069 366.448 320.458 Q366.448 316.847 364.11 314.741 Q361.772 312.634 357.767 312.634 Q355.892 312.634 354.017 313.051 Q352.166 313.468 350.221 314.347 L350.221 296.986 Z\" fill=\"#000000\" fill-rule=\"nonzero\" fill-opacity=\"1\" /><path clip-path=\"url(#clip760)\" d=\"M319.828 610.473 L327.467 610.473 L327.467 584.108 L319.157 585.774 L319.157 581.515 L327.42 579.849 L332.096 579.849 L332.096 610.473 L339.735 610.473 L339.735 614.409 L319.828 614.409 L319.828 610.473 Z\" fill=\"#000000\" fill-rule=\"nonzero\" fill-opacity=\"1\" /><path clip-path=\"url(#clip760)\" d=\"M359.179 582.927 Q355.568 582.927 353.74 586.492 Q351.934 590.034 351.934 597.163 Q351.934 604.27 353.74 607.835 Q355.568 611.376 359.179 611.376 Q362.814 611.376 364.619 607.835 Q366.448 604.27 366.448 597.163 Q366.448 590.034 364.619 586.492 Q362.814 582.927 359.179 582.927 M359.179 579.224 Q364.99 579.224 368.045 583.83 Q371.124 588.413 371.124 597.163 Q371.124 605.89 368.045 610.497 Q364.99 615.08 359.179 615.08 Q353.369 615.08 350.291 610.497 Q347.235 605.89 347.235 597.163 Q347.235 588.413 350.291 583.83 Q353.369 579.224 359.179 579.224 Z\" fill=\"#000000\" fill-rule=\"nonzero\" fill-opacity=\"1\" /><path clip-path=\"url(#clip760)\" d=\"M320.823 893.336 L328.462 893.336 L328.462 866.97 L320.152 868.637 L320.152 864.378 L328.416 862.711 L333.092 862.711 L333.092 893.336 L340.73 893.336 L340.73 897.271 L320.823 897.271 L320.823 893.336 Z\" fill=\"#000000\" fill-rule=\"nonzero\" fill-opacity=\"1\" /><path clip-path=\"url(#clip760)\" d=\"M350.221 862.711 L368.578 862.711 L368.578 866.646 L354.504 866.646 L354.504 875.118 Q355.522 874.771 356.541 874.609 Q357.559 874.424 358.578 874.424 Q364.365 874.424 367.744 877.595 Q371.124 880.766 371.124 886.183 Q371.124 891.762 367.652 894.864 Q364.179 897.942 357.86 897.942 Q355.684 897.942 353.416 897.572 Q351.17 897.201 348.763 896.461 L348.763 891.762 Q350.846 892.896 353.068 893.452 Q355.291 894.007 357.767 894.007 Q361.772 894.007 364.11 891.901 Q366.448 889.794 366.448 886.183 Q366.448 882.572 364.11 880.465 Q361.772 878.359 357.767 878.359 Q355.892 878.359 354.017 878.776 Q352.166 879.192 350.221 880.072 L350.221 862.711 Z\" fill=\"#000000\" fill-rule=\"nonzero\" fill-opacity=\"1\" /><path clip-path=\"url(#clip760)\" d=\"M323.045 1176.2 L339.365 1176.2 L339.365 1180.13 L317.42 1180.13 L317.42 1176.2 Q320.082 1173.44 324.666 1168.81 Q329.272 1164.16 330.453 1162.82 Q332.698 1160.3 333.578 1158.56 Q334.481 1156.8 334.481 1155.11 Q334.481 1152.36 332.536 1150.62 Q330.615 1148.88 327.513 1148.88 Q325.314 1148.88 322.86 1149.65 Q320.43 1150.41 317.652 1151.96 L317.652 1147.24 Q320.476 1146.11 322.93 1145.53 Q325.383 1144.95 327.42 1144.95 Q332.791 1144.95 335.985 1147.63 Q339.18 1150.32 339.18 1154.81 Q339.18 1156.94 338.369 1158.86 Q337.582 1160.76 335.476 1163.35 Q334.897 1164.02 331.795 1167.24 Q328.694 1170.43 323.045 1176.2 Z\" fill=\"#000000\" fill-rule=\"nonzero\" fill-opacity=\"1\" /><path clip-path=\"url(#clip760)\" d=\"M359.179 1148.65 Q355.568 1148.65 353.74 1152.22 Q351.934 1155.76 351.934 1162.89 Q351.934 1169.99 353.74 1173.56 Q355.568 1177.1 359.179 1177.1 Q362.814 1177.1 364.619 1173.56 Q366.448 1169.99 366.448 1162.89 Q366.448 1155.76 364.619 1152.22 Q362.814 1148.65 359.179 1148.65 M359.179 1144.95 Q364.99 1144.95 368.045 1149.55 Q371.124 1154.14 371.124 1162.89 Q371.124 1171.61 368.045 1176.22 Q364.99 1180.8 359.179 1180.8 Q353.369 1180.8 350.291 1176.22 Q347.235 1171.61 347.235 1162.89 Q347.235 1154.14 350.291 1149.55 Q353.369 1144.95 359.179 1144.95 Z\" fill=\"#000000\" fill-rule=\"nonzero\" fill-opacity=\"1\" /><path clip-path=\"url(#clip760)\" d=\"M324.041 1459.06 L340.36 1459.06 L340.36 1463 L318.416 1463 L318.416 1459.06 Q321.078 1456.31 325.661 1451.68 Q330.268 1447.02 331.448 1445.68 Q333.693 1443.16 334.573 1441.42 Q335.476 1439.66 335.476 1437.97 Q335.476 1435.22 333.531 1433.48 Q331.61 1431.75 328.508 1431.75 Q326.309 1431.75 323.856 1432.51 Q321.425 1433.27 318.647 1434.82 L318.647 1430.1 Q321.471 1428.97 323.925 1428.39 Q326.379 1427.81 328.416 1427.81 Q333.786 1427.81 336.98 1430.5 Q340.175 1433.18 340.175 1437.67 Q340.175 1439.8 339.365 1441.72 Q338.578 1443.62 336.471 1446.21 Q335.893 1446.88 332.791 1450.1 Q329.689 1453.3 324.041 1459.06 Z\" fill=\"#000000\" fill-rule=\"nonzero\" fill-opacity=\"1\" /><path clip-path=\"url(#clip760)\" d=\"M350.221 1428.44 L368.578 1428.44 L368.578 1432.37 L354.504 1432.37 L354.504 1440.84 Q355.522 1440.5 356.541 1440.33 Q357.559 1440.15 358.578 1440.15 Q364.365 1440.15 367.744 1443.32 Q371.124 1446.49 371.124 1451.91 Q371.124 1457.49 367.652 1460.59 Q364.179 1463.67 357.86 1463.67 Q355.684 1463.67 353.416 1463.3 Q351.17 1462.93 348.763 1462.19 L348.763 1457.49 Q350.846 1458.62 353.068 1459.18 Q355.291 1459.73 357.767 1459.73 Q361.772 1459.73 364.11 1457.63 Q366.448 1455.52 366.448 1451.91 Q366.448 1448.3 364.11 1446.19 Q361.772 1444.08 357.767 1444.08 Q355.892 1444.08 354.017 1444.5 Q352.166 1444.92 350.221 1445.8 L350.221 1428.44 Z\" fill=\"#000000\" fill-rule=\"nonzero\" fill-opacity=\"1\" /><path clip-path=\"url(#clip762)\" d=\"M427.856 67.9763 L427.856 107.976 L467.856 107.976 L467.856 67.9763 L427.856 67.9763 Z\" fill=\"#d60400\" fill-rule=\"evenodd\" fill-opacity=\"1\" stroke=\"none\"/>\n",
       "<path clip-path=\"url(#clip762)\" d=\"M427.856 124.549 L427.856 164.549 L467.856 164.549 L467.856 124.549 L427.856 124.549 Z\" fill=\"#b1c115\" fill-rule=\"evenodd\" fill-opacity=\"1\" stroke=\"none\"/>\n",
       "<path clip-path=\"url(#clip762)\" d=\"M427.856 350.839 L427.856 390.839 L467.856 390.839 L467.856 350.839 L427.856 350.839 Z\" fill=\"#b1c115\" fill-rule=\"evenodd\" fill-opacity=\"1\" stroke=\"none\"/>\n",
       "<path clip-path=\"url(#clip762)\" d=\"M484.428 67.9763 L484.428 107.976 L524.428 107.976 L524.428 67.9763 L484.428 67.9763 Z\" fill=\"#b1c115\" fill-rule=\"evenodd\" fill-opacity=\"1\" stroke=\"none\"/>\n",
       "<path clip-path=\"url(#clip762)\" d=\"M484.428 124.549 L484.428 164.549 L524.428 164.549 L524.428 124.549 L484.428 124.549 Z\" fill=\"#d60400\" fill-rule=\"evenodd\" fill-opacity=\"1\" stroke=\"none\"/>\n",
       "<path clip-path=\"url(#clip762)\" d=\"M484.428 181.121 L484.428 221.121 L524.428 221.121 L524.428 181.121 L484.428 181.121 Z\" fill=\"#b1c115\" fill-rule=\"evenodd\" fill-opacity=\"1\" stroke=\"none\"/>\n",
       "<path clip-path=\"url(#clip762)\" d=\"M484.428 407.411 L484.428 447.411 L524.428 447.411 L524.428 407.411 L484.428 407.411 Z\" fill=\"#b1c115\" fill-rule=\"evenodd\" fill-opacity=\"1\" stroke=\"none\"/>\n",
       "<path clip-path=\"url(#clip762)\" d=\"M541.001 124.549 L541.001 164.549 L581.001 164.549 L581.001 124.549 L541.001 124.549 Z\" fill=\"#b1c115\" fill-rule=\"evenodd\" fill-opacity=\"1\" stroke=\"none\"/>\n",
       "<path clip-path=\"url(#clip762)\" d=\"M541.001 181.121 L541.001 221.121 L581.001 221.121 L581.001 181.121 L541.001 181.121 Z\" fill=\"#d60400\" fill-rule=\"evenodd\" fill-opacity=\"1\" stroke=\"none\"/>\n",
       "<path clip-path=\"url(#clip762)\" d=\"M541.001 237.694 L541.001 277.694 L581.001 277.694 L581.001 237.694 L541.001 237.694 Z\" fill=\"#b1c115\" fill-rule=\"evenodd\" fill-opacity=\"1\" stroke=\"none\"/>\n",
       "<path clip-path=\"url(#clip762)\" d=\"M541.001 463.984 L541.001 503.984 L581.001 503.984 L581.001 463.984 L541.001 463.984 Z\" fill=\"#b1c115\" fill-rule=\"evenodd\" fill-opacity=\"1\" stroke=\"none\"/>\n",
       "<path clip-path=\"url(#clip762)\" d=\"M597.573 181.121 L597.573 221.121 L637.573 221.121 L637.573 181.121 L597.573 181.121 Z\" fill=\"#b1c115\" fill-rule=\"evenodd\" fill-opacity=\"1\" stroke=\"none\"/>\n",
       "<path clip-path=\"url(#clip762)\" d=\"M597.573 237.694 L597.573 277.694 L637.573 277.694 L637.573 237.694 L597.573 237.694 Z\" fill=\"#d60400\" fill-rule=\"evenodd\" fill-opacity=\"1\" stroke=\"none\"/>\n",
       "<path clip-path=\"url(#clip762)\" d=\"M597.573 294.266 L597.573 334.266 L637.573 334.266 L637.573 294.266 L597.573 294.266 Z\" fill=\"#b1c115\" fill-rule=\"evenodd\" fill-opacity=\"1\" stroke=\"none\"/>\n",
       "<path clip-path=\"url(#clip762)\" d=\"M597.573 520.556 L597.573 560.556 L637.573 560.556 L637.573 520.556 L597.573 520.556 Z\" fill=\"#b1c115\" fill-rule=\"evenodd\" fill-opacity=\"1\" stroke=\"none\"/>\n",
       "<path clip-path=\"url(#clip762)\" d=\"M654.146 237.694 L654.146 277.694 L694.146 277.694 L694.146 237.694 L654.146 237.694 Z\" fill=\"#b1c115\" fill-rule=\"evenodd\" fill-opacity=\"1\" stroke=\"none\"/>\n",
       "<path clip-path=\"url(#clip762)\" d=\"M654.146 294.266 L654.146 334.266 L694.146 334.266 L694.146 294.266 L654.146 294.266 Z\" fill=\"#d60400\" fill-rule=\"evenodd\" fill-opacity=\"1\" stroke=\"none\"/>\n",
       "<path clip-path=\"url(#clip762)\" d=\"M654.146 577.129 L654.146 617.129 L694.146 617.129 L694.146 577.129 L654.146 577.129 Z\" fill=\"#b1c115\" fill-rule=\"evenodd\" fill-opacity=\"1\" stroke=\"none\"/>\n",
       "<path clip-path=\"url(#clip762)\" d=\"M710.718 67.9763 L710.718 107.976 L750.718 107.976 L750.718 67.9763 L710.718 67.9763 Z\" fill=\"#b1c115\" fill-rule=\"evenodd\" fill-opacity=\"1\" stroke=\"none\"/>\n",
       "<path clip-path=\"url(#clip762)\" d=\"M710.718 350.839 L710.718 390.839 L750.718 390.839 L750.718 350.839 L710.718 350.839 Z\" fill=\"#d60400\" fill-rule=\"evenodd\" fill-opacity=\"1\" stroke=\"none\"/>\n",
       "<path clip-path=\"url(#clip762)\" d=\"M710.718 407.411 L710.718 447.411 L750.718 447.411 L750.718 407.411 L710.718 407.411 Z\" fill=\"#b1c115\" fill-rule=\"evenodd\" fill-opacity=\"1\" stroke=\"none\"/>\n",
       "<path clip-path=\"url(#clip762)\" d=\"M710.718 633.701 L710.718 673.701 L750.718 673.701 L750.718 633.701 L710.718 633.701 Z\" fill=\"#b1c115\" fill-rule=\"evenodd\" fill-opacity=\"1\" stroke=\"none\"/>\n",
       "<path clip-path=\"url(#clip762)\" d=\"M767.291 124.549 L767.291 164.549 L807.291 164.549 L807.291 124.549 L767.291 124.549 Z\" fill=\"#b1c115\" fill-rule=\"evenodd\" fill-opacity=\"1\" stroke=\"none\"/>\n",
       "<path clip-path=\"url(#clip762)\" d=\"M767.291 350.839 L767.291 390.839 L807.291 390.839 L807.291 350.839 L767.291 350.839 Z\" fill=\"#b1c115\" fill-rule=\"evenodd\" fill-opacity=\"1\" stroke=\"none\"/>\n",
       "<path clip-path=\"url(#clip762)\" d=\"M767.291 407.411 L767.291 447.411 L807.291 447.411 L807.291 407.411 L767.291 407.411 Z\" fill=\"#d60400\" fill-rule=\"evenodd\" fill-opacity=\"1\" stroke=\"none\"/>\n",
       "<path clip-path=\"url(#clip762)\" d=\"M767.291 463.984 L767.291 503.984 L807.291 503.984 L807.291 463.984 L767.291 463.984 Z\" fill=\"#b1c115\" fill-rule=\"evenodd\" fill-opacity=\"1\" stroke=\"none\"/>\n",
       "<path clip-path=\"url(#clip762)\" d=\"M767.291 690.274 L767.291 730.274 L807.291 730.274 L807.291 690.274 L767.291 690.274 Z\" fill=\"#b1c115\" fill-rule=\"evenodd\" fill-opacity=\"1\" stroke=\"none\"/>\n",
       "<path clip-path=\"url(#clip762)\" d=\"M823.863 181.121 L823.863 221.121 L863.863 221.121 L863.863 181.121 L823.863 181.121 Z\" fill=\"#b1c115\" fill-rule=\"evenodd\" fill-opacity=\"1\" stroke=\"none\"/>\n",
       "<path clip-path=\"url(#clip762)\" d=\"M823.863 407.411 L823.863 447.411 L863.863 447.411 L863.863 407.411 L823.863 407.411 Z\" fill=\"#b1c115\" fill-rule=\"evenodd\" fill-opacity=\"1\" stroke=\"none\"/>\n",
       "<path clip-path=\"url(#clip762)\" d=\"M823.863 463.984 L823.863 503.984 L863.863 503.984 L863.863 463.984 L823.863 463.984 Z\" fill=\"#d60400\" fill-rule=\"evenodd\" fill-opacity=\"1\" stroke=\"none\"/>\n",
       "<path clip-path=\"url(#clip762)\" d=\"M823.863 520.556 L823.863 560.556 L863.863 560.556 L863.863 520.556 L823.863 520.556 Z\" fill=\"#b1c115\" fill-rule=\"evenodd\" fill-opacity=\"1\" stroke=\"none\"/>\n",
       "<path clip-path=\"url(#clip762)\" d=\"M823.863 746.846 L823.863 786.846 L863.863 786.846 L863.863 746.846 L823.863 746.846 Z\" fill=\"#b1c115\" fill-rule=\"evenodd\" fill-opacity=\"1\" stroke=\"none\"/>\n",
       "<path clip-path=\"url(#clip762)\" d=\"M880.436 237.694 L880.436 277.694 L920.436 277.694 L920.436 237.694 L880.436 237.694 Z\" fill=\"#b1c115\" fill-rule=\"evenodd\" fill-opacity=\"1\" stroke=\"none\"/>\n",
       "<path clip-path=\"url(#clip762)\" d=\"M880.436 463.984 L880.436 503.984 L920.436 503.984 L920.436 463.984 L880.436 463.984 Z\" fill=\"#b1c115\" fill-rule=\"evenodd\" fill-opacity=\"1\" stroke=\"none\"/>\n",
       "<path clip-path=\"url(#clip762)\" d=\"M880.436 520.556 L880.436 560.556 L920.436 560.556 L920.436 520.556 L880.436 520.556 Z\" fill=\"#d60400\" fill-rule=\"evenodd\" fill-opacity=\"1\" stroke=\"none\"/>\n",
       "<path clip-path=\"url(#clip762)\" d=\"M880.436 577.129 L880.436 617.129 L920.436 617.129 L920.436 577.129 L880.436 577.129 Z\" fill=\"#b1c115\" fill-rule=\"evenodd\" fill-opacity=\"1\" stroke=\"none\"/>\n",
       "<path clip-path=\"url(#clip762)\" d=\"M880.436 803.418 L880.436 843.418 L920.436 843.418 L920.436 803.418 L880.436 803.418 Z\" fill=\"#b1c115\" fill-rule=\"evenodd\" fill-opacity=\"1\" stroke=\"none\"/>\n",
       "<path clip-path=\"url(#clip762)\" d=\"M937.008 294.266 L937.008 334.266 L977.008 334.266 L977.008 294.266 L937.008 294.266 Z\" fill=\"#b1c115\" fill-rule=\"evenodd\" fill-opacity=\"1\" stroke=\"none\"/>\n",
       "<path clip-path=\"url(#clip762)\" d=\"M937.008 520.556 L937.008 560.556 L977.008 560.556 L977.008 520.556 L937.008 520.556 Z\" fill=\"#b1c115\" fill-rule=\"evenodd\" fill-opacity=\"1\" stroke=\"none\"/>\n",
       "<path clip-path=\"url(#clip762)\" d=\"M937.008 577.129 L937.008 617.129 L977.008 617.129 L977.008 577.129 L937.008 577.129 Z\" fill=\"#d60400\" fill-rule=\"evenodd\" fill-opacity=\"1\" stroke=\"none\"/>\n",
       "<path clip-path=\"url(#clip762)\" d=\"M937.008 859.991 L937.008 899.991 L977.008 899.991 L977.008 859.991 L937.008 859.991 Z\" fill=\"#b1c115\" fill-rule=\"evenodd\" fill-opacity=\"1\" stroke=\"none\"/>\n",
       "<path clip-path=\"url(#clip762)\" d=\"M993.581 350.839 L993.581 390.839 L1033.58 390.839 L1033.58 350.839 L993.581 350.839 Z\" fill=\"#b1c115\" fill-rule=\"evenodd\" fill-opacity=\"1\" stroke=\"none\"/>\n",
       "<path clip-path=\"url(#clip762)\" d=\"M993.581 633.701 L993.581 673.701 L1033.58 673.701 L1033.58 633.701 L993.581 633.701 Z\" fill=\"#d60400\" fill-rule=\"evenodd\" fill-opacity=\"1\" stroke=\"none\"/>\n",
       "<path clip-path=\"url(#clip762)\" d=\"M993.581 690.274 L993.581 730.274 L1033.58 730.274 L1033.58 690.274 L993.581 690.274 Z\" fill=\"#b1c115\" fill-rule=\"evenodd\" fill-opacity=\"1\" stroke=\"none\"/>\n",
       "<path clip-path=\"url(#clip762)\" d=\"M993.581 916.563 L993.581 956.563 L1033.58 956.563 L1033.58 916.563 L993.581 916.563 Z\" fill=\"#b1c115\" fill-rule=\"evenodd\" fill-opacity=\"1\" stroke=\"none\"/>\n",
       "<path clip-path=\"url(#clip762)\" d=\"M1050.15 407.411 L1050.15 447.411 L1090.15 447.411 L1090.15 407.411 L1050.15 407.411 Z\" fill=\"#b1c115\" fill-rule=\"evenodd\" fill-opacity=\"1\" stroke=\"none\"/>\n",
       "<path clip-path=\"url(#clip762)\" d=\"M1050.15 633.701 L1050.15 673.701 L1090.15 673.701 L1090.15 633.701 L1050.15 633.701 Z\" fill=\"#b1c115\" fill-rule=\"evenodd\" fill-opacity=\"1\" stroke=\"none\"/>\n",
       "<path clip-path=\"url(#clip762)\" d=\"M1050.15 690.274 L1050.15 730.274 L1090.15 730.274 L1090.15 690.274 L1050.15 690.274 Z\" fill=\"#d60400\" fill-rule=\"evenodd\" fill-opacity=\"1\" stroke=\"none\"/>\n",
       "<path clip-path=\"url(#clip762)\" d=\"M1050.15 746.846 L1050.15 786.846 L1090.15 786.846 L1090.15 746.846 L1050.15 746.846 Z\" fill=\"#b1c115\" fill-rule=\"evenodd\" fill-opacity=\"1\" stroke=\"none\"/>\n",
       "<path clip-path=\"url(#clip762)\" d=\"M1050.15 973.136 L1050.15 1013.14 L1090.15 1013.14 L1090.15 973.136 L1050.15 973.136 Z\" fill=\"#b1c115\" fill-rule=\"evenodd\" fill-opacity=\"1\" stroke=\"none\"/>\n",
       "<path clip-path=\"url(#clip762)\" d=\"M1106.73 463.984 L1106.73 503.984 L1146.73 503.984 L1146.73 463.984 L1106.73 463.984 Z\" fill=\"#b1c115\" fill-rule=\"evenodd\" fill-opacity=\"1\" stroke=\"none\"/>\n",
       "<path clip-path=\"url(#clip762)\" d=\"M1106.73 690.274 L1106.73 730.274 L1146.73 730.274 L1146.73 690.274 L1106.73 690.274 Z\" fill=\"#b1c115\" fill-rule=\"evenodd\" fill-opacity=\"1\" stroke=\"none\"/>\n",
       "<path clip-path=\"url(#clip762)\" d=\"M1106.73 746.846 L1106.73 786.846 L1146.73 786.846 L1146.73 746.846 L1106.73 746.846 Z\" fill=\"#d60400\" fill-rule=\"evenodd\" fill-opacity=\"1\" stroke=\"none\"/>\n",
       "<path clip-path=\"url(#clip762)\" d=\"M1106.73 803.418 L1106.73 843.418 L1146.73 843.418 L1146.73 803.418 L1106.73 803.418 Z\" fill=\"#b1c115\" fill-rule=\"evenodd\" fill-opacity=\"1\" stroke=\"none\"/>\n",
       "<path clip-path=\"url(#clip762)\" d=\"M1106.73 1029.71 L1106.73 1069.71 L1146.73 1069.71 L1146.73 1029.71 L1106.73 1029.71 Z\" fill=\"#b1c115\" fill-rule=\"evenodd\" fill-opacity=\"1\" stroke=\"none\"/>\n",
       "<path clip-path=\"url(#clip762)\" d=\"M1163.3 520.556 L1163.3 560.556 L1203.3 560.556 L1203.3 520.556 L1163.3 520.556 Z\" fill=\"#b1c115\" fill-rule=\"evenodd\" fill-opacity=\"1\" stroke=\"none\"/>\n",
       "<path clip-path=\"url(#clip762)\" d=\"M1163.3 746.846 L1163.3 786.846 L1203.3 786.846 L1203.3 746.846 L1163.3 746.846 Z\" fill=\"#b1c115\" fill-rule=\"evenodd\" fill-opacity=\"1\" stroke=\"none\"/>\n",
       "<path clip-path=\"url(#clip762)\" d=\"M1163.3 803.418 L1163.3 843.418 L1203.3 843.418 L1203.3 803.418 L1163.3 803.418 Z\" fill=\"#d60400\" fill-rule=\"evenodd\" fill-opacity=\"1\" stroke=\"none\"/>\n",
       "<path clip-path=\"url(#clip762)\" d=\"M1163.3 859.991 L1163.3 899.991 L1203.3 899.991 L1203.3 859.991 L1163.3 859.991 Z\" fill=\"#b1c115\" fill-rule=\"evenodd\" fill-opacity=\"1\" stroke=\"none\"/>\n",
       "<path clip-path=\"url(#clip762)\" d=\"M1163.3 1086.28 L1163.3 1126.28 L1203.3 1126.28 L1203.3 1086.28 L1163.3 1086.28 Z\" fill=\"#b1c115\" fill-rule=\"evenodd\" fill-opacity=\"1\" stroke=\"none\"/>\n",
       "<path clip-path=\"url(#clip762)\" d=\"M1219.87 577.129 L1219.87 617.129 L1259.87 617.129 L1259.87 577.129 L1219.87 577.129 Z\" fill=\"#b1c115\" fill-rule=\"evenodd\" fill-opacity=\"1\" stroke=\"none\"/>\n",
       "<path clip-path=\"url(#clip762)\" d=\"M1219.87 803.418 L1219.87 843.418 L1259.87 843.418 L1259.87 803.418 L1219.87 803.418 Z\" fill=\"#b1c115\" fill-rule=\"evenodd\" fill-opacity=\"1\" stroke=\"none\"/>\n",
       "<path clip-path=\"url(#clip762)\" d=\"M1219.87 859.991 L1219.87 899.991 L1259.87 899.991 L1259.87 859.991 L1219.87 859.991 Z\" fill=\"#d60400\" fill-rule=\"evenodd\" fill-opacity=\"1\" stroke=\"none\"/>\n",
       "<path clip-path=\"url(#clip762)\" d=\"M1219.87 1142.85 L1219.87 1182.85 L1259.87 1182.85 L1259.87 1142.85 L1219.87 1142.85 Z\" fill=\"#b1c115\" fill-rule=\"evenodd\" fill-opacity=\"1\" stroke=\"none\"/>\n",
       "<path clip-path=\"url(#clip762)\" d=\"M1276.44 633.701 L1276.44 673.701 L1316.44 673.701 L1316.44 633.701 L1276.44 633.701 Z\" fill=\"#b1c115\" fill-rule=\"evenodd\" fill-opacity=\"1\" stroke=\"none\"/>\n",
       "<path clip-path=\"url(#clip762)\" d=\"M1276.44 916.563 L1276.44 956.563 L1316.44 956.563 L1316.44 916.563 L1276.44 916.563 Z\" fill=\"#d60400\" fill-rule=\"evenodd\" fill-opacity=\"1\" stroke=\"none\"/>\n",
       "<path clip-path=\"url(#clip762)\" d=\"M1276.44 973.136 L1276.44 1013.14 L1316.44 1013.14 L1316.44 973.136 L1276.44 973.136 Z\" fill=\"#b1c115\" fill-rule=\"evenodd\" fill-opacity=\"1\" stroke=\"none\"/>\n",
       "<path clip-path=\"url(#clip762)\" d=\"M1276.44 1199.43 L1276.44 1239.43 L1316.44 1239.43 L1316.44 1199.43 L1276.44 1199.43 Z\" fill=\"#b1c115\" fill-rule=\"evenodd\" fill-opacity=\"1\" stroke=\"none\"/>\n",
       "<path clip-path=\"url(#clip762)\" d=\"M1333.02 690.274 L1333.02 730.274 L1373.02 730.274 L1373.02 690.274 L1333.02 690.274 Z\" fill=\"#b1c115\" fill-rule=\"evenodd\" fill-opacity=\"1\" stroke=\"none\"/>\n",
       "<path clip-path=\"url(#clip762)\" d=\"M1333.02 916.563 L1333.02 956.563 L1373.02 956.563 L1373.02 916.563 L1333.02 916.563 Z\" fill=\"#b1c115\" fill-rule=\"evenodd\" fill-opacity=\"1\" stroke=\"none\"/>\n",
       "<path clip-path=\"url(#clip762)\" d=\"M1333.02 973.136 L1333.02 1013.14 L1373.02 1013.14 L1373.02 973.136 L1333.02 973.136 Z\" fill=\"#d60400\" fill-rule=\"evenodd\" fill-opacity=\"1\" stroke=\"none\"/>\n",
       "<path clip-path=\"url(#clip762)\" d=\"M1333.02 1029.71 L1333.02 1069.71 L1373.02 1069.71 L1373.02 1029.71 L1333.02 1029.71 Z\" fill=\"#b1c115\" fill-rule=\"evenodd\" fill-opacity=\"1\" stroke=\"none\"/>\n",
       "<path clip-path=\"url(#clip762)\" d=\"M1333.02 1256 L1333.02 1296 L1373.02 1296 L1373.02 1256 L1333.02 1256 Z\" fill=\"#b1c115\" fill-rule=\"evenodd\" fill-opacity=\"1\" stroke=\"none\"/>\n",
       "<path clip-path=\"url(#clip762)\" d=\"M1389.59 746.846 L1389.59 786.846 L1429.59 786.846 L1429.59 746.846 L1389.59 746.846 Z\" fill=\"#b1c115\" fill-rule=\"evenodd\" fill-opacity=\"1\" stroke=\"none\"/>\n",
       "<path clip-path=\"url(#clip762)\" d=\"M1389.59 973.136 L1389.59 1013.14 L1429.59 1013.14 L1429.59 973.136 L1389.59 973.136 Z\" fill=\"#b1c115\" fill-rule=\"evenodd\" fill-opacity=\"1\" stroke=\"none\"/>\n",
       "<path clip-path=\"url(#clip762)\" d=\"M1389.59 1029.71 L1389.59 1069.71 L1429.59 1069.71 L1429.59 1029.71 L1389.59 1029.71 Z\" fill=\"#d60400\" fill-rule=\"evenodd\" fill-opacity=\"1\" stroke=\"none\"/>\n",
       "<path clip-path=\"url(#clip762)\" d=\"M1389.59 1086.28 L1389.59 1126.28 L1429.59 1126.28 L1429.59 1086.28 L1389.59 1086.28 Z\" fill=\"#b1c115\" fill-rule=\"evenodd\" fill-opacity=\"1\" stroke=\"none\"/>\n",
       "<path clip-path=\"url(#clip762)\" d=\"M1389.59 1312.57 L1389.59 1352.57 L1429.59 1352.57 L1429.59 1312.57 L1389.59 1312.57 Z\" fill=\"#b1c115\" fill-rule=\"evenodd\" fill-opacity=\"1\" stroke=\"none\"/>\n",
       "<path clip-path=\"url(#clip762)\" d=\"M1446.16 803.418 L1446.16 843.418 L1486.16 843.418 L1486.16 803.418 L1446.16 803.418 Z\" fill=\"#b1c115\" fill-rule=\"evenodd\" fill-opacity=\"1\" stroke=\"none\"/>\n",
       "<path clip-path=\"url(#clip762)\" d=\"M1446.16 1029.71 L1446.16 1069.71 L1486.16 1069.71 L1486.16 1029.71 L1446.16 1029.71 Z\" fill=\"#b1c115\" fill-rule=\"evenodd\" fill-opacity=\"1\" stroke=\"none\"/>\n",
       "<path clip-path=\"url(#clip762)\" d=\"M1446.16 1086.28 L1446.16 1126.28 L1486.16 1126.28 L1486.16 1086.28 L1446.16 1086.28 Z\" fill=\"#d60400\" fill-rule=\"evenodd\" fill-opacity=\"1\" stroke=\"none\"/>\n",
       "<path clip-path=\"url(#clip762)\" d=\"M1446.16 1142.85 L1446.16 1182.85 L1486.16 1182.85 L1486.16 1142.85 L1446.16 1142.85 Z\" fill=\"#b1c115\" fill-rule=\"evenodd\" fill-opacity=\"1\" stroke=\"none\"/>\n",
       "<path clip-path=\"url(#clip762)\" d=\"M1446.16 1369.14 L1446.16 1409.14 L1486.16 1409.14 L1486.16 1369.14 L1446.16 1369.14 Z\" fill=\"#b1c115\" fill-rule=\"evenodd\" fill-opacity=\"1\" stroke=\"none\"/>\n",
       "<path clip-path=\"url(#clip762)\" d=\"M1502.73 859.991 L1502.73 899.991 L1542.73 899.991 L1542.73 859.991 L1502.73 859.991 Z\" fill=\"#b1c115\" fill-rule=\"evenodd\" fill-opacity=\"1\" stroke=\"none\"/>\n",
       "<path clip-path=\"url(#clip762)\" d=\"M1502.73 1086.28 L1502.73 1126.28 L1542.73 1126.28 L1542.73 1086.28 L1502.73 1086.28 Z\" fill=\"#b1c115\" fill-rule=\"evenodd\" fill-opacity=\"1\" stroke=\"none\"/>\n",
       "<path clip-path=\"url(#clip762)\" d=\"M1502.73 1142.85 L1502.73 1182.85 L1542.73 1182.85 L1542.73 1142.85 L1502.73 1142.85 Z\" fill=\"#d60400\" fill-rule=\"evenodd\" fill-opacity=\"1\" stroke=\"none\"/>\n",
       "<path clip-path=\"url(#clip762)\" d=\"M1502.73 1425.72 L1502.73 1465.72 L1542.73 1465.72 L1542.73 1425.72 L1502.73 1425.72 Z\" fill=\"#b1c115\" fill-rule=\"evenodd\" fill-opacity=\"1\" stroke=\"none\"/>\n",
       "<path clip-path=\"url(#clip762)\" d=\"M1559.31 916.563 L1559.31 956.563 L1599.31 956.563 L1599.31 916.563 L1559.31 916.563 Z\" fill=\"#b1c115\" fill-rule=\"evenodd\" fill-opacity=\"1\" stroke=\"none\"/>\n",
       "<path clip-path=\"url(#clip762)\" d=\"M1559.31 1199.43 L1559.31 1239.43 L1599.31 1239.43 L1599.31 1199.43 L1559.31 1199.43 Z\" fill=\"#d60400\" fill-rule=\"evenodd\" fill-opacity=\"1\" stroke=\"none\"/>\n",
       "<path clip-path=\"url(#clip762)\" d=\"M1559.31 1256 L1559.31 1296 L1599.31 1296 L1599.31 1256 L1559.31 1256 Z\" fill=\"#b1c115\" fill-rule=\"evenodd\" fill-opacity=\"1\" stroke=\"none\"/>\n",
       "<path clip-path=\"url(#clip762)\" d=\"M1615.88 973.136 L1615.88 1013.14 L1655.88 1013.14 L1655.88 973.136 L1615.88 973.136 Z\" fill=\"#b1c115\" fill-rule=\"evenodd\" fill-opacity=\"1\" stroke=\"none\"/>\n",
       "<path clip-path=\"url(#clip762)\" d=\"M1615.88 1199.43 L1615.88 1239.43 L1655.88 1239.43 L1655.88 1199.43 L1615.88 1199.43 Z\" fill=\"#b1c115\" fill-rule=\"evenodd\" fill-opacity=\"1\" stroke=\"none\"/>\n",
       "<path clip-path=\"url(#clip762)\" d=\"M1615.88 1256 L1615.88 1296 L1655.88 1296 L1655.88 1256 L1615.88 1256 Z\" fill=\"#d60400\" fill-rule=\"evenodd\" fill-opacity=\"1\" stroke=\"none\"/>\n",
       "<path clip-path=\"url(#clip762)\" d=\"M1615.88 1312.57 L1615.88 1352.57 L1655.88 1352.57 L1655.88 1312.57 L1615.88 1312.57 Z\" fill=\"#b1c115\" fill-rule=\"evenodd\" fill-opacity=\"1\" stroke=\"none\"/>\n",
       "<path clip-path=\"url(#clip762)\" d=\"M1672.45 1029.71 L1672.45 1069.71 L1712.45 1069.71 L1712.45 1029.71 L1672.45 1029.71 Z\" fill=\"#b1c115\" fill-rule=\"evenodd\" fill-opacity=\"1\" stroke=\"none\"/>\n",
       "<path clip-path=\"url(#clip762)\" d=\"M1672.45 1256 L1672.45 1296 L1712.45 1296 L1712.45 1256 L1672.45 1256 Z\" fill=\"#b1c115\" fill-rule=\"evenodd\" fill-opacity=\"1\" stroke=\"none\"/>\n",
       "<path clip-path=\"url(#clip762)\" d=\"M1672.45 1312.57 L1672.45 1352.57 L1712.45 1352.57 L1712.45 1312.57 L1672.45 1312.57 Z\" fill=\"#d60400\" fill-rule=\"evenodd\" fill-opacity=\"1\" stroke=\"none\"/>\n",
       "<path clip-path=\"url(#clip762)\" d=\"M1672.45 1369.14 L1672.45 1409.14 L1712.45 1409.14 L1712.45 1369.14 L1672.45 1369.14 Z\" fill=\"#b1c115\" fill-rule=\"evenodd\" fill-opacity=\"1\" stroke=\"none\"/>\n",
       "<path clip-path=\"url(#clip762)\" d=\"M1729.02 1086.28 L1729.02 1126.28 L1769.02 1126.28 L1769.02 1086.28 L1729.02 1086.28 Z\" fill=\"#b1c115\" fill-rule=\"evenodd\" fill-opacity=\"1\" stroke=\"none\"/>\n",
       "<path clip-path=\"url(#clip762)\" d=\"M1729.02 1312.57 L1729.02 1352.57 L1769.02 1352.57 L1769.02 1312.57 L1729.02 1312.57 Z\" fill=\"#b1c115\" fill-rule=\"evenodd\" fill-opacity=\"1\" stroke=\"none\"/>\n",
       "<path clip-path=\"url(#clip762)\" d=\"M1729.02 1369.14 L1729.02 1409.14 L1769.02 1409.14 L1769.02 1369.14 L1729.02 1369.14 Z\" fill=\"#d60400\" fill-rule=\"evenodd\" fill-opacity=\"1\" stroke=\"none\"/>\n",
       "<path clip-path=\"url(#clip762)\" d=\"M1729.02 1425.72 L1729.02 1465.72 L1769.02 1465.72 L1769.02 1425.72 L1729.02 1425.72 Z\" fill=\"#b1c115\" fill-rule=\"evenodd\" fill-opacity=\"1\" stroke=\"none\"/>\n",
       "<path clip-path=\"url(#clip762)\" d=\"M1785.6 1142.85 L1785.6 1182.85 L1825.6 1182.85 L1825.6 1142.85 L1785.6 1142.85 Z\" fill=\"#b1c115\" fill-rule=\"evenodd\" fill-opacity=\"1\" stroke=\"none\"/>\n",
       "<path clip-path=\"url(#clip762)\" d=\"M1785.6 1369.14 L1785.6 1409.14 L1825.6 1409.14 L1825.6 1369.14 L1785.6 1369.14 Z\" fill=\"#b1c115\" fill-rule=\"evenodd\" fill-opacity=\"1\" stroke=\"none\"/>\n",
       "<path clip-path=\"url(#clip762)\" d=\"M1785.6 1425.72 L1785.6 1465.72 L1825.6 1465.72 L1825.6 1425.72 L1785.6 1425.72 Z\" fill=\"#d60400\" fill-rule=\"evenodd\" fill-opacity=\"1\" stroke=\"none\"/>\n",
       "<defs>\n",
       "  <clipPath id=\"clip763\">\n",
       "    <rect x=\"1894\" y=\"47\" width=\"73\" height=\"1440\"/>\n",
       "  </clipPath>\n",
       "</defs>\n",
       "<g clip-path=\"url(#clip763)\">\n",
       "<image width=\"72\" height=\"1439\" xlink:href=\"data:image/png;base64,\n",
       "iVBORw0KGgoAAAANSUhEUgAAAEgAAAWfCAYAAAAI7rB3AAAMnklEQVR4nO3dwZHjRhBFQYBTu/5b\n",
       "J2OkJbAWqN4ROGRawHjxg4xGDznnP3PcB//r8/QLeDuBgkBBoCBQmPPn99Ov4dUsKAgUBAoCBYHC\n",
       "nB+fYhsLCgIFgYJAYc6fX0+/hlezoCBQECgIFAQKc358im0sKAgUBAoCBYHCnJ95+jW8mgUFgYJA\n",
       "QaDgTTpYUBAoCBQECgIFn2LBgoJAQaAgUPAmHSwoCBQECgIFgcKcp0+xjQUFgYJAQaAgUJjz8/P0\n",
       "a3g1CwoCBYGCQMEDs2BBQaAgUBAoCBTmPB01NhYUBAoCBYGCQMFZLFhQECgIFAQKjhrBgoJAQaAg\n",
       "UBAo+BQLFhQECgIFgcIcngetLCgIFAQKAgWBgqNGsKAgUBAoCBQECr7MEiwoCBQECgIF35sPFhQE\n",
       "CgIFgYJAwQOzYEFBoCBQECgIFObwwGxlQUGgIFAQKHhgFiwoCBQECgIFgYIHZsGCgkBBoCBQ8CYd\n",
       "LCgIFAQKAgWBgq9kBgsKAgWBgkBBoOAsFiwoCBQECgIFb9LBgoJAQaAgUBAozOEvzFYWFAQKAgWB\n",
       "gkDBr78ECwoCBYGCQMEDs2BBQaAgUBAoCBQ8MAsWFAQKAgWBgqNGsKAgUBAoCBQECj7FggUFgYJA\n",
       "QaAgUPCVzGBBQaAgUBAoOGoECwoCBYGCQEGg4G4+WFAQKAgUBAqOGsGCgkBBoCBQECjM4VNsZUFB\n",
       "oCBQECgIFOZ0N7+yoCBQECgIFBw1ggUFgYJAQaAgUPApFiwoCBQECgIFgYI/XggWFAQKAgWBwhx+\n",
       "DXhlQUGgIFAQKAgUHDWCBQWBgkBBoDDHR6ONOkGgIFAQKAgU5jg12qgTBAoCBYGCQGFOZ7GVOkGg\n",
       "IFAQKHhgFtQJAgWBgkBBoDDHeT79Gl7NgoJAQaAgUBAojEQ7eYJAQaAgUJjz46ixsaAgUBAoCBQE\n",
       "Co4aQZ4gUBAoCBTm+NxPv4ZXs6AgUBAoCBQECuO7LDt5gkBBoCBQECg4iwULCgIFgYJAwZt0sKAg\n",
       "UBAoCBQECj7FggUFgYJAQaAgUJjTp9jKgoJAQaAgUJjjcz39Gl7NgoJAQaAgUBAoeGAWLCgIFAQK\n",
       "AgVv0sGCgkBBoCBQECh4YBYsKAgUBAoCBYGCu/lgQUGgIFAQKDhqBAsKAgWBgkBBoODaJ1hQECgI\n",
       "FAQK3qSDBQWBgkBBoCBQ8MAsWFAQKAgUBAoCBXfzwYKCQEGgIFBw1AgWFAQKAgWBgkBhjtNRY2NB\n",
       "QaAgUBAoCBScxYIFBYGCQEGg4C/MggUFgYJAQaAgUHDUCBYUBAoCBYGCW41gQUGgIFAQKAgUPDAL\n",
       "FhQECgIFgYJAYU4PzFYWFAQKAgWBggdmwYKCQEGgIFAQKLibDxYUBAoCBYGCQMG1T7CgIFAQKAgU\n",
       "HDWCBQWBgkBBoCBQcO0TLCgIFAQKAgVHjWBBQaAgUBAoCBTmOH2KbSwoCBQECgIFgYK7+WBBQaAg\n",
       "UBAoeGAWLCgIFAQKAgWBgrv5YEFBoCBQECgIFJzFggUFgYJAQaDgqBEsKAgUBAoCBYGCo0awoCBQ\n",
       "ECgIFLxJBwsKAgWBgkBBoOCBWbCgIFAQKAgUBArOYsGCgkBBoCBQ8L35YEFBoCBQECgIFHxvPlhQ\n",
       "ECgIFAQKAgVnsWBBQaAgUBAouNUIFhQECgIFgYJAwV+YBQsKAgWBgkDBUSNYUBAoCBQECgIFtxrB\n",
       "goJAQaAgUBAoOIsFCwoCBYGCQMFRI1hQECgIFAQKAoW5fZllZUFBoCBQECg4agQLCgIFgYJAQaDg\n",
       "ViNYUBAoCBQECgIFZ7FgQUGgIFAQKDhqBAsKAgWBgkBBoOCoESwoCBQECgIFgYKzWLCgIFAQKAgU\n",
       "HDWCBQWBgkBBoCBQmNtRY2VBQaAgUBAozHF+n34Nr2ZBQaAgUBAoCBTcagQLCgIFgYJAQaDg2idY\n",
       "UBAoCBQECo4awYKCQEGgIFAQKLj2CRYUBAoCBYGCQGFuD8xWFhQECgIFgcIcH0eNjQUFgYJAQaAg\n",
       "UPDALFhQECgIFAQKvnEYLCgIFAQKAgWBgqNGsKAgUBAoCBQECnP7FFtZUBAoCBQECnN8/jz9Gl7N\n",
       "goJAQaAgUBAoOGoECwoCBYGCQEGg4FMsWFAQKAgUBApznx6YbSwoCBQECgIFgYKjRrCgIFAQKAgU\n",
       "vEkHCwoCBYGCQEGgMNfhU2xjQUGgIFAQKAgU5nLts7KgIFAQKAgU5j78+svGgoJAQaAgUBAoeGAW\n",
       "LCgIFAQKAoW5HDVWFhQECgIFgYJAYa7jfvo1vJoFBYGCQEGgIFBwFgsWFAQKAgWBwniL3llQECgI\n",
       "FAQKAoX53h6YbSwoCBQECgIFgYKzWLCgIFAQKAgU5nLSWFlQECgIFAQKAoW5jvPp1/BqFhQECgIF\n",
       "gYKjRrCgIFAQKAgUBApuNYIFBYGCQEGgIFDwwCxYUBAoCBQECh6YBQsKAgWBgkBBoOCoESwoCBQE\n",
       "CgIFgcJ8ncVWFhQECgIFgYKjRrCgIFAQKAgUBAqufYIFBYGCQEGg4M+AgwUFgYJAQaAgUJjr9sBs\n",
       "Y0FBoCBQECgIFJzFggUFgYJAQaDgqBEsKAgUBAoCBYGCo0awoCBQECgIFAQKvswSLCgIFAQKAgUP\n",
       "zIIFBYGCQEGgIFDwwCxYUBAoCBQECr5xGCwoCBQECgIFgYJffwkWFAQKAgWBgkDBWSxYUBAoCBQE\n",
       "CvN9+hW8nAUFgYJAQaAgUPAXZsGCgkBBoCBQ8AdUwYKCQEGgIFAQKLjVCBYUBAoCBYGCQMFfmAUL\n",
       "CgIFgYJAwY+bBAsKAgWBgkBBoODaJ1hQECgIFAQKAgXXPsGCgkBBoCBQcKsRLCgIFAQKAgWBgqNG\n",
       "sKAgUBAoCBTczQcLCgIFgYJAQaDgbj5YUBAoCBQECgIFv/4SLCgIFAQKAgVHjWBBQaAgUBAoCBRc\n",
       "+wQLCgIFgYJAQaDgLBYsKAgUBAoCBbcawYKCQEGgIFAQKPj/YsGCgkBBoCBQ8I3DYEFBoCBQECgI\n",
       "FHyKBQsKAgWBgkBBoDBfv2G2sqAgUBAoCBQcNYIFBYGCQEGgIFDwZ8DBgoJAQaAgUBAo+EpmsKAg\n",
       "UBAoCBQcNYIFBYGCQEGgIFCYr69kriwoCBQECgIFd/PBgoJAQaAgUBAoeGAWLCgIFAQKAgWBgrv5\n",
       "YEFBoCBQECj4ia5gQUGgIFAQKAgU/FxysKAgUBAoCBQECs5iwYKCQEGgIFDwF2bBgoJAQaAgUBAo\n",
       "uJsPFhQECgIFgYLnQcGCgkBBoCBQECi4mw8WFAQKAgWBgkDBWSxYUBAoCBQECm41ggUFgYJAQaAg\n",
       "UPBDk8GCgkBBoCBQ8DwoWFAQKAgUBAoCBXfzwYKCQEGgIFAQKHhgFiwoCBQECgKF+R7epDcWFAQK\n",
       "AgWBgkDBA7NgQUGgIFAQKAgU5ntrtFEnCBQECgKFubxJr9QJAgWBgkBBoDDX8fP0a3g1CwoCBYGC\n",
       "QGGu25v0xoKCQEGgIFAQKMx9z9Ov4dUsKAgUBAoCBYHC3M5iKwsKAgWBgkDBUSNYUBAoCBQECgKF\n",
       "ue9fT7+GV7OgIFAQKAgUBApzOIutLCgIFAQKAoU5HDVWFhQECgIFgYJAwbVPsKAgUBAoCBQcNYIF\n",
       "BYGCQEGgIFCY4/IptrGgIFAQKAgUBAr+wixYUBAoCBQECm41ggUFgYJAQaAgUHDtEywoCBQECgIF\n",
       "gYIHZsGCgkBBoCBQmMsDs5UFBYGCQEGgIFBw1AgWFAQKAgWBwlyXo8bGgoJAQaAgUBAozOWosbKg\n",
       "IFAQKAgUBAqufYIFBYGCQEGgMF9HjZUFBYGCQEGgIFCYr6PGyoKCQEGgIFDwJh0sKAgUBAoCBYHC\n",
       "fP3Q5MqCgkBBoCBQECg4iwULCgIFgYJAYf54k15ZUBAoCBQECgIFR41gQUGgIFAQKAgU5uuHBVYW\n",
       "FAQKAgWBgm8cBgsKAgWBgkBBoOA3zIIFBYGCQEGgMIejxsqCgkBBoCBQECjM4aixsqAgUBAoCBQE\n",
       "CnM6i60sKAgUBAoChTkdNVYWFAQKAgWBgkBhPj7FVhYUBAoCBYGCQMFZLFhQECgIFAQK83GrsbKg\n",
       "IFAQKAgUBApzXj9Pv4ZXs6AgUBAoCBQ8DwoWFAQKAgWBgkDBp1iwoCBQECgIFAQKPsWCBQWBgkBB\n",
       "oDCHW42VBQWBgkBBoCBQ8OsvwYKCQEGgIFAQKPgUCxYUBAoCBYHC3N6kVxYUBAoCBYGCQMF/ZgkW\n",
       "FAQKAgWBwtzu5lcWFAQKAgWBgkDB/5sPFhQECgIFgYJAYb5fn2IbCwoCBYGCQGH+c9RYWVAQKAgU\n",
       "BAoChfnXp9jKgoJAQaAgUPgLTYkxpngRgUkAAAAASUVORK5CYII=\n",
       "\" transform=\"translate(1894, 47)\"/>\n",
       "</g>\n",
       "<path clip-path=\"url(#clip760)\" d=\"M2002.33 1363.34 L2032 1363.34 L2032 1367.27 L2002.33 1367.27 L2002.33 1363.34 Z\" fill=\"#000000\" fill-rule=\"nonzero\" fill-opacity=\"1\" /><path clip-path=\"url(#clip760)\" d=\"M2056.26 1361.53 Q2059.62 1362.25 2061.49 1364.52 Q2063.39 1366.79 2063.39 1370.12 Q2063.39 1375.23 2059.87 1378.04 Q2056.36 1380.84 2049.87 1380.84 Q2047.7 1380.84 2045.38 1380.4 Q2043.09 1379.98 2040.64 1379.12 L2040.64 1374.61 Q2042.58 1375.74 2044.9 1376.32 Q2047.21 1376.9 2049.73 1376.9 Q2054.13 1376.9 2056.42 1375.17 Q2058.74 1373.43 2058.74 1370.12 Q2058.74 1367.06 2056.59 1365.35 Q2054.46 1363.61 2050.64 1363.61 L2046.61 1363.61 L2046.61 1359.77 L2050.82 1359.77 Q2054.27 1359.77 2056.1 1358.41 Q2057.93 1357.02 2057.93 1354.42 Q2057.93 1351.76 2056.03 1350.35 Q2054.16 1348.92 2050.64 1348.92 Q2048.72 1348.92 2046.52 1349.33 Q2044.32 1349.75 2041.68 1350.63 L2041.68 1346.46 Q2044.34 1345.72 2046.66 1345.35 Q2048.99 1344.98 2051.05 1344.98 Q2056.38 1344.98 2059.48 1347.41 Q2062.58 1349.82 2062.58 1353.94 Q2062.58 1356.81 2060.94 1358.8 Q2059.29 1360.77 2056.26 1361.53 Z\" fill=\"#000000\" fill-rule=\"nonzero\" fill-opacity=\"1\" /><path clip-path=\"url(#clip760)\" d=\"M2082.26 1348.68 Q2078.65 1348.68 2076.82 1352.25 Q2075.01 1355.79 2075.01 1362.92 Q2075.01 1370.03 2076.82 1373.59 Q2078.65 1377.13 2082.26 1377.13 Q2085.89 1377.13 2087.7 1373.59 Q2089.53 1370.03 2089.53 1362.92 Q2089.53 1355.79 2087.7 1352.25 Q2085.89 1348.68 2082.26 1348.68 M2082.26 1344.98 Q2088.07 1344.98 2091.12 1349.59 Q2094.2 1354.17 2094.2 1362.92 Q2094.2 1371.65 2091.12 1376.25 Q2088.07 1380.84 2082.26 1380.84 Q2076.45 1380.84 2073.37 1376.25 Q2070.31 1371.65 2070.31 1362.92 Q2070.31 1354.17 2073.37 1349.59 Q2076.45 1344.98 2082.26 1344.98 Z\" fill=\"#000000\" fill-rule=\"nonzero\" fill-opacity=\"1\" /><polyline clip-path=\"url(#clip760)\" style=\"stroke:#000000; stroke-linecap:round; stroke-linejoin:round; stroke-width:4; stroke-opacity:1; fill:none\" points=\"1966.33,1366.51 1990.33,1366.51 \"/>\n",
       "<path clip-path=\"url(#clip760)\" d=\"M2002.33 1163.45 L2032 1163.45 L2032 1167.38 L2002.33 1167.38 L2002.33 1163.45 Z\" fill=\"#000000\" fill-rule=\"nonzero\" fill-opacity=\"1\" /><path clip-path=\"url(#clip760)\" d=\"M2046.12 1176.34 L2062.44 1176.34 L2062.44 1180.28 L2040.5 1180.28 L2040.5 1176.34 Q2043.16 1173.59 2047.74 1168.96 Q2052.35 1164.3 2053.53 1162.96 Q2055.78 1160.44 2056.66 1158.7 Q2057.56 1156.94 2057.56 1155.25 Q2057.56 1152.5 2055.61 1150.76 Q2053.69 1149.03 2050.59 1149.03 Q2048.39 1149.03 2045.94 1149.79 Q2043.51 1150.55 2040.73 1152.1 L2040.73 1147.38 Q2043.55 1146.25 2046.01 1145.67 Q2048.46 1145.09 2050.5 1145.09 Q2055.87 1145.09 2059.06 1147.78 Q2062.26 1150.46 2062.26 1154.95 Q2062.26 1157.08 2061.45 1159 Q2060.66 1160.9 2058.55 1163.49 Q2057.98 1164.16 2054.87 1167.38 Q2051.77 1170.58 2046.12 1176.34 Z\" fill=\"#000000\" fill-rule=\"nonzero\" fill-opacity=\"1\" /><path clip-path=\"url(#clip760)\" d=\"M2082.26 1148.79 Q2078.65 1148.79 2076.82 1152.36 Q2075.01 1155.9 2075.01 1163.03 Q2075.01 1170.14 2076.82 1173.7 Q2078.65 1177.24 2082.26 1177.24 Q2085.89 1177.24 2087.7 1173.7 Q2089.53 1170.14 2089.53 1163.03 Q2089.53 1155.9 2087.7 1152.36 Q2085.89 1148.79 2082.26 1148.79 M2082.26 1145.09 Q2088.07 1145.09 2091.12 1149.7 Q2094.2 1154.28 2094.2 1163.03 Q2094.2 1171.76 2091.12 1176.36 Q2088.07 1180.95 2082.26 1180.95 Q2076.45 1180.95 2073.37 1176.36 Q2070.31 1171.76 2070.31 1163.03 Q2070.31 1154.28 2073.37 1149.7 Q2076.45 1145.09 2082.26 1145.09 Z\" fill=\"#000000\" fill-rule=\"nonzero\" fill-opacity=\"1\" /><polyline clip-path=\"url(#clip760)\" style=\"stroke:#000000; stroke-linecap:round; stroke-linejoin:round; stroke-width:4; stroke-opacity:1; fill:none\" points=\"1966.33,1166.62 1990.33,1166.62 \"/>\n",
       "<path clip-path=\"url(#clip760)\" d=\"M2002.33 963.558 L2032 963.558 L2032 967.493 L2002.33 967.493 L2002.33 963.558 Z\" fill=\"#000000\" fill-rule=\"nonzero\" fill-opacity=\"1\" /><path clip-path=\"url(#clip760)\" d=\"M2042.91 976.451 L2050.54 976.451 L2050.54 950.086 L2042.23 951.752 L2042.23 947.493 L2050.5 945.827 L2055.17 945.827 L2055.17 976.451 L2062.81 976.451 L2062.81 980.387 L2042.91 980.387 L2042.91 976.451 Z\" fill=\"#000000\" fill-rule=\"nonzero\" fill-opacity=\"1\" /><path clip-path=\"url(#clip760)\" d=\"M2082.26 948.905 Q2078.65 948.905 2076.82 952.47 Q2075.01 956.012 2075.01 963.141 Q2075.01 970.248 2076.82 973.813 Q2078.65 977.354 2082.26 977.354 Q2085.89 977.354 2087.7 973.813 Q2089.53 970.248 2089.53 963.141 Q2089.53 956.012 2087.7 952.47 Q2085.89 948.905 2082.26 948.905 M2082.26 945.202 Q2088.07 945.202 2091.12 949.808 Q2094.2 954.391 2094.2 963.141 Q2094.2 971.868 2091.12 976.475 Q2088.07 981.058 2082.26 981.058 Q2076.45 981.058 2073.37 976.475 Q2070.31 971.868 2070.31 963.141 Q2070.31 954.391 2073.37 949.808 Q2076.45 945.202 2082.26 945.202 Z\" fill=\"#000000\" fill-rule=\"nonzero\" fill-opacity=\"1\" /><polyline clip-path=\"url(#clip760)\" style=\"stroke:#000000; stroke-linecap:round; stroke-linejoin:round; stroke-width:4; stroke-opacity:1; fill:none\" points=\"1966.33,966.735 1990.33,966.735 \"/>\n",
       "<path clip-path=\"url(#clip760)\" d=\"M2014.27 749.016 Q2010.66 749.016 2008.83 752.581 Q2007.03 756.122 2007.03 763.252 Q2007.03 770.358 2008.83 773.923 Q2010.66 777.465 2014.27 777.465 Q2017.91 777.465 2019.71 773.923 Q2021.54 770.358 2021.54 763.252 Q2021.54 756.122 2019.71 752.581 Q2017.91 749.016 2014.27 749.016 M2014.27 745.312 Q2020.08 745.312 2023.14 749.919 Q2026.22 754.502 2026.22 763.252 Q2026.22 771.979 2023.14 776.585 Q2020.08 781.168 2014.27 781.168 Q2008.46 781.168 2005.38 776.585 Q2002.33 771.979 2002.33 763.252 Q2002.33 754.502 2005.38 749.919 Q2008.46 745.312 2014.27 745.312 Z\" fill=\"#000000\" fill-rule=\"nonzero\" fill-opacity=\"1\" /><polyline clip-path=\"url(#clip760)\" style=\"stroke:#000000; stroke-linecap:round; stroke-linejoin:round; stroke-width:4; stroke-opacity:1; fill:none\" points=\"1966.33,766.846 1990.33,766.846 \"/>\n",
       "<path clip-path=\"url(#clip760)\" d=\"M2003 576.673 L2010.64 576.673 L2010.64 550.307 L2002.33 551.974 L2002.33 547.714 L2010.59 546.048 L2015.27 546.048 L2015.27 576.673 L2022.91 576.673 L2022.91 580.608 L2003 580.608 L2003 576.673 Z\" fill=\"#000000\" fill-rule=\"nonzero\" fill-opacity=\"1\" /><path clip-path=\"url(#clip760)\" d=\"M2042.35 549.126 Q2038.74 549.126 2036.91 552.691 Q2035.11 556.233 2035.11 563.362 Q2035.11 570.469 2036.91 574.034 Q2038.74 577.575 2042.35 577.575 Q2045.98 577.575 2047.79 574.034 Q2049.62 570.469 2049.62 563.362 Q2049.62 556.233 2047.79 552.691 Q2045.98 549.126 2042.35 549.126 M2042.35 545.423 Q2048.16 545.423 2051.22 550.029 Q2054.29 554.613 2054.29 563.362 Q2054.29 572.089 2051.22 576.696 Q2048.16 581.279 2042.35 581.279 Q2036.54 581.279 2033.46 576.696 Q2030.41 572.089 2030.41 563.362 Q2030.41 554.613 2033.46 550.029 Q2036.54 545.423 2042.35 545.423 Z\" fill=\"#000000\" fill-rule=\"nonzero\" fill-opacity=\"1\" /><polyline clip-path=\"url(#clip760)\" style=\"stroke:#000000; stroke-linecap:round; stroke-linejoin:round; stroke-width:4; stroke-opacity:1; fill:none\" points=\"1966.33,566.957 1990.33,566.957 \"/>\n",
       "<path clip-path=\"url(#clip760)\" d=\"M2007.95 376.783 L2024.27 376.783 L2024.27 380.718 L2002.33 380.718 L2002.33 376.783 Q2004.99 374.029 2009.57 369.399 Q2014.18 364.746 2015.36 363.404 Q2017.61 360.88 2018.48 359.144 Q2019.39 357.385 2019.39 355.695 Q2019.39 352.941 2017.44 351.205 Q2015.52 349.469 2012.42 349.469 Q2010.22 349.469 2007.77 350.232 Q2005.34 350.996 2002.56 352.547 L2002.56 347.825 Q2005.38 346.691 2007.84 346.112 Q2010.29 345.533 2012.33 345.533 Q2017.7 345.533 2020.89 348.219 Q2024.09 350.904 2024.09 355.394 Q2024.09 357.524 2023.28 359.445 Q2022.49 361.343 2020.38 363.936 Q2019.8 364.607 2016.7 367.825 Q2013.6 371.019 2007.95 376.783 Z\" fill=\"#000000\" fill-rule=\"nonzero\" fill-opacity=\"1\" /><path clip-path=\"url(#clip760)\" d=\"M2044.09 349.237 Q2040.48 349.237 2038.65 352.802 Q2036.84 356.343 2036.84 363.473 Q2036.84 370.58 2038.65 374.144 Q2040.48 377.686 2044.09 377.686 Q2047.72 377.686 2049.53 374.144 Q2051.36 370.58 2051.36 363.473 Q2051.36 356.343 2049.53 352.802 Q2047.72 349.237 2044.09 349.237 M2044.09 345.533 Q2049.9 345.533 2052.95 350.14 Q2056.03 354.723 2056.03 363.473 Q2056.03 372.2 2052.95 376.806 Q2049.9 381.39 2044.09 381.39 Q2038.28 381.39 2035.2 376.806 Q2032.14 372.2 2032.14 363.473 Q2032.14 354.723 2035.2 350.14 Q2038.28 345.533 2044.09 345.533 Z\" fill=\"#000000\" fill-rule=\"nonzero\" fill-opacity=\"1\" /><polyline clip-path=\"url(#clip760)\" style=\"stroke:#000000; stroke-linecap:round; stroke-linejoin:round; stroke-width:4; stroke-opacity:1; fill:none\" points=\"1966.33,367.067 1990.33,367.067 \"/>\n",
       "<path clip-path=\"url(#clip760)\" d=\"M2017.95 162.195 Q2021.31 162.912 2023.18 165.181 Q2025.08 167.449 2025.08 170.783 Q2025.08 175.898 2021.56 178.699 Q2018.05 181.5 2011.56 181.5 Q2009.39 181.5 2007.07 181.06 Q2004.78 180.644 2002.33 179.787 L2002.33 175.273 Q2004.27 176.408 2006.59 176.986 Q2008.9 177.565 2011.42 177.565 Q2015.82 177.565 2018.11 175.829 Q2020.43 174.093 2020.43 170.783 Q2020.43 167.727 2018.28 166.014 Q2016.15 164.278 2012.33 164.278 L2008.3 164.278 L2008.3 160.436 L2012.51 160.436 Q2015.96 160.436 2017.79 159.07 Q2019.62 157.681 2019.62 155.088 Q2019.62 152.426 2017.72 151.014 Q2015.85 149.579 2012.33 149.579 Q2010.41 149.579 2008.21 149.996 Q2006.01 150.412 2003.37 151.292 L2003.37 147.125 Q2006.03 146.385 2008.35 146.014 Q2010.68 145.644 2012.74 145.644 Q2018.07 145.644 2021.17 148.074 Q2024.27 150.482 2024.27 154.602 Q2024.27 157.473 2022.63 159.463 Q2020.98 161.431 2017.95 162.195 Z\" fill=\"#000000\" fill-rule=\"nonzero\" fill-opacity=\"1\" /><path clip-path=\"url(#clip760)\" d=\"M2043.95 149.348 Q2040.34 149.348 2038.51 152.912 Q2036.7 156.454 2036.7 163.584 Q2036.7 170.69 2038.51 174.255 Q2040.34 177.797 2043.95 177.797 Q2047.58 177.797 2049.39 174.255 Q2051.22 170.69 2051.22 163.584 Q2051.22 156.454 2049.39 152.912 Q2047.58 149.348 2043.95 149.348 M2043.95 145.644 Q2049.76 145.644 2052.81 150.25 Q2055.89 154.834 2055.89 163.584 Q2055.89 172.31 2052.81 176.917 Q2049.76 181.5 2043.95 181.5 Q2038.14 181.5 2035.06 176.917 Q2032 172.31 2032 163.584 Q2032 154.834 2035.06 150.25 Q2038.14 145.644 2043.95 145.644 Z\" fill=\"#000000\" fill-rule=\"nonzero\" fill-opacity=\"1\" /><polyline clip-path=\"url(#clip760)\" style=\"stroke:#000000; stroke-linecap:round; stroke-linejoin:round; stroke-width:4; stroke-opacity:1; fill:none\" points=\"1966.33,167.178 1990.33,167.178 \"/>\n",
       "<polyline clip-path=\"url(#clip760)\" style=\"stroke:#000000; stroke-linecap:round; stroke-linejoin:round; stroke-width:4; stroke-opacity:1; fill:none\" points=\"1966.33,1486.45 1966.33,47.2441 \"/>\n",
       "</svg>\n"
      ]
     },
     "execution_count": 7,
     "metadata": {},
     "output_type": "execute_result"
    }
   ],
   "source": [
    "A = advdiff_matrix(5, wind=[0, 0])\n",
    "@show norm(A - A') # Is this matrix symmetric?\n",
    "my_spy(A)"
   ]
  },
  {
   "cell_type": "markdown",
   "id": "02546117",
   "metadata": {},
   "source": [
    "**Question**: What structure does this matrix have?"
   ]
  },
  {
   "cell_type": "markdown",
   "id": "8ed327d8",
   "metadata": {
    "slideshow": {
     "slide_type": "fragment"
    }
   },
   "source": [
    "* Sparse\n",
    "* Symmetric (automatically Hermitian if real)\n",
    "* Banded. _Bandwidth_ is the smallest non-negative integer $k$ such that $A_{ij} = 0 \\;\\;  \\forall \\; |i - j| > k$. What is it?"
   ]
  },
  {
   "cell_type": "markdown",
   "id": "c1d1de84",
   "metadata": {
    "slideshow": {
     "slide_type": "slide"
    }
   },
   "source": [
    "# Direct methods\n",
    "\n",
    "Gaussian elimination and Cholesky"
   ]
  },
  {
   "cell_type": "markdown",
   "id": "550a9a20",
   "metadata": {
    "cell_style": "split"
   },
   "source": [
    "## $LU = A$ (Gaussian elimination / LU decomposition)\n",
    "Given a $2\\times 2$ block matrix, the algorithm proceeds as\n",
    "\\begin{split}\n",
    "  \\begin{bmatrix} A & B \\\\ C & D \\end{bmatrix} =\n",
    "  \\begin{bmatrix} L_A & \\\\ C U_A^{-1} & 1 \\end{bmatrix}\n",
    "  \\begin{bmatrix} U_A & L_A^{-1} B \\\\ & S \\end{bmatrix}\n",
    "\\end{split}\n",
    "where $L_A U_A = A$ and\n",
    "$$S = D - C \\underbrace{U_A^{-1} L_A^{-1}}_{A^{-1}} B  \\quad \\text{is the Schur complement of the block }A.$$\n",
    "\n",
    "## $L L^T = A$ [Cholesky](https://en.wikipedia.org/wiki/Cholesky_decomposition) decomposition\n",
    "\\begin{split}\n",
    "  \\begin{bmatrix} A & B^T \\\\ B & D \\end{bmatrix} =\n",
    "  \\begin{bmatrix} L_A & \\\\ B L_A^{-T} & 1 \\end{bmatrix}\n",
    "  \\begin{bmatrix} L_A^T & L_A^{-1} B^T \\\\ & S \\end{bmatrix}\n",
    "\\end{split}\n",
    "where $L_A L_A^T = A$ and\n",
    "$$ S = D - B \\underbrace{L_A^{-T} L_A^{-1}}_{A^{-1}} B^T .$$"
   ]
  },
  {
   "cell_type": "code",
   "execution_count": null,
   "id": "4e34481d",
   "metadata": {
    "cell_style": "split",
    "slideshow": {
     "slide_type": "subslide"
    }
   },
   "outputs": [],
   "source": [
    "A = advdiff_matrix(5)\n",
    "N = size(A, 1)\n",
    "ch = cholesky(A, perm=1:N)\n",
    "my_spy(A)\n",
    "my_spy(sparse(ch.L))"
   ]
  },
  {
   "cell_type": "markdown",
   "id": "012a1872",
   "metadata": {},
   "source": [
    "If $A$ was banded (e.g. tridiagonal), then Cholesky factor $L$ is also banded (with the same bandwidth!)"
   ]
  },
  {
   "cell_type": "markdown",
   "id": "0886cb0a",
   "metadata": {
    "slideshow": {
     "slide_type": "slide"
    }
   },
   "source": [
    "# Cost of a banded solve"
   ]
  },
  {
   "cell_type": "markdown",
   "id": "9253467c",
   "metadata": {
    "cell_style": "split",
    "slideshow": {
     "slide_type": ""
    }
   },
   "source": [
    "* Consider an $N\\times N$ matrix with bandwidth $b$, $1 \\le b \\le N$ (Thomas' algorithm)\n",
    "\n",
    "    * Work one row at a time\n",
    "    * Each row/column of panel has $b$ nonzeros\n",
    "    * Schur update affects $b\\times b$ sub-matrix\n",
    "    * Total compute cost $N b^2$\n",
    "    * Storage cost $N b$\n",
    "\n",
    "**Question**:\n",
    "* What bandwidth $b$ is needed for an $N = n\\times n \\times n$ cube in 3 dimensions?\n",
    "* What is the memory cost?\n",
    "* What is the compute cost?"
   ]
  },
  {
   "cell_type": "code",
   "execution_count": null,
   "id": "2417afdd",
   "metadata": {
    "cell_style": "split",
    "slideshow": {
     "slide_type": "subslide"
    }
   },
   "outputs": [],
   "source": [
    "my_spy(sparse(ch.L))"
   ]
  },
  {
   "cell_type": "markdown",
   "id": "6daa8565",
   "metadata": {
    "slideshow": {
     "slide_type": "slide"
    }
   },
   "source": [
    "# Different orderings"
   ]
  },
  {
   "cell_type": "code",
   "execution_count": null,
   "id": "0951307c",
   "metadata": {
    "cell_style": "split"
   },
   "outputs": [],
   "source": [
    "n = 20\n",
    "A = advdiff_matrix(n)\n",
    "heatmap(reshape(1:n^2, n, n))\n",
    "#reshape(1:n^2, n, n)"
   ]
  },
  {
   "cell_type": "markdown",
   "id": "000eb1a3",
   "metadata": {
    "slideshow": {
     "slide_type": "subslide"
    }
   },
   "source": [
    "## [Metis](https://github.com/JuliaSparse/Metis.jl)"
   ]
  },
  {
   "cell_type": "code",
   "execution_count": null,
   "id": "2eb468a1",
   "metadata": {
    "cell_style": "split",
    "slideshow": {
     "slide_type": "-"
    }
   },
   "outputs": [],
   "source": [
    "import Metis\n",
    "perm, iperm = Metis.permutation(A)\n",
    "heatmap(reshape(iperm, n, n))"
   ]
  },
  {
   "cell_type": "code",
   "execution_count": null,
   "id": "59338ca0",
   "metadata": {
    "cell_style": "split",
    "slideshow": {
     "slide_type": "subslide"
    }
   },
   "outputs": [],
   "source": [
    "cholesky(A, perm=1:n^2)"
   ]
  },
  {
   "cell_type": "code",
   "execution_count": null,
   "id": "96cd8cc0",
   "metadata": {
    "cell_style": "split"
   },
   "outputs": [],
   "source": [
    "cholesky(A, perm=Vector{Int64}(perm))"
   ]
  },
  {
   "cell_type": "markdown",
   "id": "87dfedb7",
   "metadata": {
    "slideshow": {
     "slide_type": "slide"
    }
   },
   "source": [
    "# Cholesky factors in nested dissection"
   ]
  },
  {
   "cell_type": "code",
   "execution_count": null,
   "id": "253f096e",
   "metadata": {
    "cell_style": "split"
   },
   "outputs": [],
   "source": [
    "n = 10\n",
    "A = advdiff_matrix(n)\n",
    "perm, iperm = Metis.permutation(A)\n",
    "my_spy(A[perm, perm])"
   ]
  },
  {
   "cell_type": "code",
   "execution_count": null,
   "id": "7e8edfc0",
   "metadata": {
    "cell_style": "split",
    "slideshow": {
     "slide_type": "subslide"
    }
   },
   "outputs": [],
   "source": [
    "ch = cholesky(A, perm=Vector{Int64}(perm))\n",
    "my_spy(sparse(ch.L))"
   ]
  },
  {
   "cell_type": "markdown",
   "id": "30b23f72",
   "metadata": {},
   "source": [
    "* The dense blocks in factor $L$ are \"supernodes\"\n",
    "* They correspond to \"vertex separators\" in the ordering"
   ]
  },
  {
   "cell_type": "markdown",
   "id": "3e1b993f",
   "metadata": {
    "slideshow": {
     "slide_type": "slide"
    }
   },
   "source": [
    "# Cost in nested dissection\n",
    "\n",
    "* Cost is dominated by dense factorization of the largest supernode\n",
    "* Its size comes from the vertex separator size"
   ]
  },
  {
   "cell_type": "markdown",
   "id": "e484cce5",
   "metadata": {
    "cell_style": "split"
   },
   "source": [
    "## 2D square\n",
    "\n",
    "* $N = n^2$ dofs\n",
    "* Vertex separator of size $n$\n",
    "* Compute cost $v^3 = N^{3/2}$\n",
    "* Storage cost $N \\log N$"
   ]
  },
  {
   "cell_type": "markdown",
   "id": "2126ddc9",
   "metadata": {
    "cell_style": "split"
   },
   "source": [
    "## 3D Cube\n",
    "\n",
    "* $N = n^3$ dofs\n",
    "* Vertex separator of size $v = n^2$\n",
    "* Compute cost $v^3 = n^6 = N^2$\n",
    "* Storage cost $v^2 = n^4 = N^{4/3}$"
   ]
  },
  {
   "cell_type": "markdown",
   "id": "619ad110",
   "metadata": {
    "slideshow": {
     "slide_type": "subslide"
    }
   },
   "source": [
    "## Questions\n",
    "\n",
    "1. How much does the cost change if we switch from Dirichlet to periodic boundary conditions in 2D?\n",
    "2. How much does the cost change if we move from 5-point stencil ($O(h^2)$ accuracy) to 9-point \"star\" stencil ($O(h^4)$ accuracy)?\n",
    "3. Would you rather solve a 3D problem on a $10\\times 10\\times 10000$ grid or $100\\times 100 \\times 100$?"
   ]
  },
  {
   "cell_type": "markdown",
   "id": "7ecb54f8",
   "metadata": {
    "slideshow": {
     "slide_type": "slide"
    }
   },
   "source": [
    "# Test our intuition"
   ]
  },
  {
   "cell_type": "code",
   "execution_count": null,
   "id": "846554fb",
   "metadata": {
    "cell_style": "split"
   },
   "outputs": [],
   "source": [
    "n = 50\n",
    "A_dirichlet = advdiff_matrix(n)\n",
    "perm, iperm = Metis.permutation(A_dirichlet)\n",
    "cholesky(A_dirichlet, perm=Vector{Int64}(perm))\n",
    "#cholesky(A_dirichlet)"
   ]
  },
  {
   "cell_type": "code",
   "execution_count": null,
   "id": "bdfe8e0b",
   "metadata": {
    "cell_style": "split"
   },
   "outputs": [],
   "source": [
    "A_periodic = laplacian_matrix(n) + 1e-10*I # To make it num psd\n",
    "perm, iperm = Metis.permutation(A_periodic)\n",
    "ch = cholesky(A_periodic, perm=Vector{Int64}(perm))\n",
    "#cholesky(A_periodic)\n",
    "my_spy(sparse(ch.L))"
   ]
  },
  {
   "cell_type": "markdown",
   "id": "8bd923b9",
   "metadata": {
    "slideshow": {
     "slide_type": "slide"
    }
   },
   "source": [
    "# How expensive how fast?\n",
    "\n",
    "Suppose we have a second order accurate method in 3D."
   ]
  },
  {
   "cell_type": "code",
   "execution_count": null,
   "id": "a65f23cb",
   "metadata": {
    "cell_style": "split"
   },
   "outputs": [],
   "source": [
    "n = 2. .^ (2:13)\n",
    "N = n.^3\n",
    "error = (50 ./ n) .^ 2\n",
    "seconds = 1e-10 * N.^2\n",
    "hours = seconds / 3600\n",
    "cloud_dollars = 3 * hours\n",
    "kW_hours = 0.2 * hours\n",
    "barrel_of_oil = kW_hours / 1700\n",
    "kg_CO2 = kW_hours * 0.709\n",
    ";"
   ]
  },
  {
   "cell_type": "code",
   "execution_count": null,
   "id": "89d6e67a",
   "metadata": {
    "cell_style": "split"
   },
   "outputs": [],
   "source": [
    "cost = hours\n",
    "plot(cost, error, xlabel=\"cost\", ylabel=\"error\", xscale=:log10, yscale=:log10)"
   ]
  },
  {
   "cell_type": "markdown",
   "id": "d050af8e",
   "metadata": {
    "slideshow": {
     "slide_type": "fragment"
    }
   },
   "source": [
    "* [Barrel of oil equivalent](https://en.wikipedia.org/wiki/Barrel_of_oil_equivalent)\n",
    "* [Electricity emission factor](https://www.epa.gov/energy/greenhouse-gases-equivalencies-calculator-calculations-and-references)"
   ]
  },
  {
   "cell_type": "markdown",
   "id": "e8cff22b",
   "metadata": {
    "slideshow": {
     "slide_type": "slide"
    }
   },
   "source": [
    "# Outlook on sparse direct solvers\n",
    "\n",
    "* Sparse direct works well for 2D and almost-2D problems to medium large sizes\n",
    "  * High order FD methods make sparse direct cry\n",
    "  * Almost-2D includes a lot of industrial solid mechanics applications\n",
    "    * The body of a car, the frame of an airplane\n",
    "* Sparse direct is rarely usable in \"fully 3D\" problems\n",
    "  * \"thick\" structures\n",
    "    * soil mechanics, hydrology, building foundations, bones, tires\n",
    "  * fluid mechanics\n",
    "    * aerodynamics, heating/cooling systems, atmosphere/ocean\n",
    "* Setup cost (factorization) is much more expensive than solve\n",
    "  * Amortize cost in time-dependent problems\n",
    "    * Rosenbrock methods: factorization reused across stages\n",
    "    * \"lag\" Jacobian in Newton (results in \"modified Newton\")\n",
    "    * \"lag\" preconditioner with matrix-free iterative methods (Sundials, PETSc)\n",
    "  * Factorization pays off if you have many right hand sides"
   ]
  },
  {
   "cell_type": "markdown",
   "id": "747c829c",
   "metadata": {
    "slideshow": {
     "slide_type": "slide"
    }
   },
   "source": [
    "# Iterative solvers\n",
    "\n",
    "* Less reliable, more leaky abstraction\n",
    "* More sensitive to problem formulation\n",
    "* Slower for small problems\n",
    "* Several different strategies, each with tuning knobs\n",
    "* Accuracy tolerances needed"
   ]
  },
  {
   "cell_type": "markdown",
   "id": "e23ca6cf",
   "metadata": {
    "slideshow": {
     "slide_type": "fragment"
    }
   },
   "source": [
    "## $O(N)$ solvers available for many important problems\n",
    "* High-order discretization *can* be okay"
   ]
  }
 ],
 "metadata": {
  "@webio": {
   "lastCommId": null,
   "lastKernelId": null
  },
  "celltoolbar": "Slideshow",
  "kernelspec": {
   "display_name": "Julia 1.11.2",
   "language": "julia",
   "name": "julia-1.11"
  },
  "language_info": {
   "file_extension": ".jl",
   "mimetype": "application/julia",
   "name": "julia",
   "version": "1.11.2"
  },
  "rise": {
   "enable_chalkboard": true
  }
 },
 "nbformat": 4,
 "nbformat_minor": 5
}
