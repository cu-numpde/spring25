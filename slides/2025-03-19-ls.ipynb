{
 "cells": [
  {
   "cell_type": "markdown",
   "id": "3471b94b",
   "metadata": {
    "cell_style": "center",
    "slideshow": {
     "slide_type": "slide"
    }
   },
   "source": [
    "# 2025-03-19 Linear solvers"
   ]
  },
  {
   "cell_type": "markdown",
   "id": "4159be0e",
   "metadata": {
    "cell_style": "split",
    "slideshow": {
     "slide_type": ""
    }
   },
   "source": [
    "## Last time\n",
    "\n",
    "* Wave equation and Hamiltonians\n",
    "* Symplectic integrators\n",
    "\n",
    "## Today\n",
    "\n",
    "* Sparse direct solvers\n",
    "  * matrix orderings\n",
    "  * impact on formulation\n",
    "  * cost scaling"
   ]
  },
  {
   "cell_type": "code",
   "execution_count": null,
   "id": "e82d841d",
   "metadata": {
    "hideOutput": true,
    "slideshow": {
     "slide_type": "skip"
    }
   },
   "outputs": [],
   "source": [
    "using Plots\n",
    "default(linewidth=3)\n",
    "using LinearAlgebra\n",
    "using SparseArrays\n",
    "\n",
    "function my_spy(A)\n",
    "    cmax = norm(vec(A), Inf)\n",
    "    s = max(1, ceil(120 / size(A, 1)))\n",
    "    spy(A, marker=(:square, s), c=:diverging_rainbow_bgymr_45_85_c67_n256, clims=(-cmax, cmax))\n",
    "end\n",
    "    \n",
    "function plot_stability(Rz, title; xlims=(-2, 2), ylims=(-2, 2))\n",
    "    x = LinRange(xlims[1], xlims[2], 100)\n",
    "    y = LinRange(ylims[1], ylims[2], 100)\n",
    "    heatmap(x, y, (x, y) -> abs(Rz(x + 1im*y)), c=:bwr, clims=(0, 2), aspect_ratio=:equal, title=title)\n",
    "end\n",
    "\n",
    "struct RKTable\n",
    "    A::Matrix\n",
    "    b::Vector\n",
    "    c::Vector\n",
    "    function RKTable(A, b)\n",
    "        s = length(b)\n",
    "        A = reshape(A, s, s)\n",
    "        c = vec(sum(A, dims=2))\n",
    "        new(A, b, c)\n",
    "    end\n",
    "end\n",
    "\n",
    "function rk_stability(z, rk)\n",
    "    s = length(rk.b)\n",
    "    1 + z * rk.b' * ((I - z*rk.A) \\ ones(s))\n",
    "end\n",
    "\n",
    "rk4 = RKTable([0 0 0 0; .5 0 0 0; 0 .5 0 0; 0 0 1 0], [1, 2, 2, 1] / 6)\n",
    "\n",
    "function ode_rk_explicit(f, u0; tfinal=1., h=0.1, table=rk4)\n",
    "    u = copy(u0)\n",
    "    t = 0.\n",
    "    n, s = length(u), length(table.c)\n",
    "    fY = zeros(n, s)\n",
    "    thist = [t]\n",
    "    uhist = [u0]\n",
    "    while t < tfinal\n",
    "        tnext = min(t+h, tfinal)\n",
    "        h = tnext - t\n",
    "        for i in 1:s\n",
    "            ti = t + h * table.c[i]\n",
    "            Yi = u + h * sum(fY[:,1:i-1] * table.A[i,1:i-1], dims=2)\n",
    "            fY[:,i] = f(ti, Yi)\n",
    "        end\n",
    "        u += h * fY * table.b\n",
    "        t = tnext\n",
    "        push!(thist, t)\n",
    "        push!(uhist, u)\n",
    "    end\n",
    "    thist, hcat(uhist...)\n",
    "end"
   ]
  },
  {
   "cell_type": "code",
   "execution_count": null,
   "id": "d43b2f05",
   "metadata": {
    "cell_style": "split",
    "slideshow": {
     "slide_type": "skip"
    }
   },
   "outputs": [],
   "source": [
    "function laplacian_matrix(n)\n",
    "    h = 2 / n\n",
    "    rows = Vector{Int64}()\n",
    "    cols = Vector{Int64}()\n",
    "    vals = Vector{Float64}()\n",
    "    wrap(i) = (i + n - 1) % n + 1\n",
    "    idx(i, j) = (wrap(i)-1)*n + wrap(j)\n",
    "    stencil_diffuse = [-1, -1, 4, -1, -1] / h^2\n",
    "    for i in 1:n\n",
    "        for j in 1:n\n",
    "            append!(rows, repeat([idx(i,j)], 5))\n",
    "            append!(cols, [idx(i-1,j), idx(i,j-1), idx(i,j), idx(i+1,j), idx(i,j+1)])\n",
    "            append!(vals, stencil_diffuse)\n",
    "        end\n",
    "    end\n",
    "    sparse(rows, cols, vals)\n",
    "end"
   ]
  },
  {
   "cell_type": "code",
   "execution_count": null,
   "id": "08a74470",
   "metadata": {
    "cell_style": "split",
    "slideshow": {
     "slide_type": "skip"
    }
   },
   "outputs": [],
   "source": [
    "function wave_matrix(n; a=1)\n",
    "    Z = spzeros(n^2, n^2)\n",
    "    L = laplacian_matrix(n)\n",
    "    [Z I; -a^2*L Z]\n",
    "end"
   ]
  },
  {
   "cell_type": "code",
   "execution_count": null,
   "id": "eff4eda9",
   "metadata": {
    "cell_style": "split",
    "slideshow": {
     "slide_type": "skip"
    }
   },
   "outputs": [],
   "source": [
    "function energy(sol, n)\n",
    "    L = laplacian_matrix(n)\n",
    "    rho = sol[1:end÷2]\n",
    "    rhodot = sol[end÷2+1:end]\n",
    "    kinetic = .5 * norm(rhodot)^2\n",
    "    potential = .5 * rho' * L * rho\n",
    "    kinetic + potential\n",
    "end"
   ]
  },
  {
   "cell_type": "code",
   "execution_count": null,
   "id": "48d5c752",
   "metadata": {
    "cell_style": "split",
    "slideshow": {
     "slide_type": "skip"
    }
   },
   "outputs": [],
   "source": [
    "function wave_verlet(n, u0; tfinal=1., h=0.1)\n",
    "    L = laplacian_matrix(n)\n",
    "    u = copy(u0)\n",
    "    t = 0.\n",
    "    thist = [t]\n",
    "    uhist = [u0]\n",
    "    irho = 1:n^2\n",
    "    irhodot = n^2+1:2*n^2\n",
    "    accel = -L * u[irho]\n",
    "    while t < tfinal\n",
    "        tnext = min(t+h, tfinal)\n",
    "        h = tnext - t\n",
    "        u[irho] += h * u[irhodot] + h^2/2 * accel\n",
    "        accel_next = -L * u[irho]\n",
    "        u[irhodot] += h/2 * (accel + accel_next)\n",
    "        accel = accel_next\n",
    "        t = tnext\n",
    "        push!(thist, t)\n",
    "        push!(uhist, copy(u))\n",
    "    end\n",
    "    thist, hcat(uhist...)\n",
    "end"
   ]
  },
  {
   "cell_type": "markdown",
   "id": "b19fa945",
   "metadata": {
    "slideshow": {
     "slide_type": "slide"
    }
   },
   "source": [
    "# Start with advection-diffusion operator in 2D\n",
    "\n",
    "* Eliminate Dirichlet boundary conditions around all sides"
   ]
  },
  {
   "cell_type": "code",
   "execution_count": null,
   "id": "7d8f9b81",
   "metadata": {
    "cell_style": "split",
    "slideshow": {
     "slide_type": ""
    }
   },
   "outputs": [],
   "source": [
    "function advdiff_matrix(n; kappa=1, wind=[0, 0])\n",
    "    h = 2 / (n + 1)\n",
    "    rows = Vector{Int64}()\n",
    "    cols = Vector{Int64}()\n",
    "    vals = Vector{Float64}()\n",
    "    idx((i, j),) = (i-1)*n + j\n",
    "    in_domain((i, j),) = 1 <= i <= n && 1 <= j <= n # What does this do?\n",
    "    stencil_advect = [-wind[1], -wind[2], 0, wind[1], wind[2]] / h\n",
    "    stencil_diffuse = [-1, -1, 4, -1, -1] * kappa / h^2\n",
    "    stencil = stencil_advect + stencil_diffuse\n",
    "    for i in 1:n\n",
    "        for j in 1:n\n",
    "            neighbors = [(i-1, j), (i, j-1), (i, j), (i+1, j), (i, j+1)]\n",
    "            mask = in_domain.(neighbors)\n",
    "            append!(rows, idx.(repeat([(i,j)], 5))[mask])\n",
    "            append!(cols, idx.(neighbors)[mask])\n",
    "            append!(vals, stencil[mask])\n",
    "        end\n",
    "    end\n",
    "    sparse(rows, cols, vals)\n",
    "end"
   ]
  },
  {
   "cell_type": "code",
   "execution_count": null,
   "id": "d800d087",
   "metadata": {
    "cell_style": "split",
    "slideshow": {
     "slide_type": "subslide"
    }
   },
   "outputs": [],
   "source": [
    "A = advdiff_matrix(5, wind=[0, 0])\n",
    "@show norm(A - A') # Is this matrix symmetric?\n",
    "my_spy(A)"
   ]
  },
  {
   "cell_type": "markdown",
   "id": "02546117",
   "metadata": {},
   "source": [
    "**Question**: What structure does this matrix have?"
   ]
  },
  {
   "cell_type": "markdown",
   "id": "8ed327d8",
   "metadata": {
    "slideshow": {
     "slide_type": "fragment"
    }
   },
   "source": [
    "* Sparse\n",
    "* Symmetric (automatically Hermitian if real)\n",
    "* Banded. _Bandwidth_ is the smallest non-negative integer $k$ such that $A_{ij} = 0 \\;\\;  \\forall \\; |i - j| > k$. What is it?"
   ]
  },
  {
   "cell_type": "markdown",
   "id": "c1d1de84",
   "metadata": {
    "slideshow": {
     "slide_type": "slide"
    }
   },
   "source": [
    "# Direct methods\n",
    "\n",
    "Gaussian elimination and Cholesky"
   ]
  },
  {
   "cell_type": "markdown",
   "id": "550a9a20",
   "metadata": {
    "cell_style": "split"
   },
   "source": [
    "## $LU = A$ (Gaussian elimination / LU decomposition)\n",
    "Given a $2\\times 2$ block matrix, the algorithm proceeds as\n",
    "\\begin{split}\n",
    "  \\begin{bmatrix} A & B \\\\ C & D \\end{bmatrix} =\n",
    "  \\begin{bmatrix} L_A & \\\\ C U_A^{-1} & 1 \\end{bmatrix}\n",
    "  \\begin{bmatrix} U_A & L_A^{-1} B \\\\ & S \\end{bmatrix}\n",
    "\\end{split}\n",
    "where $L_A U_A = A$ and\n",
    "$$S = D - C \\underbrace{U_A^{-1} L_A^{-1}}_{A^{-1}} B  \\quad \\text{is the Schur complement of the block }A.$$\n",
    "\n",
    "## $L L^T = A$ [Cholesky](https://en.wikipedia.org/wiki/Cholesky_decomposition) decomposition\n",
    "\\begin{split}\n",
    "  \\begin{bmatrix} A & B^T \\\\ B & D \\end{bmatrix} =\n",
    "  \\begin{bmatrix} L_A & \\\\ B L_A^{-T} & 1 \\end{bmatrix}\n",
    "  \\begin{bmatrix} L_A^T & L_A^{-1} B^T \\\\ & S \\end{bmatrix}\n",
    "\\end{split}\n",
    "where $L_A L_A^T = A$ and\n",
    "$$ S = D - B \\underbrace{L_A^{-T} L_A^{-1}}_{A^{-1}} B^T .$$"
   ]
  },
  {
   "cell_type": "code",
   "execution_count": null,
   "id": "4e34481d",
   "metadata": {
    "cell_style": "split",
    "slideshow": {
     "slide_type": "subslide"
    }
   },
   "outputs": [],
   "source": [
    "A = advdiff_matrix(5)\n",
    "N = size(A, 1)\n",
    "ch = cholesky(A, perm=1:N)\n",
    "my_spy(A)\n",
    "my_spy(sparse(ch.L))"
   ]
  },
  {
   "cell_type": "markdown",
   "id": "012a1872",
   "metadata": {},
   "source": [
    "If $A$ was banded (e.g. tridiagonal), then Cholesky factor $L$ is also banded (with the same bandwidth!)"
   ]
  },
  {
   "cell_type": "markdown",
   "id": "0886cb0a",
   "metadata": {
    "slideshow": {
     "slide_type": "slide"
    }
   },
   "source": [
    "# Cost of a banded solve"
   ]
  },
  {
   "cell_type": "markdown",
   "id": "9253467c",
   "metadata": {
    "cell_style": "split",
    "slideshow": {
     "slide_type": ""
    }
   },
   "source": [
    "* Consider an $N\\times N$ matrix with bandwidth $b$, $1 \\le b \\le N$ (Thomas' algorithm)\n",
    "\n",
    "    * Work one row at a time\n",
    "    * Each row/column of panel has $b$ nonzeros\n",
    "    * Schur update affects $b\\times b$ sub-matrix\n",
    "    * Total compute cost $N b^2$\n",
    "    * Storage cost $N b$\n",
    "\n",
    "**Question**:\n",
    "* What bandwidth $b$ is needed for an $N = n\\times n \\times n$ cube in 3 dimensions?\n",
    "* What is the memory cost?\n",
    "* What is the compute cost?"
   ]
  },
  {
   "cell_type": "code",
   "execution_count": null,
   "id": "2417afdd",
   "metadata": {
    "cell_style": "split",
    "slideshow": {
     "slide_type": "subslide"
    }
   },
   "outputs": [],
   "source": [
    "my_spy(sparse(ch.L))"
   ]
  },
  {
   "cell_type": "markdown",
   "id": "6daa8565",
   "metadata": {
    "slideshow": {
     "slide_type": "slide"
    }
   },
   "source": [
    "# Different orderings"
   ]
  },
  {
   "cell_type": "code",
   "execution_count": null,
   "id": "0951307c",
   "metadata": {
    "cell_style": "split"
   },
   "outputs": [],
   "source": [
    "n = 20\n",
    "A = advdiff_matrix(n)\n",
    "heatmap(reshape(1:n^2, n, n))\n",
    "#reshape(1:n^2, n, n)"
   ]
  },
  {
   "cell_type": "markdown",
   "id": "000eb1a3",
   "metadata": {
    "slideshow": {
     "slide_type": "subslide"
    }
   },
   "source": [
    "## [Metis](https://github.com/JuliaSparse/Metis.jl)"
   ]
  },
  {
   "cell_type": "code",
   "execution_count": null,
   "id": "2eb468a1",
   "metadata": {
    "cell_style": "split",
    "slideshow": {
     "slide_type": "-"
    }
   },
   "outputs": [],
   "source": [
    "import Metis\n",
    "perm, iperm = Metis.permutation(A)\n",
    "heatmap(reshape(iperm, n, n))"
   ]
  },
  {
   "cell_type": "code",
   "execution_count": null,
   "id": "59338ca0",
   "metadata": {
    "cell_style": "split",
    "slideshow": {
     "slide_type": "subslide"
    }
   },
   "outputs": [],
   "source": [
    "cholesky(A, perm=1:n^2)"
   ]
  },
  {
   "cell_type": "code",
   "execution_count": null,
   "id": "96cd8cc0",
   "metadata": {
    "cell_style": "split"
   },
   "outputs": [],
   "source": [
    "cholesky(A, perm=Vector{Int64}(perm))"
   ]
  },
  {
   "cell_type": "markdown",
   "id": "87dfedb7",
   "metadata": {
    "slideshow": {
     "slide_type": "slide"
    }
   },
   "source": [
    "# Cholesky factors in nested dissection"
   ]
  },
  {
   "cell_type": "code",
   "execution_count": null,
   "id": "253f096e",
   "metadata": {
    "cell_style": "split"
   },
   "outputs": [],
   "source": [
    "n = 10\n",
    "A = advdiff_matrix(n)\n",
    "perm, iperm = Metis.permutation(A)\n",
    "my_spy(A[perm, perm])"
   ]
  },
  {
   "cell_type": "code",
   "execution_count": null,
   "id": "7e8edfc0",
   "metadata": {
    "cell_style": "split",
    "slideshow": {
     "slide_type": "subslide"
    }
   },
   "outputs": [],
   "source": [
    "ch = cholesky(A, perm=Vector{Int64}(perm))\n",
    "my_spy(sparse(ch.L))"
   ]
  },
  {
   "cell_type": "markdown",
   "id": "30b23f72",
   "metadata": {},
   "source": [
    "* The dense blocks in factor $L$ are \"supernodes\"\n",
    "* They correspond to \"vertex separators\" in the ordering"
   ]
  },
  {
   "cell_type": "markdown",
   "id": "3e1b993f",
   "metadata": {
    "slideshow": {
     "slide_type": "slide"
    }
   },
   "source": [
    "# Cost in nested dissection\n",
    "\n",
    "* Cost is dominated by dense factorization of the largest supernode\n",
    "* Its size comes from the vertex separator size"
   ]
  },
  {
   "cell_type": "markdown",
   "id": "e484cce5",
   "metadata": {
    "cell_style": "split"
   },
   "source": [
    "## 2D square\n",
    "\n",
    "* $N = n^2$ dofs\n",
    "* Vertex separator of size $n$\n",
    "* Compute cost $v^3 = N^{3/2}$\n",
    "* Storage cost $N \\log N$"
   ]
  },
  {
   "cell_type": "markdown",
   "id": "2126ddc9",
   "metadata": {
    "cell_style": "split"
   },
   "source": [
    "## 3D Cube\n",
    "\n",
    "* $N = n^3$ dofs\n",
    "* Vertex separator of size $v = n^2$\n",
    "* Compute cost $v^3 = n^6 = N^2$\n",
    "* Storage cost $v^2 = n^4 = N^{4/3}$"
   ]
  },
  {
   "cell_type": "markdown",
   "id": "619ad110",
   "metadata": {
    "slideshow": {
     "slide_type": "subslide"
    }
   },
   "source": [
    "## Questions\n",
    "\n",
    "1. How much does the cost change if we switch from Dirichlet to periodic boundary conditions in 2D?\n",
    "2. How much does the cost change if we move from 5-point stencil ($O(h^2)$ accuracy) to 9-point \"star\" stencil ($O(h^4)$ accuracy)?\n",
    "3. Would you rather solve a 3D problem on a $10\\times 10\\times 10000$ grid or $100\\times 100 \\times 100$?"
   ]
  },
  {
   "cell_type": "markdown",
   "id": "7ecb54f8",
   "metadata": {
    "slideshow": {
     "slide_type": "slide"
    }
   },
   "source": [
    "# Test our intuition"
   ]
  },
  {
   "cell_type": "code",
   "execution_count": null,
   "id": "846554fb",
   "metadata": {
    "cell_style": "split"
   },
   "outputs": [],
   "source": [
    "n = 50\n",
    "A_dirichlet = advdiff_matrix(n)\n",
    "perm, iperm = Metis.permutation(A_dirichlet)\n",
    "cholesky(A_dirichlet, perm=Vector{Int64}(perm))\n",
    "#cholesky(A_dirichlet)"
   ]
  },
  {
   "cell_type": "code",
   "execution_count": null,
   "id": "bdfe8e0b",
   "metadata": {
    "cell_style": "split"
   },
   "outputs": [],
   "source": [
    "A_periodic = laplacian_matrix(n) + 1e-10*I # To make it num psd\n",
    "perm, iperm = Metis.permutation(A_periodic)\n",
    "ch = cholesky(A_periodic, perm=Vector{Int64}(perm))\n",
    "#cholesky(A_periodic)\n",
    "my_spy(sparse(ch.L))"
   ]
  },
  {
   "cell_type": "markdown",
   "id": "8bd923b9",
   "metadata": {
    "slideshow": {
     "slide_type": "slide"
    }
   },
   "source": [
    "# How expensive how fast?\n",
    "\n",
    "Suppose we have a second order accurate method in 3D."
   ]
  },
  {
   "cell_type": "code",
   "execution_count": null,
   "id": "a65f23cb",
   "metadata": {
    "cell_style": "split"
   },
   "outputs": [],
   "source": [
    "n = 2. .^ (2:13)\n",
    "N = n.^3\n",
    "error = (50 ./ n) .^ 2\n",
    "seconds = 1e-10 * N.^2\n",
    "hours = seconds / 3600\n",
    "cloud_dollars = 3 * hours\n",
    "kW_hours = 0.2 * hours\n",
    "barrel_of_oil = kW_hours / 1700\n",
    "kg_CO2 = kW_hours * 0.709\n",
    ";"
   ]
  },
  {
   "cell_type": "code",
   "execution_count": null,
   "id": "89d6e67a",
   "metadata": {
    "cell_style": "split"
   },
   "outputs": [],
   "source": [
    "cost = hours\n",
    "plot(cost, error, xlabel=\"cost\", ylabel=\"error\", xscale=:log10, yscale=:log10)"
   ]
  },
  {
   "cell_type": "markdown",
   "id": "d050af8e",
   "metadata": {
    "slideshow": {
     "slide_type": "fragment"
    }
   },
   "source": [
    "* [Barrel of oil equivalent](https://en.wikipedia.org/wiki/Barrel_of_oil_equivalent)\n",
    "* [Electricity emission factor](https://www.epa.gov/energy/greenhouse-gases-equivalencies-calculator-calculations-and-references)"
   ]
  },
  {
   "cell_type": "markdown",
   "id": "e8cff22b",
   "metadata": {
    "slideshow": {
     "slide_type": "slide"
    }
   },
   "source": [
    "# Outlook on sparse direct solvers\n",
    "\n",
    "* Sparse direct works well for 2D and almost-2D problems to medium large sizes\n",
    "  * High order FD methods make sparse direct cry\n",
    "  * Almost-2D includes a lot of industrial solid mechanics applications\n",
    "    * The body of a car, the frame of an airplane\n",
    "* Sparse direct is rarely usable in \"fully 3D\" problems\n",
    "  * \"thick\" structures\n",
    "    * soil mechanics, hydrology, building foundations, bones, tires\n",
    "  * fluid mechanics\n",
    "    * aerodynamics, heating/cooling systems, atmosphere/ocean\n",
    "* Setup cost (factorization) is much more expensive than solve\n",
    "  * Amortize cost in time-dependent problems\n",
    "    * Rosenbrock methods: factorization reused across stages\n",
    "    * \"lag\" Jacobian in Newton (results in \"modified Newton\")\n",
    "    * \"lag\" preconditioner with matrix-free iterative methods (Sundials, PETSc)\n",
    "  * Factorization pays off if you have many right hand sides"
   ]
  },
  {
   "cell_type": "markdown",
   "id": "747c829c",
   "metadata": {
    "slideshow": {
     "slide_type": "slide"
    }
   },
   "source": [
    "# Iterative solvers\n",
    "\n",
    "* Less reliable, more leaky abstraction\n",
    "* More sensitive to problem formulation\n",
    "* Slower for small problems\n",
    "* Several different strategies, each with tuning knobs\n",
    "* Accuracy tolerances needed"
   ]
  },
  {
   "cell_type": "markdown",
   "id": "e23ca6cf",
   "metadata": {
    "slideshow": {
     "slide_type": "fragment"
    }
   },
   "source": [
    "## $O(N)$ solvers available for many important problems\n",
    "* High-order discretization *can* be okay"
   ]
  }
 ],
 "metadata": {
  "@webio": {
   "lastCommId": null,
   "lastKernelId": null
  },
  "celltoolbar": "Slideshow",
  "kernelspec": {
   "display_name": "Julia 1.11.2",
   "language": "julia",
   "name": "julia-1.11"
  },
  "language_info": {
   "file_extension": ".jl",
   "mimetype": "application/julia",
   "name": "julia",
   "version": "1.11.2"
  },
  "rise": {
   "enable_chalkboard": true
  }
 },
 "nbformat": 4,
 "nbformat_minor": 5
}
